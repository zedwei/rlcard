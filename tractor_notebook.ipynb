{
 "metadata": {
  "language_info": {
   "codemirror_mode": {
    "name": "ipython",
    "version": 3
   },
   "file_extension": ".py",
   "mimetype": "text/x-python",
   "name": "python",
   "nbconvert_exporter": "python",
   "pygments_lexer": "ipython3",
   "version": "3.7.8"
  },
  "orig_nbformat": 2,
  "kernelspec": {
   "name": "python378jvsc74a57bd057baa5815c940fdaff4d14510622de9616cae602444507ba5d0b6727c008cbd6",
   "display_name": "Python 3.7.8 64-bit"
  },
  "metadata": {
   "interpreter": {
    "hash": "57baa5815c940fdaff4d14510622de9616cae602444507ba5d0b6727c008cbd6"
   }
  }
 },
 "nbformat": 4,
 "nbformat_minor": 2,
 "cells": [
  {
   "cell_type": "code",
   "execution_count": null,
   "metadata": {},
   "outputs": [],
   "source": [
    "# test Dealer.shuffle and cards2str functions\n",
    "\n",
    "import numpy as np\n",
    "from rlcard.games.tractor.dealer import TractorDealer\n",
    "\n",
    "np_random = np.random.RandomState()\n",
    "dealer = TractorDealer(np_random)\n",
    "dealer.shuffle()\n",
    "print(dealer.deck)"
   ]
  },
  {
   "cell_type": "code",
   "execution_count": null,
   "metadata": {},
   "outputs": [],
   "source": [
    "# test Judger.playable_cards_from_hand function\n",
    "\n",
    "from rlcard.games.tractor.judger import TractorJudger\n",
    "\n",
    "print(TractorJudger.playable_cards_from_hand(['AD','9H','KC','KC','AC','AC','3D','3D','7H','BJ','BJ','RJ','RJ','AD','2D','2D','2H','2H','2S','2S','AS','AS','AD','AD']))"
   ]
  },
  {
   "cell_type": "code",
   "execution_count": null,
   "metadata": {},
   "outputs": [],
   "source": [
    "# test Player.available_actions function\n",
    "\n",
    "from rlcard.games.tractor import Game\n",
    "import numpy as np\n",
    "\n",
    "game = Game()\n",
    "game.init_game()\n",
    "\n",
    "print(game.players[0].current_hand)\n",
    "playable_cards = game.judger.get_playable_cards(game.players[0])\n",
    "print(playable_cards)\n",
    "played_cards = max(playable_cards, key=len)\n",
    "\n",
    "game.players[0].played_cards = played_cards\n",
    "#game.players[0].played_cards = cards2str([game.players[0].current_hand[10]])\n",
    "print(game.players[0].played_cards)\n",
    "print(game.players[1].current_hand)\n",
    "available_actions = game.players[1].available_actions(game.players[0], game.judger, game.round)\n",
    "print(available_actions)\n"
   ]
  },
  {
   "cell_type": "code",
   "execution_count": null,
   "metadata": {},
   "outputs": [],
   "source": [
    "''' Test for round.calc_score_in_round\n",
    "'''\n",
    "import numpy as np\n",
    "from rlcard.games.tractor import Round\n",
    "\n",
    "\n",
    "np_random = np.random.RandomState()\n",
    "round = Round(np_random)\n",
    "\n",
    "round.current_round = [['5S','TS'], ['5H','5S'], ['3S'], ['KH']]\n",
    "print(round.calc_score_in_round())\n"
   ]
  },
  {
   "cell_type": "code",
   "execution_count": null,
   "metadata": {},
   "outputs": [],
   "source": [
    "''' generate action space\n",
    "'''\n",
    "import numpy as np\n",
    "from rlcard.games.tractor import Dealer, Judger\n",
    "\n",
    "np_random = np.random.RandomState()\n",
    "dealer = Dealer(np)\n",
    "\n",
    "cards = dealer.deck\n",
    "# print(cards)\n",
    "\n",
    "actions = Judger.playable_cards_from_hand(cards)\n",
    "actions.sort()\n",
    "\n",
    "actions.extend(['pass', 'pass_score'])\n",
    "print(actions)\n",
    "# print(len(actions))\n",
    "\n",
    "action_index = {','.join(actions[x]):x for x in range(len(actions))}\n",
    "print(action_index)\n",
    "print(len(action_index.keys()))\n",
    "\n"
   ]
  },
  {
   "cell_type": "code",
   "execution_count": null,
   "metadata": {},
   "outputs": [],
   "source": [
    "''' Test Game class\n",
    "'''\n",
    "from rlcard.games.tractor import Game\n",
    "\n",
    "game = Game()\n",
    "state, player_id = game.init_game()\n",
    "\n",
    "print(state, \"\\r\\n\")\n",
    "\n",
    "while not game.is_over():\n",
    "     state, next_id = game.step(state['actions'][0])\n",
    "     print(state, \"\\r\\n\")\n",
    "\n",
    "print(state)\n",
    "\n"
   ]
  },
  {
   "cell_type": "code",
   "execution_count": null,
   "metadata": {
    "tags": []
   },
   "outputs": [],
   "source": [
    "''' Test Game class perf\n",
    "'''\n",
    "from tqdm import tqdm\n",
    "from rlcard.games.tractor import Game\n",
    "import cProfile\n",
    "\n",
    "def run():\n",
    "    for iter in tqdm(range(1000)):\n",
    "        state, player_id = game.init_game()\n",
    "        while not game.is_over():\n",
    "            state, next_id = game.step(state['actions'][0])\n",
    "\n",
    "game = Game()\n",
    "cProfile.run('run()')\n",
    "\n",
    "\n",
    "\n"
   ]
  },
  {
   "cell_type": "code",
   "execution_count": 1,
   "metadata": {},
   "outputs": [
    {
     "output_type": "stream",
     "name": "stdout",
     "text": [
      "WARNING:tensorflow:From d:\\Projects\\rlcard\\rlcard\\utils\\utils.py:335: The name tf.set_random_seed is deprecated. Please use tf.compat.v1.set_random_seed instead.\n",
      "\n",
      "WARNING:tensorflow:From d:\\Projects\\rlcard\\rlcard\\models\\tractor_pretrained_models.py:26: The name tf.ConfigProto is deprecated. Please use tf.compat.v1.ConfigProto instead.\n",
      "\n",
      "WARNING:tensorflow:From d:\\Projects\\rlcard\\rlcard\\models\\tractor_pretrained_models.py:29: The name tf.Session is deprecated. Please use tf.compat.v1.Session instead.\n",
      "\n",
      "WARNING:tensorflow:From d:\\Projects\\rlcard\\rlcard\\agents\\nfsp_agent.py:115: The name tf.variable_scope is deprecated. Please use tf.compat.v1.variable_scope instead.\n",
      "\n",
      "WARNING:tensorflow:From d:\\Projects\\rlcard\\rlcard\\agents\\dqn_agent.py:294: The name tf.placeholder is deprecated. Please use tf.compat.v1.placeholder instead.\n",
      "\n",
      "WARNING:tensorflow:\n",
      "The TensorFlow contrib module will not be included in TensorFlow 2.0.\n",
      "For more information, please see:\n",
      "  * https://github.com/tensorflow/community/blob/master/rfcs/20180907-contrib-sunset.md\n",
      "  * https://github.com/tensorflow/addons\n",
      "  * https://github.com/tensorflow/io (for I/O related ops)\n",
      "If you depend on functionality not listed there, please file an issue.\n",
      "\n",
      "WARNING:tensorflow:From C:\\Users\\RanW\\AppData\\Roaming\\Python\\Python37\\site-packages\\tensorflow_core\\contrib\\layers\\python\\layers\\layers.py:1634: flatten (from tensorflow.python.layers.core) is deprecated and will be removed in a future version.\n",
      "Instructions for updating:\n",
      "Use keras.layers.flatten instead.\n",
      "WARNING:tensorflow:From C:\\Users\\RanW\\AppData\\Roaming\\Python\\Python37\\site-packages\\tensorflow_core\\python\\layers\\core.py:332: Layer.apply (from tensorflow.python.keras.engine.base_layer) is deprecated and will be removed in a future version.\n",
      "Instructions for updating:\n",
      "Please use `layer.__call__` method instead.\n",
      "WARNING:tensorflow:From d:\\Projects\\rlcard\\rlcard\\agents\\dqn_agent.py:319: The name tf.squared_difference is deprecated. Please use tf.math.squared_difference instead.\n",
      "\n",
      "WARNING:tensorflow:From d:\\Projects\\rlcard\\rlcard\\agents\\dqn_agent.py:280: The name tf.get_collection is deprecated. Please use tf.compat.v1.get_collection instead.\n",
      "\n",
      "WARNING:tensorflow:From d:\\Projects\\rlcard\\rlcard\\agents\\dqn_agent.py:280: The name tf.GraphKeys is deprecated. Please use tf.compat.v1.GraphKeys instead.\n",
      "\n",
      "WARNING:tensorflow:From d:\\Projects\\rlcard\\rlcard\\agents\\dqn_agent.py:280: The name tf.get_variable_scope is deprecated. Please use tf.compat.v1.get_variable_scope instead.\n",
      "\n",
      "WARNING:tensorflow:From d:\\Projects\\rlcard\\rlcard\\agents\\dqn_agent.py:282: The name tf.train.AdamOptimizer is deprecated. Please use tf.compat.v1.train.AdamOptimizer instead.\n",
      "\n",
      "WARNING:tensorflow:From d:\\Projects\\rlcard\\rlcard\\agents\\dqn_agent.py:285: get_global_step (from tensorflow.contrib.framework.python.ops.variables) is deprecated and will be removed in a future version.\n",
      "Instructions for updating:\n",
      "Please switch to tf.train.get_global_step\n",
      "WARNING:tensorflow:From d:\\Projects\\rlcard\\rlcard\\agents\\nfsp_agent.py:141: batch_normalization (from tensorflow.python.layers.normalization) is deprecated and will be removed in a future version.\n",
      "Instructions for updating:\n",
      "Use keras.layers.BatchNormalization instead.  In particular, `tf.control_dependencies(tf.GraphKeys.UPDATE_OPS)` should not be used (consult the `tf.keras.layers.batch_normalization` documentation).\n",
      "WARNING:tensorflow:From d:\\Projects\\rlcard\\rlcard\\models\\tractor_pretrained_models.py:59: The name tf.train.Saver is deprecated. Please use tf.compat.v1.train.Saver instead.\n",
      "\n",
      "INFO:tensorflow:Restoring parameters from d:\\Projects\\rlcard\\rlcard\\models\\tractorV2\\nfsp_100k_selftrain\\model\n"
     ]
    }
   ],
   "source": [
    "import rlcard\n",
    "from rlcard.utils import set_global_seed\n",
    "from rlcard import models\n",
    "\n",
    "# Make environment\n",
    "env = rlcard.make('tractor', config={'seed': 0})\n",
    "\n",
    "# Set a global seed\n",
    "set_global_seed(0)\n",
    "\n",
    "# Here we directly load NFSP models from /models module\n",
    "nfsp_agents = models.load('tractor_nfsp_v1').agents\n"
   ]
  },
  {
   "cell_type": "code",
   "execution_count": 7,
   "metadata": {},
   "outputs": [
    {
     "output_type": "stream",
     "name": "stdout",
     "text": [
      "['6H', '6H', '9H', 'KH', '3C', '4C', '6C', 'TC', 'QC', 'QC', 'AC', '3D', '5D', '7D', 'TD', 'JD', '5S', '7S', '8S', 'JS', 'JS', 'QS', 'KS', '2H', '2D', '2D', 'BJ']\n['3H', '4H', '7H', '8H', 'JH', 'KH', 'AH', 'AH', '5C', '6C', '7C', '7C', '8C', '9C', 'KC', '4D', '6D', 'TD', 'QD', 'KD', '4S', '4S', 'QS', 'KS', 'AS', '2C', '2C']\n['3H', '5H', '5H', '8H', '3C', '4C', '9C', 'TC', 'JC', 'JC', 'KC', 'AC', '5D', '6D', '7D', '8D', '9D', 'JD', 'QD', 'AD', '3S', '6S', '9S', 'TS', 'AS', '2H', 'RJ']\n['4H', '7H', '9H', 'TH', 'TH', 'JH', 'QH', 'QH', '5C', '8C', '3D', '4D', '8D', '9D', 'KD', 'AD', '3S', '5S', '6S', '7S', '8S', '9S', 'TS', '2S', '2S', 'BJ', 'RJ']\n6H,6H,9H,KH,3C,4C,6C,TC,QC,QC,AC,3D,5D,7D,TD,JD,5S,7S,8S,JS,JS,QS,KS,2H,2D,2D,BJ\nAC\n[('AC', 10.5446), ('QC,QC', 6.1647), ('TC', 5.9553), ('KS', 4.8418), ('2D,2D', 3.4689), ('5D', 3.3776), ('6H,6H', 2.9697), ('KH', 2.3745), ('6C', 2.3535), ('5S', 2.0993), ('3C', 1.8686), ('6H', 1.7954), ('BJ', 1.7065), ('4C', 1.6222), ('9H', 1.352), ('QC', 1.2338), ('JS,JS', 1.2194), ('TD', 1.0034), ('3D', 0.661), ('7S', 0.6013), ('JS', 0.2924), ('QS', 0.1095), ('2H', 0.083), ('8S', -0.1196), ('7D', -0.6301), ('2D', -1.3448), ('JD', -1.9215)]\n\n6H,6H,9H,KH,3C,4C,6C,TC,QC,QC,3D,5D,7D,TD,JD,5S,7S,8S,JS,JS,QS,KS,2H,2D,2D,BJ\nQC,QC\n[('QC,QC', 4.4583), ('TC', 4.224), ('KS', 4.0457), ('2D,2D', 3.7375), ('5D', 3.1034), ('5S', 2.2333), ('6C', 2.1704), ('6H,6H', 2.1038), ('KH', 2.0962), ('BJ', 1.7095), ('3C', 1.6376), ('4C', 1.5597), ('6H', 1.2225), ('JS,JS', 1.1999), ('9H', 0.8099), ('7S', 0.6892), ('3D', 0.6868), ('QC', 0.4501), ('TD', 0.1839), ('JS', 0.1313), ('8S', 0.0488), ('2H', 0.0438), ('QS', 0.038), ('7D', -0.3093), ('2D', -1.2693), ('JD', -1.8136)]\n\n6H,6H,9H,KH,3C,4C,6C,TC,3D,5D,7D,TD,JD,5S,7S,8S,JS,JS,QS,KS,2H,2D,2D,BJ\nTC\n[('TC', 5.618), ('5D', 4.4925), ('KS', 4.1568), ('2D,2D', 3.942), ('6C', 3.6858), ('3C', 3.5235), ('4C', 3.3265), ('5S', 2.9036), ('6H,6H', 2.6206), ('BJ', 2.5795), ('KH', 2.2109), ('TD', 1.8172), ('6H', 1.7479), ('9H', 1.4288), ('JS,JS', 1.1954), ('3D', 1.1509), ('7S', 1.0771), ('2H', 0.6168), ('JS', 0.4528), ('8S', 0.3195), ('QS', 0.2639), ('7D', 0.2262), ('2D', -1.0113), ('JD', -1.1123)]\n\n6H,6H,9H,KH,3C,4C,6C,3D,5D,7D,TD,JD,5S,7S,8S,JS,JS,QS,KS,2H,2D,2D,BJ\n2D,2D\n[('2D,2D', 1.2092), ('JS,JS', -0.738)]\n\n6H,6H,9H,KH,3C,4C,6C,3D,5D,7D,TD,JD,5S,7S,8S,JS,JS,QS,KS,2H,BJ\n6H,6H\n[('6H,6H', -0.4197)]\n\n9H,KH,3C,4C,6C,3D,5D,7D,TD,JD,5S,7S,8S,JS,JS,QS,KS,2H,BJ\nJS,JS\n[('JS,JS', 9.5026)]\n\n9H,KH,3C,4C,6C,3D,5D,7D,TD,JD,5S,7S,8S,QS,KS,2H,BJ\nKH\n[('KH', 11.5318), ('KS', 6.1781), ('TD', 4.5894), ('5D', 3.9935), ('5S', 3.215), ('6C', 2.8042), ('3C', 2.6371), ('4C', 2.1532), ('BJ', 2.0623), ('9H', 1.044), ('3D', 0.699), ('7S', 0.6941), ('2H', 0.6863), ('7D', 0.594), ('QS', 0.4673), ('8S', 0.125), ('JD', -0.0448)]\n\n9H,3C,4C,6C,3D,5D,7D,TD,JD,5S,7S,8S,QS,KS,2H,BJ\nKS\n[('KS', 6.5468), ('5D', 4.4792), ('TD', 4.394), ('5S', 3.5174), ('6C', 2.7454), ('4C', 2.5571), ('3C', 2.5285), ('BJ', 2.4915), ('9H', 1.5255), ('2H', 1.2441), ('3D', 1.099), ('7D', 0.7239), ('7S', 0.693), ('QS', 0.6497), ('8S', 0.4701), ('JD', 0.1057)]\n\n9H,3C,4C,6C,3D,5D,7D,TD,JD,5S,7S,8S,QS,2H,BJ\nTD\n[('TD', 8.6555), ('5D', 5.8189), ('3D', 2.0501), ('JD', 1.5188), ('7D', 0.9105)]\n\n9H,3C,4C,6C,3D,5D,7D,JD,5S,7S,8S,QS,2H,BJ\n4C\n[('4C', 7.0825), ('6C', 6.8618), ('3C', 6.8501)]\n\n9H,3C,6C,3D,5D,7D,JD,5S,7S,8S,QS,2H,BJ\npass\n[('pass', 7.4286)]\n\n6C,3D,5D,7D,JD,5S,7S,8S,QS,2H,BJ\n5S\n[('5S', 3.4868), ('BJ', 2.5352), ('2H', 1.7003), ('QS', 1.234), ('8S', 0.9168), ('7S', 0.6757)]\n\n6C,3D,5D,7D,JD,7S,8S,QS,2H,BJ\n5D\n[('5D', 5.3354), ('7D', 2.116), ('3D', 2.0364), ('JD', 0.8721)]\n\n6C,3D,7D,JD,7S,8S,QS,2H,BJ\nQS\n[('QS', 0.9109), ('8S', 0.8622), ('BJ', 0.8582), ('2H', 0.8521), ('7S', 0.7221)]\n\n6C,3D,7D,JD,7S,8S,2H,BJ\nJD\n[('JD', 3.4203), ('7D', 1.079), ('3D', 0.9037)]\n\n6C,3D,7D,7S,8S,2H,BJ\n2H\n[('2H', 2.3829), ('BJ', 2.1189), ('6C', 1.7551), ('8S', 1.5466), ('7S', 1.5001), ('3D', 0.9582), ('7D', 0.8883)]\n\n6C,3D,7D,7S,8S,BJ\nBJ\n[('BJ', 2.4346), ('6C', 1.8194), ('7S', 1.6809), ('8S', 1.532), ('3D', 0.8188), ('7D', 0.6521)]\n\n6C,3D,7D,7S,8S\n6C\n[('6C', 2.1782), ('7S', 1.9896), ('8S', 1.8481), ('3D', 1.0847), ('7D', 0.7541)]\n\n3D,7D,7S,8S\n7S\n[('7S', 1.8902), ('8S', 1.7335), ('3D', 0.9193), ('7D', 0.4198)]\n\n3D,7D,8S\n8S\n[('8S', 2.0333), ('3D', 0.8126), ('7D', 0.3446)]\n\n3D,7D\n3D\n[('3D', 1.2551), ('7D', 0.9334)]\n\n7D\n7D\n[('7D', -0.0051)]\n\n"
     ]
    }
   ],
   "source": [
    "from rlcard.agents import RandomAgent, TractorRuleAgent\n",
    "\n",
    "# Evaluate the performance. Play with random agents.\n",
    "random_agent = RandomAgent(env.action_num)\n",
    "rule_agent = TractorRuleAgent(env.action_num)\n",
    "\n",
    "# env.set_agents([random_agent, random_agent, random_agent, random_agent])\n",
    "\n",
    "# env.set_agents([nfsp_agents[0], random_agent, random_agent, random_agent])\n",
    "# env.set_agents([nfsp_agents[0], random_agent, nfsp_agents[1], random_agent])\n",
    "# env.set_agents([nfsp_agents[0], nfsp_agents[1],nfsp_agents[2],nfsp_agents[3]])\n",
    "\n",
    "# env.set_agents([rule_agent, rule_agent, rule_agent, rule_agent])\n",
    "# env.set_agents([nfsp_agents[0], rule_agent, rule_agent, rule_agent])\n",
    "env.set_agents([nfsp_agents[0], rule_agent, nfsp_agents[0], rule_agent])\n",
    "\n",
    "_trajectories, _payoffs = env.run(is_training=False, debug=True)\n",
    "\n"
   ]
  },
  {
   "cell_type": "code",
   "execution_count": 8,
   "metadata": {},
   "outputs": [
    {
     "output_type": "stream",
     "name": "stdout",
     "text": [
      "Round 0:\n6H,6H,9H,KH,3C,4C,6C,TC,QC,QC,AC,3D,5D,7D,TD,JD,5S,7S,8S,JS,JS,QS,KS,2H,2D,2D,BJ\nAction: AC\n[(0, ['AC']), (1, ['KC']), (2, ['TC']), (3, ['8C'])]\nScore: 1 : 1\n\nRound 1:\n6H,6H,9H,KH,3C,4C,6C,TC,QC,QC,3D,5D,7D,TD,JD,5S,7S,8S,JS,JS,QS,KS,2H,2D,2D,BJ\nAction: QC,QC\n[(0, ['QC', 'QC']), (1, ['7C', '7C']), (2, ['JC', 'JC']), (3, ['5C', '4H'])]\nScore: 1 : 1\n\nRound 2:\n6H,6H,9H,KH,3C,4C,6C,TC,3D,5D,7D,TD,JD,5S,7S,8S,JS,JS,QS,KS,2H,2D,2D,BJ\nAction: TC\n[(0, ['TC']), (1, ['9C']), (2, ['KC']), (3, ['RJ'])]\nScore: 1 : 1\n\nRound 3:\n6H,6H,9H,KH,3C,4C,6C,3D,5D,7D,TD,JD,5S,7S,8S,JS,JS,QS,KS,2H,2D,2D,BJ\nAction: 2D,2D\n[(3, ['2S', '2S']), (0, ['2D', '2D']), (1, ['2C', '2C']), (2, ['3S', '6S'])]\nScore: 1 : 1\n\nRound 4:\n6H,6H,9H,KH,3C,4C,6C,3D,5D,7D,TD,JD,5S,7S,8S,JS,JS,QS,KS,2H,BJ\nAction: 6H,6H\n[(3, ['QH', 'QH']), (0, ['6H', '6H']), (1, ['AH', 'AH']), (2, ['5H', '5H'])]\nScore: 1 : 1\n\nRound 5:\n9H,KH,3C,4C,6C,3D,5D,7D,TD,JD,5S,7S,8S,JS,JS,QS,KS,2H,BJ\nAction: JS,JS\n[(1, ['4S', '4S']), (2, ['9S', 'TS']), (3, ['3S', '5S']), (0, ['JS', 'JS'])]\nScore: 1 : 1\n\nRound 6:\n9H,KH,3C,4C,6C,3D,5D,7D,TD,JD,5S,7S,8S,QS,KS,2H,BJ\nAction: KH\n[(0, ['KH']), (1, ['KH']), (2, ['3H']), (3, ['JH'])]\nScore: 1 : 1\n\nRound 7:\n9H,3C,4C,6C,3D,5D,7D,TD,JD,5S,7S,8S,QS,KS,2H,BJ\nAction: KS\n[(0, ['KS']), (1, ['AS']), (2, ['RJ']), (3, ['BJ'])]\nScore: 1 : 1\n\nRound 8:\n9H,3C,4C,6C,3D,5D,7D,TD,JD,5S,7S,8S,QS,2H,BJ\nAction: TD\n[(2, ['AD']), (3, ['AD']), (0, ['TD']), (1, ['KD'])]\nScore: 1 : 1\n\nRound 9:\n9H,3C,4C,6C,3D,5D,7D,JD,5S,7S,8S,QS,2H,BJ\nAction: 4C\n[(2, ['AC']), (3, ['TS']), (0, ['4C']), (1, ['8C'])]\nScore: 1 : 1\n\nRound 10:\n9H,3C,6C,3D,5D,7D,JD,5S,7S,8S,QS,2H,BJ\nAction: pass\n[(3, ['TH', 'TH']), (0, ['9H', '3C']), (1, ['3H', '4H']), (2, ['8H', '3C'])]\nScore: 1 : 1\n\nRound 11:\n6C,3D,5D,7D,JD,5S,7S,8S,QS,2H,BJ\nAction: 5S\n[(3, ['9S']), (0, ['5S']), (1, ['KS']), (2, ['2H'])]\nScore: 1 : 1\n\nRound 12:\n6C,3D,5D,7D,JD,7S,8S,QS,2H,BJ\nAction: 5D\n[(2, ['QD']), (3, ['KD']), (0, ['5D']), (1, ['QD'])]\nScore: 1 : 1\n\nRound 13:\n6C,3D,7D,JD,7S,8S,QS,2H,BJ\nAction: QS\n[(3, ['8S']), (0, ['QS']), (1, ['QS']), (2, ['AS'])]\nScore: 1 : 1\n\nRound 14:\n6C,3D,7D,JD,7S,8S,2H,BJ\nAction: JD\n[(2, ['5D']), (3, ['9D']), (0, ['JD']), (1, ['6D'])]\nScore: 1 : 1\n\nRound 15:\n6C,3D,7D,7S,8S,2H,BJ\nAction: 2H\n[(0, ['2H']), (1, ['7H']), (2, ['4C']), (3, ['7S'])]\nScore: 1 : 1\n\nRound 16:\n6C,3D,7D,7S,8S,BJ\nAction: BJ\n[(0, ['BJ']), (1, ['8H']), (2, ['9C']), (3, ['6S'])]\nScore: 1 : 1\n\nRound 17:\n6C,3D,7D,7S,8S\nAction: 6C\n[(0, ['6C']), (1, ['5C']), (2, ['6D']), (3, ['7H'])]\nScore: 1 : 1\n\nRound 18:\n3D,7D,7S,8S\nAction: 7S\n[(0, ['7S']), (1, ['JH']), (2, ['7D']), (3, ['9H'])]\nScore: 1 : 1\n\nRound 19:\n3D,7D,8S\nAction: 8S\n[(0, ['8S']), (1, ['6C']), (2, ['8D']), (3, ['3D'])]\nScore: 1 : 1\n\nRound 20:\n3D,7D\nAction: 3D\n[(0, ['3D']), (1, ['TD']), (2, ['JD']), (3, ['8D'])]\nScore: 1 : 1\n\nRound 21:\n7D\nAction: 7D\n[(2, ['9D']), (3, ['4D']), (0, ['7D']), (1, ['4D'])]\nScore: 1 : 1\n\n[125, 75]\n"
     ]
    }
   ],
   "source": [
    "# from rlcard.games.tractor.utils import tournament_tractor\n",
    "# evaluate_num = 1000\n",
    "# reward = tournament_tractor(env, evaluate_num)\n",
    "# print('Average win rate: ', reward)\n",
    "\n",
    "import numpy as np\n",
    "from rlcard.games.tractor.utils import CARD_RANK_STR, ACTION_LIST\n",
    "\n",
    "for i in range(len(_trajectories[0])):\n",
    "    cards = []\n",
    "    for j in range(len(CARD_RANK_STR)):\n",
    "        if _trajectories[0][i][0]['obs'][0][1][j] == 1:\n",
    "            cards.append(CARD_RANK_STR[j])\n",
    "        if _trajectories[0][i][0]['obs'][0][2][j] == 1:\n",
    "            cards.append(CARD_RANK_STR[j])\n",
    "            cards.append(CARD_RANK_STR[j])\n",
    "    print(\"Round {}:\".format(i))\n",
    "    print(','.join(cards))\n",
    "    print('Action: {}'.format(ACTION_LIST[_trajectories[0][i][1]]))\n",
    "    print(env.game.round.trace[i*4:(i+1)*4])\n",
    "    print(\"Score: {} : {}\".format(_trajectories[0][i][0]['obs'][5][0][0], _trajectories[0][i][0]['obs'][5][0][1]))\n",
    "    print()\n",
    "\n",
    "print(env.game.round.score)\n"
   ]
  },
  {
   "cell_type": "code",
   "execution_count": null,
   "metadata": {},
   "outputs": [],
   "source": []
  }
 ]
}