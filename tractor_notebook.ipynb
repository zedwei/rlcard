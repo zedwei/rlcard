{
 "metadata": {
  "language_info": {
   "codemirror_mode": {
    "name": "ipython",
    "version": 3
   },
   "file_extension": ".py",
   "mimetype": "text/x-python",
   "name": "python",
   "nbconvert_exporter": "python",
   "pygments_lexer": "ipython3",
   "version": "3.7.8"
  },
  "orig_nbformat": 2,
  "kernelspec": {
   "name": "python378jvsc74a57bd057baa5815c940fdaff4d14510622de9616cae602444507ba5d0b6727c008cbd6",
   "display_name": "Python 3.7.8 64-bit"
  },
  "metadata": {
   "interpreter": {
    "hash": "57baa5815c940fdaff4d14510622de9616cae602444507ba5d0b6727c008cbd6"
   }
  }
 },
 "nbformat": 4,
 "nbformat_minor": 2,
 "cells": [
  {
   "cell_type": "code",
   "execution_count": null,
   "metadata": {},
   "outputs": [],
   "source": [
    "# test Dealer.shuffle and cards2str functions\n",
    "\n",
    "import numpy as np\n",
    "from rlcard.games.tractor.dealer import TractorDealer\n",
    "from rlcard.games.tractor.utils import cards2str\n",
    "\n",
    "np_random = np.random.RandomState()\n",
    "dealer = TractorDealer(np_random)\n",
    "dealer.shuffle()\n",
    "print(cards2str(dealer.deck))"
   ]
  },
  {
   "cell_type": "code",
   "execution_count": null,
   "metadata": {},
   "outputs": [],
   "source": [
    "# test Judger.playable_cards_from_hand function\n",
    "\n",
    "from rlcard.games.tractor.judger import TractorJudger\n",
    "\n",
    "print(TractorJudger.playable_cards_from_hand(\"AD,9H,KC,KC,AC,AC,3D,3D,7H,BJ,BJ,RJ,RJ,AD,2D,2D,2H,2H,2S,2S,AS,AS,AD,AD\"))"
   ]
  },
  {
   "cell_type": "code",
   "execution_count": null,
   "metadata": {},
   "outputs": [],
   "source": [
    "# test Player.available_actions function\n",
    "\n",
    "from rlcard.games.tractor import Game\n",
    "from rlcard.games.tractor.utils import cards2str\n",
    "import numpy as np\n",
    "\n",
    "game = Game()\n",
    "game.init_game()\n",
    "\n",
    "print(cards2str(game.players[0].current_hand))\n",
    "playable_cards = game.judger.get_playable_cards(game.players[0])\n",
    "print(playable_cards)\n",
    "played_cards = max(playable_cards, key=len)\n",
    "\n",
    "game.players[0].played_cards = cards2str([played_cards])\n",
    "#game.players[0].played_cards = cards2str([game.players[0].current_hand[10]])\n",
    "print(game.players[0].played_cards)\n",
    "print(cards2str(game.players[1].current_hand))\n",
    "available_actions = game.players[1].available_actions(game.players[0], game.judger, game.round)\n",
    "print(available_actions)\n"
   ]
  },
  {
   "cell_type": "code",
   "execution_count": null,
   "metadata": {},
   "outputs": [],
   "source": [
    "''' Test for round.calc_score_in_round\n",
    "'''\n",
    "import numpy as np\n",
    "from rlcard.games.tractor import Round\n",
    "\n",
    "\n",
    "np_random = np.random.RandomState()\n",
    "round = Round(np_random)\n",
    "\n",
    "round.current_round = ['5S,TS', '5H,5S', '3S', 'KH']\n",
    "print(round.calc_score_in_round())\n"
   ]
  },
  {
   "cell_type": "code",
   "execution_count": null,
   "metadata": {},
   "outputs": [],
   "source": [
    "''' generate action space\n",
    "'''\n",
    "import numpy as np\n",
    "from rlcard.games.tractor import Dealer, Judger\n",
    "from rlcard.games.tractor.utils import cards2str\n",
    "\n",
    "np_random = np.random.RandomState()\n",
    "dealer = Dealer(np)\n",
    "\n",
    "cards = cards2str(dealer.deck)\n",
    "# print(cards)\n",
    "\n",
    "actions = list(Judger.playable_cards_from_hand(cards))\n",
    "actions.sort()\n",
    "\n",
    "actions.extend(['pass', 'pass_score'])\n",
    "print(actions)\n",
    "# print(len(actions))\n",
    "\n",
    "action_index = {actions[x]:x for x in range(len(actions))}\n",
    "print(action_index)\n",
    "print(len(action_index.keys()))\n",
    "\n"
   ]
  },
  {
   "cell_type": "code",
   "execution_count": 106,
   "metadata": {
    "tags": []
   },
   "outputs": [
    {
     "output_type": "stream",
     "name": "stdout",
     "text": [
      "{'deck': '2C,3H,TC,8D,TS,8C,2H,5H,KH,AD,3C,TH,AH,7C,4S,8C,JD,5H,8H,KC,TD,3D,TH,3S,5C,KD,6H,QD,9C,2D,AS,8D,JS,JC,6D,2C,RJ,4H,3D,KH,5C,5S,9D,QH,6C,AC,JD,AH,6H,4C,KC,4H,JH,QC,9S,TS,QS,9C,7S,6D,8S,6S,3H,5D,QC,KS,2S,QS,JH,7S,QH,6S,7C,7D,BJ,7H,3C,AC,TC,KS,JS,9H,TD,8H,6C,BJ,4S,3S,9D,KD,QD,4D,9S,2D,RJ,7H,AS,4C,2H,JC', 'banker_cards': '2S,5S,AD,9H,4D,8S,5D,7D', 'banker_id': 0, 'trace': [], 'self': 0, 'initial_hand': '3H,5H,5H,8H,TH,TH,KH,AH,3C,5C,7C,8C,8C,TC,KC,3D,8D,TD,JD,AD,3S,4S,TS,2H,2C', 'current_hand': '3H,5H,5H,8H,TH,TH,KH,AH,3C,5C,7C,8C,8C,TC,KC,3D,8D,TD,JD,AD,3S,4S,TS,2H,2C', 'others_hand': ['3H,4H,4H,6H,6H,7H,7H,8H,9H,JH,JH,QH,QH,KH,AH,3C,4C,4C,5C,6C,6C,7C,9C,9C,TC,JC,JC,QC,QC,KC,AC,AC,3D,4D,5D,6D,6D,7D,8D,9D,9D,TD,JD,QD,QD,KD,KD,3S,4S,5S,6S,6S,7S,7S,8S,9S,9S,TS,JS,JS,QS,QS,KS,KS,AS,AS,2H,2C,2D,2D,2S,2S,5S,AD,9H,4D,8S,5D,7D,BJ,BJ,RJ,RJ', '3H,4H,4H,6H,6H,7H,7H,8H,9H,JH,JH,QH,QH,KH,AH,3C,4C,4C,5C,6C,6C,7C,9C,9C,TC,JC,JC,QC,QC,KC,AC,AC,3D,4D,5D,6D,6D,7D,8D,9D,9D,TD,JD,QD,QD,KD,KD,3S,4S,5S,6S,6S,7S,7S,8S,9S,9S,TS,JS,JS,QS,QS,KS,KS,AS,AS,2H,2C,2D,2D,2S,2S,5S,AD,9H,4D,8S,5D,7D,BJ,BJ,RJ,RJ', '3H,4H,4H,6H,6H,7H,7H,8H,9H,JH,JH,QH,QH,KH,AH,3C,4C,4C,5C,6C,6C,7C,9C,9C,TC,JC,JC,QC,QC,KC,AC,AC,3D,4D,5D,6D,6D,7D,8D,9D,9D,TD,JD,QD,QD,KD,KD,3S,4S,5S,6S,6S,7S,7S,8S,9S,9S,TS,JS,JS,QS,QS,KS,KS,AS,AS,2H,2C,2D,2D,2S,2S,5S,AD,9H,4D,8S,5D,7D,BJ,BJ,RJ,RJ'], 'current_round': [None, None, None, None], 'current_player_id': 0, 'first_player_id': 0, 'greater_player_id': 0, 'actions': ['AH', 'KH', '4S', 'TH,TH', 'TC', '2H', 'TH', 'TD', 'JD', '3S', '8C,8C', '3D', '3H', '5H,5H', '2C', '5C', '8C', '8H', '8D', '7C', 'AD', 'KC', 'TS', '5H', '3C']}\n{'deck': '2C,3H,TC,8D,TS,8C,2H,5H,KH,AD,3C,TH,AH,7C,4S,8C,JD,5H,8H,KC,TD,3D,TH,3S,5C,KD,6H,QD,9C,2D,AS,8D,JS,JC,6D,2C,RJ,4H,3D,KH,5C,5S,9D,QH,6C,AC,JD,AH,6H,4C,KC,4H,JH,QC,9S,TS,QS,9C,7S,6D,8S,6S,3H,5D,QC,KS,2S,QS,JH,7S,QH,6S,7C,7D,BJ,7H,3C,AC,TC,KS,JS,9H,TD,8H,6C,BJ,4S,3S,9D,KD,QD,4D,9S,2D,RJ,7H,AS,4C,2H,JC', 'banker_cards': '2S,5S,AD,9H,4D,8S,5D,7D', 'banker_id': 0, 'trace': [(0, 'AH'), (1, 'AH'), (2, 'QH'), (3, '8H'), (0, 'KH'), (1, 'KH'), (2, '3H'), (3, '7H'), (0, '4S'), (1, 'RJ'), (2, '2S'), (3, '4S'), (1, 'JC'), (2, 'QC'), (3, 'TC'), (0, 'TC'), (2, '7S'), (3, '2H'), (0, '2H'), (1, '5S'), (3, 'JC'), (0, '5C'), (1, '5C'), (2, 'QC'), (2, '7S'), (3, '3S'), (0, '3S'), (1, 'AS'), (1, '2C'), (2, '9S'), (3, '9S'), (0, '2C'), (1, '4C'), (2, '7C'), (3, '4C'), (0, '7C'), (2, '7D'), (3, 'KD'), (0, 'AD'), (1, 'KD'), (0, '8C'), (1, '9C'), (2, '9C'), (3, 'AC'), (3, '9H'), (0, '8H'), (1, '6H'), (2, '4H'), (3, '7H'), (0, 'TH'), (1, '6H'), (2, 'JH'), (2, 'KS'), (3, 'KS'), (0, 'TS'), (1, '2D'), (1, 'AC'), (2, 'KC'), (3, '6C'), (0, '8C'), (1, '6C'), (2, 'QS'), (3, '3C'), (0, 'KC'), (2, 'QS'), (3, 'RJ'), (0, '3H'), (1, 'JS'), (3, '2D'), (0, '5H'), (1, '4H'), (2, '6S'), (3, 'JS'), (0, '5H'), (1, 'QH'), (2, '6S'), (3, 'BJ'), (0, 'TH'), (1, '3D'), (2, 'TS'), (3, 'TD'), (0, '3D'), (1, '6D'), (2, '5D'), (3, 'QD'), (0, '8D'), (1, 'QD'), (2, '6D'), (3, 'AS'), (0, '3C'), (1, '8D'), (2, 'BJ'), (2, 'JH'), (3, '4D'), (0, 'TD'), (1, '9D'), (2, '8S'), (3, '9D'), (0, 'JD'), (1, 'JD')], 'self': 2, 'initial_hand': '3H,4H,JH,JH,QH,7C,9C,QC,QC,KC,5D,6D,7D,6S,6S,7S,7S,8S,9S,TS,QS,QS,KS,2S,BJ', 'current_hand': '', 'others_hand': ['2S,5S,AD,9H,4D,8S,5D,7D', '2S,5S,AD,9H,4D,8S,5D,7D', '2S,5S,AD,9H,4D,8S,5D,7D'], 'current_round': [None, None, None, None], 'current_player_id': 2, 'first_player_id': 2, 'greater_player_id': 2, 'actions': None}\n[100, 90]\n[0, 2]\n"
     ]
    }
   ],
   "source": [
    "''' Test Game class\n",
    "'''\n",
    "\n",
    "from rlcard.games.tractor import Game\n",
    "\n",
    "game = Game()\n",
    "state, player_id = game.init_game()\n",
    "print(state)\n",
    "\n",
    "while not game.is_over():\n",
    "    try:\n",
    "        state, next_id = game.step(state['actions'][0])\n",
    "    except:\n",
    "        print(state['trace'])\n",
    "        break\n",
    "\n",
    "print(state)\n",
    "print(game.round.score)\n",
    "print(game.winner_id)\n",
    "\n"
   ]
  },
  {
   "cell_type": "code",
   "execution_count": null,
   "metadata": {},
   "outputs": [],
   "source": [
    "''' test Tractor env\n",
    "'''\n",
    "\n"
   ]
  }
 ]
}