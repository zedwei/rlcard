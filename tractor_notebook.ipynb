{
 "metadata": {
  "language_info": {
   "codemirror_mode": {
    "name": "ipython",
    "version": 3
   },
   "file_extension": ".py",
   "mimetype": "text/x-python",
   "name": "python",
   "nbconvert_exporter": "python",
   "pygments_lexer": "ipython3",
   "version": "3.7.8"
  },
  "orig_nbformat": 2,
  "kernelspec": {
   "name": "python378jvsc74a57bd057baa5815c940fdaff4d14510622de9616cae602444507ba5d0b6727c008cbd6",
   "display_name": "Python 3.7.8 64-bit"
  },
  "metadata": {
   "interpreter": {
    "hash": "57baa5815c940fdaff4d14510622de9616cae602444507ba5d0b6727c008cbd6"
   }
  }
 },
 "nbformat": 4,
 "nbformat_minor": 2,
 "cells": [
  {
   "cell_type": "code",
   "execution_count": null,
   "metadata": {},
   "outputs": [],
   "source": [
    "# test Dealer.shuffle and cards2str functions\n",
    "\n",
    "import numpy as np\n",
    "from rlcard.games.tractor.dealer import TractorDealer\n",
    "\n",
    "np_random = np.random.RandomState()\n",
    "dealer = TractorDealer(np_random)\n",
    "dealer.shuffle()\n",
    "print(dealer.deck)"
   ]
  },
  {
   "cell_type": "code",
   "execution_count": null,
   "metadata": {},
   "outputs": [],
   "source": [
    "# test Judger.playable_cards_from_hand function\n",
    "\n",
    "from rlcard.games.tractor.judger import TractorJudger\n",
    "\n",
    "print(TractorJudger.playable_cards_from_hand(['AD','9H','KC','KC','AC','AC','3D','3D','7H','BJ','BJ','RJ','RJ','AD','2D','2D','2H','2H','2S','2S','AS','AS','AD','AD']))"
   ]
  },
  {
   "cell_type": "code",
   "execution_count": null,
   "metadata": {},
   "outputs": [],
   "source": [
    "# test Player.available_actions function\n",
    "\n",
    "from rlcard.games.tractor import Game\n",
    "import numpy as np\n",
    "\n",
    "game = Game()\n",
    "game.init_game()\n",
    "\n",
    "print(game.players[0].current_hand)\n",
    "playable_cards = game.judger.get_playable_cards(game.players[0])\n",
    "print(playable_cards)\n",
    "played_cards = max(playable_cards, key=len)\n",
    "\n",
    "game.players[0].played_cards = played_cards\n",
    "#game.players[0].played_cards = cards2str([game.players[0].current_hand[10]])\n",
    "print(game.players[0].played_cards)\n",
    "print(game.players[1].current_hand)\n",
    "available_actions = game.players[1].available_actions(game.players[0], game.judger, game.round)\n",
    "print(available_actions)\n"
   ]
  },
  {
   "cell_type": "code",
   "execution_count": null,
   "metadata": {},
   "outputs": [],
   "source": [
    "''' Test for round.calc_score_in_round\n",
    "'''\n",
    "import numpy as np\n",
    "from rlcard.games.tractor import Round\n",
    "\n",
    "\n",
    "np_random = np.random.RandomState()\n",
    "round = Round(np_random)\n",
    "\n",
    "round.current_round = [['5S','TS'], ['5H','5S'], ['3S'], ['KH']]\n",
    "print(round.calc_score_in_round())\n"
   ]
  },
  {
   "cell_type": "code",
   "execution_count": null,
   "metadata": {},
   "outputs": [],
   "source": [
    "''' generate action space\n",
    "'''\n",
    "import numpy as np\n",
    "from rlcard.games.tractor import Dealer, Judger\n",
    "\n",
    "np_random = np.random.RandomState()\n",
    "dealer = Dealer(np)\n",
    "\n",
    "cards = dealer.deck\n",
    "# print(cards)\n",
    "\n",
    "actions = Judger.playable_cards_from_hand(cards)\n",
    "actions.sort()\n",
    "\n",
    "actions.extend(['pass', 'pass_score'])\n",
    "print(actions)\n",
    "# print(len(actions))\n",
    "\n",
    "action_index = {','.join(actions[x]):x for x in range(len(actions))}\n",
    "print(action_index)\n",
    "print(len(action_index.keys()))\n",
    "\n"
   ]
  },
  {
   "cell_type": "code",
   "execution_count": null,
   "metadata": {},
   "outputs": [],
   "source": [
    "''' Test Game class\n",
    "'''\n",
    "from rlcard.games.tractor import Game\n",
    "\n",
    "game = Game()\n",
    "state, player_id = game.init_game()\n",
    "\n",
    "print(state, \"\\r\\n\")\n",
    "\n",
    "while not game.is_over():\n",
    "     state, next_id = game.step(state['actions'][0])\n",
    "     print(state, \"\\r\\n\")\n",
    "\n",
    "print(state)\n",
    "\n"
   ]
  },
  {
   "cell_type": "code",
   "execution_count": null,
   "metadata": {
    "tags": []
   },
   "outputs": [],
   "source": [
    "''' Test Game class perf\n",
    "'''\n",
    "from tqdm import tqdm\n",
    "from rlcard.games.tractor import Game\n",
    "import cProfile\n",
    "\n",
    "def run():\n",
    "    for iter in tqdm(range(1000)):\n",
    "        state, player_id = game.init_game()\n",
    "        while not game.is_over():\n",
    "            state, next_id = game.step(state['actions'][0])\n",
    "\n",
    "game = Game()\n",
    "cProfile.run('run()')\n",
    "\n",
    "\n",
    "\n"
   ]
  },
  {
   "cell_type": "code",
   "execution_count": 1,
   "metadata": {},
   "outputs": [
    {
     "output_type": "stream",
     "name": "stdout",
     "text": [
      "WARNING:tensorflow:From d:\\Projects\\rlcard\\rlcard\\utils\\utils.py:335: The name tf.set_random_seed is deprecated. Please use tf.compat.v1.set_random_seed instead.\n",
      "\n",
      "WARNING:tensorflow:From d:\\Projects\\rlcard\\rlcard\\models\\tractor_pretrained_models.py:26: The name tf.ConfigProto is deprecated. Please use tf.compat.v1.ConfigProto instead.\n",
      "\n",
      "WARNING:tensorflow:From d:\\Projects\\rlcard\\rlcard\\models\\tractor_pretrained_models.py:29: The name tf.Session is deprecated. Please use tf.compat.v1.Session instead.\n",
      "\n",
      "WARNING:tensorflow:From d:\\Projects\\rlcard\\rlcard\\agents\\nfsp_agent.py:116: The name tf.variable_scope is deprecated. Please use tf.compat.v1.variable_scope instead.\n",
      "\n",
      "WARNING:tensorflow:From d:\\Projects\\rlcard\\rlcard\\agents\\dqn_agent.py:286: The name tf.placeholder is deprecated. Please use tf.compat.v1.placeholder instead.\n",
      "\n",
      "WARNING:tensorflow:\n",
      "The TensorFlow contrib module will not be included in TensorFlow 2.0.\n",
      "For more information, please see:\n",
      "  * https://github.com/tensorflow/community/blob/master/rfcs/20180907-contrib-sunset.md\n",
      "  * https://github.com/tensorflow/addons\n",
      "  * https://github.com/tensorflow/io (for I/O related ops)\n",
      "If you depend on functionality not listed there, please file an issue.\n",
      "\n",
      "WARNING:tensorflow:From C:\\Users\\RanW\\AppData\\Roaming\\Python\\Python37\\site-packages\\tensorflow_core\\contrib\\layers\\python\\layers\\layers.py:1634: flatten (from tensorflow.python.layers.core) is deprecated and will be removed in a future version.\n",
      "Instructions for updating:\n",
      "Use keras.layers.flatten instead.\n",
      "WARNING:tensorflow:From C:\\Users\\RanW\\AppData\\Roaming\\Python\\Python37\\site-packages\\tensorflow_core\\python\\layers\\core.py:332: Layer.apply (from tensorflow.python.keras.engine.base_layer) is deprecated and will be removed in a future version.\n",
      "Instructions for updating:\n",
      "Please use `layer.__call__` method instead.\n",
      "WARNING:tensorflow:From d:\\Projects\\rlcard\\rlcard\\agents\\dqn_agent.py:311: The name tf.squared_difference is deprecated. Please use tf.math.squared_difference instead.\n",
      "\n",
      "WARNING:tensorflow:From d:\\Projects\\rlcard\\rlcard\\agents\\dqn_agent.py:272: The name tf.get_collection is deprecated. Please use tf.compat.v1.get_collection instead.\n",
      "\n",
      "WARNING:tensorflow:From d:\\Projects\\rlcard\\rlcard\\agents\\dqn_agent.py:272: The name tf.GraphKeys is deprecated. Please use tf.compat.v1.GraphKeys instead.\n",
      "\n",
      "WARNING:tensorflow:From d:\\Projects\\rlcard\\rlcard\\agents\\dqn_agent.py:272: The name tf.get_variable_scope is deprecated. Please use tf.compat.v1.get_variable_scope instead.\n",
      "\n",
      "WARNING:tensorflow:From d:\\Projects\\rlcard\\rlcard\\agents\\dqn_agent.py:274: The name tf.train.AdamOptimizer is deprecated. Please use tf.compat.v1.train.AdamOptimizer instead.\n",
      "\n",
      "WARNING:tensorflow:From d:\\Projects\\rlcard\\rlcard\\agents\\dqn_agent.py:277: get_global_step (from tensorflow.contrib.framework.python.ops.variables) is deprecated and will be removed in a future version.\n",
      "Instructions for updating:\n",
      "Please switch to tf.train.get_global_step\n",
      "WARNING:tensorflow:From d:\\Projects\\rlcard\\rlcard\\agents\\nfsp_agent.py:142: batch_normalization (from tensorflow.python.layers.normalization) is deprecated and will be removed in a future version.\n",
      "Instructions for updating:\n",
      "Use keras.layers.BatchNormalization instead.  In particular, `tf.control_dependencies(tf.GraphKeys.UPDATE_OPS)` should not be used (consult the `tf.keras.layers.batch_normalization` documentation).\n",
      "WARNING:tensorflow:From d:\\Projects\\rlcard\\rlcard\\models\\tractor_pretrained_models.py:59: The name tf.train.Saver is deprecated. Please use tf.compat.v1.train.Saver instead.\n",
      "\n",
      "INFO:tensorflow:Restoring parameters from d:\\Projects\\rlcard\\rlcard\\models\\tractorV2\\nfsp_continue_350k_0.99\\model\n"
     ]
    }
   ],
   "source": [
    "import rlcard\n",
    "from rlcard.utils import set_global_seed\n",
    "from rlcard import models\n",
    "\n",
    "# Make environment\n",
    "env = rlcard.make('tractor', config={'seed': 0})\n",
    "\n",
    "# Set a global seed\n",
    "set_global_seed(0)\n",
    "\n",
    "# Here we directly load NFSP models from /models module\n",
    "nfsp_agents = models.load('tractor_nfsp_v1').agents\n"
   ]
  },
  {
   "cell_type": "code",
   "execution_count": 10,
   "metadata": {},
   "outputs": [
    {
     "output_type": "stream",
     "name": "stdout",
     "text": [
      "['4H', '5H', '6H', '8H', 'TH', 'JH', 'AH', '7C', '9C', 'TC', 'TC', 'JC', 'QC', '9D', 'TD', 'KD', '5S', '5S', '6S', '6S', '7S', 'TS', 'QS', 'AS', '2S', 'BJ', 'RJ']\n['5H', '7H', '8H', 'TH', 'QH', 'AH', '4C', '6C', 'KC', 'KC', '4D', '5D', '7D', '8D', 'TD', 'JD', 'KD', 'AD', '3S', '4S', '8S', 'JS', 'QS', 'KS', 'AS', '2C', '2D']\n['6H', '9H', 'QH', 'KH', '3C', '5C', '7C', '8C', '8C', '9C', 'QC', 'AC', '3D', '6D', '8D', '9D', 'JD', 'AD', '3S', '4S', '7S', 'TS', 'JS', 'KS', '2C', '2S', 'RJ']\n['3H', '3H', '4H', '7H', '9H', 'JH', 'KH', '3C', '4C', '5C', '6C', 'JC', 'AC', '3D', '4D', '5D', '6D', '7D', 'QD', 'QD', '8S', '9S', '9S', '2H', '2H', '2D', 'BJ']\n4H,5H,6H,8H,TH,JH,AH,7C,9C,TC,TC,JC,QC,9D,TD,KD,5S,5S,6S,6S,7S,TS,QS,AS,2S,BJ,RJ\n5S,5S,6S,6S\n[('5S,5S,6S,6S', 23.0654), ('TC,TC', 15.6139), ('RJ', 10.2873), ('AH', 9.5308), ('TD', 6.2484), ('BJ', 5.7719), ('TC', 5.2713), ('TH', 5.1007), ('TS', 4.5397), ('8H', 4.3513), ('KD', 4.1811), ('5H', 3.9064), ('2S', 3.4427), ('4H', 3.4032), ('9C', 3.1985), ('7S', 3.1267), ('5S', 3.0321), ('9D', 2.9419), ('JC', 2.6466), ('7C', 2.1389), ('JH', 2.0122), ('6S', 1.9743), ('QS', 1.9314), ('6H', 1.7037), ('5S,5S', 1.2357), ('QC', 1.1291), ('AS', -0.0054), ('6S,6S', -0.5131)]\n\n4H,5H,6H,8H,TH,JH,AH,7C,9C,TC,TC,JC,QC,9D,TD,KD,7S,TS,QS,AS,2S,BJ,RJ\nTC,TC\n[('TC,TC', 18.1596), ('AH', 8.7929), ('RJ', 8.6823), ('TD', 8.2219), ('TH', 7.167), ('5H', 5.7694), ('TC', 5.5167), ('BJ', 5.0667), ('KD', 4.5182), ('8H', 4.4482), ('TS', 4.1213), ('4H', 3.4171), ('2S', 2.689), ('9D', 2.6784), ('7S', 2.5218), ('JH', 2.5149), ('6H', 2.5007), ('9C', 2.458), ('7C', 1.9468), ('JC', 1.5701), ('QS', 0.9217), ('AS', 0.1723), ('QC', -0.1965)]\n\n4H,5H,6H,8H,TH,JH,AH,7C,9C,JC,QC,9D,TD,KD,7S,TS,QS,AS,2S,BJ,RJ\n5H\n[('5H', -0.0478), ('4H', -0.1851), ('6H', -0.3471), ('AH', -0.9607), ('8H', -1.0745), ('JH', -1.4049), ('TH', -1.9296)]\n\n4H,6H,8H,TH,JH,AH,7C,9C,JC,QC,9D,TD,KD,7S,TS,QS,AS,2S,BJ,RJ\nTH\n[('TH', 31.093), ('JH', 21.5613), ('AH', 20.6397), ('8H', 18.9144), ('6H', 18.1791), ('4H', 18.1087)]\n\n4H,6H,8H,JH,AH,7C,9C,JC,QC,9D,TD,KD,7S,TS,QS,AS,2S,BJ,RJ\nKD\n[('KD', 10.8398), ('TD', 9.8993), ('9D', 0.1897)]\n\n4H,6H,8H,JH,AH,7C,9C,JC,QC,9D,TD,7S,TS,QS,AS,2S,BJ,RJ\nTS\n[('TS', 12.9433), ('7S', 1.8475), ('2S', 1.5399), ('RJ', 1.4817), ('BJ', 1.0386), ('QS', 1.0378), ('AS', 0.8555)]\n\n4H,6H,8H,JH,AH,7C,9C,JC,QC,9D,TD,7S,QS,AS,2S,BJ,RJ\nTD\n[('TD', 4.1368), ('9D', 1.8852)]\n\n4H,6H,8H,JH,AH,7C,9C,JC,QC,9D,7S,QS,AS,2S,BJ,RJ\n9D\n[('9D', 1.3972)]\n\n4H,6H,8H,JH,AH,7C,9C,JC,QC,7S,QS,AS,2S,BJ,RJ\n7C\n[('7C', 4.7564), ('QC', 4.5691), ('9C', 4.1127), ('JC', 3.6363)]\n\n4H,6H,8H,JH,AH,9C,JC,QC,7S,QS,AS,2S,BJ,RJ\nRJ\n[('RJ', 12.0805), ('2S', -0.0049), ('7S', -0.6151), ('QS', -0.7484), ('AS', -1.1017), ('BJ', -1.4739)]\n\n4H,6H,8H,JH,AH,9C,JC,QC,7S,QS,AS,2S,BJ\nAH\n[('AH', 0.8298), ('2S', 0.6901), ('9C', 0.6271), ('6H', 0.4222), ('QC', 0.3488), ('8H', 0.2857), ('BJ', 0.0954), ('JC', 0.0649), ('4H', 0.0062), ('7S', -0.0337), ('QS', -0.8005), ('JH', -0.8308), ('AS', -1.1184)]\n\n4H,6H,8H,JH,9C,JC,QC,7S,QS,AS,2S,BJ\n9C\n[('9C', 1.0111), ('2S', 0.8291), ('QC', 0.4399), ('JC', 0.3764), ('6H', -0.1287), ('7S', -0.178), ('BJ', -0.3015), ('8H', -0.4489), ('QS', -0.5081), ('4H', -0.5388), ('AS', -0.8209), ('JH', -1.5407)]\n\n4H,6H,8H,JH,JC,QC,7S,QS,AS,2S,BJ\n2S\n[('2S', 1.9384), ('QS', 1.2789), ('7S', 1.271), ('AS', 0.9738), ('BJ', 0.878), ('pass', -0.6375)]\n\n4H,6H,8H,JH,JC,QC,7S,QS,AS,BJ\nQC\n[('QC', 0.0457), ('BJ', -0.2167), ('4H', -0.342), ('QS', -0.4515), ('6H', -0.4671), ('7S', -0.6909), ('JC', -0.7642), ('AS', -0.7934), ('8H', -0.8975), ('JH', -1.7032)]\n\n4H,6H,8H,JH,JC,7S,QS,AS,BJ\n4H\n[('4H', -0.0968), ('8H', -0.2652), ('6H', -0.3009), ('JH', -1.8713)]\n\n6H,8H,JH,JC,7S,QS,AS,BJ\n8H\n[('8H', 0.0692), ('6H', -0.345), ('JH', -0.6558)]\n\n6H,JH,JC,7S,QS,AS,BJ\n7S\n[('7S', 0.8815), ('QS', 0.6077), ('AS', 0.3168), ('pass', -0.0341), ('BJ', -0.0415)]\n\n6H,JH,JC,QS,AS,BJ\n6H\n[('6H', 0.3018), ('BJ', -0.1538), ('JH', -0.1793), ('QS', -0.2356), ('AS', -0.6601), ('JC', -0.9578)]\n\nJH,JC,QS,AS,BJ\nBJ\n[('BJ', 0.1536), ('pass', -0.0804), ('AS', -0.4792), ('QS', -0.5355)]\n\nJH,JC,QS,AS\nJH\n[('JH', -0.237), ('QS', -0.5735), ('AS', -0.7234), ('JC', -1.1056)]\n\nJC,QS,AS\nQS\n[('QS', -0.4864), ('AS', -0.8848)]\n\nJC,AS\nJC\n[('JC', -1.1151)]\n\nAS\npass\n[('pass', 0.5431), ('AS', -0.8574)]\n\n"
     ]
    }
   ],
   "source": [
    "from rlcard.agents import RandomAgent, TractorRuleAgent\n",
    "\n",
    "# Evaluate the performance. Play with random agents.\n",
    "random_agent = RandomAgent(env.action_num)\n",
    "rule_agent = TractorRuleAgent(env.action_num)\n",
    "\n",
    "# env.set_agents([random_agent, random_agent, random_agent, random_agent])\n",
    "\n",
    "# env.set_agents([nfsp_agents[0], random_agent, random_agent, random_agent])\n",
    "# env.set_agents([nfsp_agents[0], random_agent, nfsp_agents[1], random_agent])\n",
    "# env.set_agents([nfsp_agents[0], nfsp_agents[1],nfsp_agents[2],nfsp_agents[3]])\n",
    "\n",
    "# env.set_agents([rule_agent, rule_agent, rule_agent, rule_agent])\n",
    "# env.set_agents([nfsp_agents[0], rule_agent, rule_agent, rule_agent])\n",
    "# env.set_agents([nfsp_agents[0], rule_agent, nfsp_agents[0], rule_agent])\n",
    "env.set_agents([nfsp_agents[0], nfsp_agents[0], nfsp_agents[0], nfsp_agents[0]])\n",
    "\n",
    "_trajectories, _payoffs = env.run(is_training=False, debug=True)\n",
    "\n"
   ]
  },
  {
   "cell_type": "code",
   "execution_count": 11,
   "metadata": {},
   "outputs": [
    {
     "output_type": "stream",
     "name": "stdout",
     "text": [
      "Round 0:\n4H,5H,6H,8H,TH,JH,AH,7C,9C,TC,TC,JC,QC,9D,TD,KD,5S,5S,6S,6S,7S,TS,QS,AS,2S,BJ,RJ\n3H,3H,4H,5H,6H,7H,7H,8H,9H,9H,TH,JH,QH,QH,KH,KH,AH,3C,3C,4C,4C,5C,5C,6C,6C,7C,8C,8C,9C,JC,QC,KC,KC,AC,AC,3D,3D,4D,4D,5D,5D,6D,6D,7D,7D,8D,8D,9D,TD,JD,JD,QD,QD,KD,AD,AD,3S,3S,4S,4S,7S,8S,8S,9S,9S,TS,JS,JS,QS,KS,KS,AS,2H,2H,2C,2C,2D,2D,2S,BJ,RJ\n3H,3H,4H,5H,6H,7H,7H,8H,9H,9H,TH,JH,QH,QH,KH,KH,AH,3C,3C,4C,4C,5C,5C,6C,6C,7C,8C,8C,9C,JC,QC,KC,KC,AC,AC,3D,3D,4D,4D,5D,5D,6D,6D,7D,7D,8D,8D,9D,TD,JD,JD,QD,QD,KD,AD,AD,3S,3S,4S,4S,7S,8S,8S,9S,9S,TS,JS,JS,QS,KS,KS,AS,2H,2H,2C,2C,2D,2D,2S,BJ,RJ\n3H,3H,4H,5H,6H,7H,7H,8H,9H,9H,TH,JH,QH,QH,KH,KH,AH,3C,3C,4C,4C,5C,5C,6C,6C,7C,8C,8C,9C,JC,QC,KC,KC,AC,AC,3D,3D,4D,4D,5D,5D,6D,6D,7D,7D,8D,8D,9D,TD,JD,JD,QD,QD,KD,AD,AD,3S,3S,4S,4S,7S,8S,8S,9S,9S,TS,JS,JS,QS,KS,KS,AS,2H,2H,2C,2C,2D,2D,2S,BJ,RJ\nAction: 5S,5S,6S,6S\n[(0, ['5S', '5S', '6S', '6S']), (1, ['3S', '4S', '8S', 'JS']), (2, ['3S', '4S', '7S', 'TS']), (3, ['9S', '9S', '2H', '2H'])]\n\nRound 1:\n4H,5H,6H,8H,TH,JH,AH,7C,9C,TC,TC,JC,QC,9D,TD,KD,7S,TS,QS,AS,2S,BJ,RJ\n3H,3H,4H,5H,6H,7H,7H,8H,9H,9H,TH,JH,QH,QH,KH,KH,AH,3C,3C,4C,4C,5C,5C,6C,6C,7C,8C,8C,9C,JC,QC,KC,KC,AC,AC,3D,3D,4D,4D,5D,5D,6D,6D,7D,7D,8D,8D,9D,TD,JD,JD,QD,QD,KD,AD,AD,8S,JS,QS,KS,KS,AS,2C,2C,2D,2D,2S,BJ,RJ\n3H,3H,4H,5H,6H,7H,7H,8H,9H,9H,TH,JH,QH,QH,KH,KH,AH,3C,3C,4C,4C,5C,5C,6C,6C,7C,8C,8C,9C,JC,QC,KC,KC,AC,AC,3D,3D,4D,4D,5D,5D,6D,6D,7D,7D,8D,8D,9D,TD,JD,JD,QD,QD,KD,AD,AD,8S,JS,QS,KS,KS,AS,2C,2C,2D,2D,2S,BJ,RJ\n3H,3H,4H,5H,6H,7H,7H,8H,9H,9H,TH,JH,QH,QH,KH,KH,AH,3C,3C,4C,4C,5C,5C,6C,6C,7C,8C,8C,9C,JC,QC,KC,KC,AC,AC,3D,3D,4D,4D,5D,5D,6D,6D,7D,7D,8D,8D,9D,TD,JD,JD,QD,QD,KD,AD,AD,8S,JS,QS,KS,KS,AS,2C,2C,2D,2D,2S,BJ,RJ\nAction: TC,TC\n[(0, ['TC', 'TC']), (1, ['KC', 'KC']), (2, ['8C', '8C']), (3, ['3C', '4C'])]\n\nRound 2:\n4H,5H,6H,8H,TH,JH,AH,7C,9C,JC,QC,9D,TD,KD,7S,TS,QS,AS,2S,BJ,RJ\n3H,3H,4H,5H,6H,7H,7H,8H,9H,TH,JH,QH,QH,KH,3C,4C,5C,5C,6C,6C,7C,9C,JC,QC,AC,AC,3D,3D,4D,4D,5D,5D,6D,6D,7D,7D,8D,8D,9D,TD,JD,JD,QD,QD,KD,AD,AD,8S,JS,QS,KS,KS,AS,2C,2C,2D,2D,2S,BJ,RJ\n3H,3H,4H,5H,6H,7H,7H,8H,9H,TH,JH,QH,QH,KH,3C,4C,5C,5C,6C,6C,7C,9C,JC,QC,AC,AC,3D,3D,4D,4D,5D,5D,6D,6D,7D,7D,8D,8D,9D,TD,JD,JD,QD,QD,KD,AD,AD,8S,JS,QS,KS,KS,AS,2C,2C,2D,2D,2S,BJ,RJ\n3H,3H,4H,5H,6H,7H,7H,8H,9H,TH,JH,QH,QH,KH,3C,4C,5C,5C,6C,6C,7C,9C,JC,QC,AC,AC,3D,3D,4D,4D,5D,5D,6D,6D,7D,7D,8D,8D,9D,TD,JD,JD,QD,QD,KD,AD,AD,8S,JS,QS,KS,KS,AS,2C,2C,2D,2D,2S,BJ,RJ\nAction: 5H\n[(1, ['AH']), (2, ['9H']), (3, ['KH']), (0, ['5H'])]\n\nRound 3:\n4H,6H,8H,TH,JH,AH,7C,9C,JC,QC,9D,TD,KD,7S,TS,QS,AS,2S,BJ,RJ\n3H,4H,5H,6H,7H,7H,8H,9H,JH,QH,QH,3C,4C,5C,5C,6C,6C,7C,9C,JC,QC,AC,AC,3D,3D,4D,4D,5D,5D,6D,6D,7D,7D,8D,8D,9D,TD,JD,JD,QD,QD,KD,AD,AD,8S,JS,QS,KS,KS,AS,2C,2C,2D,2D,2S,BJ,RJ\n3H,4H,5H,6H,7H,7H,8H,9H,JH,QH,QH,3C,4C,5C,5C,6C,6C,7C,9C,JC,QC,AC,AC,3D,3D,4D,4D,5D,5D,6D,6D,7D,7D,8D,8D,9D,TD,JD,JD,QD,QD,KD,AD,AD,8S,JS,QS,KS,KS,AS,2C,2C,2D,2D,2S,BJ,RJ\n3H,4H,5H,6H,7H,7H,8H,9H,JH,QH,QH,3C,4C,5C,5C,6C,6C,7C,9C,JC,QC,AC,AC,3D,3D,4D,4D,5D,5D,6D,6D,7D,7D,8D,8D,9D,TD,JD,JD,QD,QD,KD,AD,AD,8S,JS,QS,KS,KS,AS,2C,2C,2D,2D,2S,BJ,RJ\nAction: TH\n[(1, ['TH']), (2, ['KH']), (3, ['3H']), (0, ['TH'])]\n\nRound 4:\n4H,6H,8H,JH,AH,7C,9C,JC,QC,9D,TD,KD,7S,TS,QS,AS,2S,BJ,RJ\n3H,4H,5H,6H,7H,7H,8H,9H,JH,QH,QH,3C,4C,5C,5C,6C,6C,7C,9C,JC,QC,AC,AC,3D,3D,4D,4D,5D,5D,6D,6D,7D,8D,8D,9D,TD,JD,JD,QD,QD,KD,AD,8S,JS,QS,KS,KS,AS,2C,2C,2D,2D,2S,BJ,RJ\n3H,4H,5H,6H,7H,7H,8H,9H,JH,QH,QH,3C,4C,5C,5C,6C,6C,7C,9C,JC,QC,AC,AC,3D,3D,4D,4D,5D,5D,6D,6D,7D,8D,8D,9D,TD,JD,JD,QD,QD,KD,AD,8S,JS,QS,KS,KS,AS,2C,2C,2D,2D,2S,BJ,RJ\n3H,4H,5H,6H,7H,7H,8H,9H,JH,QH,QH,3C,4C,5C,5C,6C,6C,7C,9C,JC,QC,AC,AC,3D,3D,4D,4D,5D,5D,6D,6D,7D,8D,8D,9D,TD,JD,JD,QD,QD,KD,AD,8S,JS,QS,KS,KS,AS,2C,2C,2D,2D,2S,BJ,RJ\nAction: KD\n[(2, ['AD']), (3, ['7D']), (0, ['KD']), (1, ['7D'])]\n\nRound 5:\n4H,6H,8H,JH,AH,7C,9C,JC,QC,9D,TD,7S,TS,QS,AS,2S,BJ,RJ\n3H,4H,5H,6H,7H,7H,8H,9H,JH,QH,QH,3C,4C,5C,5C,6C,6C,7C,9C,JC,QC,AC,AC,3D,3D,4D,4D,5D,5D,6D,6D,8D,8D,9D,TD,JD,JD,QD,QD,KD,AD,JS,QS,KS,KS,AS,2C,2C,2D,2D,2S,BJ\n3H,4H,5H,6H,7H,7H,8H,9H,JH,QH,QH,3C,4C,5C,5C,6C,6C,7C,9C,JC,QC,AC,AC,3D,3D,4D,4D,5D,5D,6D,6D,8D,8D,9D,TD,JD,JD,QD,QD,KD,AD,JS,QS,KS,KS,AS,2C,2C,2D,2D,2S,BJ\n3H,4H,5H,6H,7H,7H,8H,9H,JH,QH,QH,3C,4C,5C,5C,6C,6C,7C,9C,JC,QC,AC,AC,3D,3D,4D,4D,5D,5D,6D,6D,8D,8D,9D,TD,JD,JD,QD,QD,KD,AD,JS,QS,KS,KS,AS,2C,2C,2D,2D,2S,BJ\nAction: TS\n[(2, ['RJ']), (3, ['8S']), (0, ['TS']), (1, ['KS'])]\n\nRound 6:\n4H,6H,8H,JH,AH,7C,9C,JC,QC,9D,TD,7S,QS,AS,2S,BJ,RJ\n3H,4H,5H,6H,7H,7H,8H,9H,JH,QH,QH,3C,4C,5C,5C,6C,6C,7C,9C,JC,QC,AC,AC,3D,4D,4D,5D,6D,6D,8D,8D,9D,TD,JD,JD,QD,QD,KD,AD,JS,QS,KS,AS,2C,2C,2D,2D,2S,BJ\n3H,4H,5H,6H,7H,7H,8H,9H,JH,QH,QH,3C,4C,5C,5C,6C,6C,7C,9C,JC,QC,AC,AC,3D,4D,4D,5D,6D,6D,8D,8D,9D,TD,JD,JD,QD,QD,KD,AD,JS,QS,KS,AS,2C,2C,2D,2D,2S,BJ\n3H,4H,5H,6H,7H,7H,8H,9H,JH,QH,QH,3C,4C,5C,5C,6C,6C,7C,9C,JC,QC,AC,AC,3D,4D,4D,5D,6D,6D,8D,8D,9D,TD,JD,JD,QD,QD,KD,AD,JS,QS,KS,AS,2C,2C,2D,2D,2S,BJ\nAction: TD\n[(2, ['3D']), (3, ['5D']), (0, ['TD']), (1, ['KD'])]\n\nRound 7:\n4H,6H,8H,JH,AH,7C,9C,JC,QC,9D,7S,QS,AS,2S,BJ,RJ\n3H,4H,5H,6H,7H,7H,8H,9H,JH,QH,QH,3C,4C,5C,5C,6C,6C,7C,9C,JC,QC,AC,AC,3D,4D,4D,5D,6D,6D,8D,8D,9D,JD,QD,AD,JS,QS,KS,AS,2C,2C,2D,2D,2S,BJ\n3H,4H,5H,6H,7H,7H,8H,9H,JH,QH,QH,3C,4C,5C,5C,6C,6C,7C,9C,JC,QC,AC,AC,3D,4D,4D,5D,6D,6D,8D,8D,9D,JD,QD,AD,JS,QS,KS,AS,2C,2C,2D,2D,2S,BJ\n3H,4H,5H,6H,7H,7H,8H,9H,JH,QH,QH,3C,4C,5C,5C,6C,6C,7C,9C,JC,QC,AC,AC,3D,4D,4D,5D,6D,6D,8D,8D,9D,JD,QD,AD,JS,QS,KS,AS,2C,2C,2D,2D,2S,BJ\nAction: 9D\n[(1, ['TD']), (2, ['JD']), (3, ['QD']), (0, ['9D'])]\n\nRound 8:\n4H,6H,8H,JH,AH,7C,9C,JC,QC,7S,QS,AS,2S,BJ,RJ\n3H,4H,5H,6H,7H,7H,8H,9H,JH,QH,QH,3C,4C,5C,6C,6C,7C,9C,JC,QC,AC,AC,3D,4D,4D,5D,6D,6D,8D,8D,9D,JD,QD,AD,JS,QS,KS,AS,2C,2C,2D,2D,2S,BJ\n3H,4H,5H,6H,7H,7H,8H,9H,JH,QH,QH,3C,4C,5C,6C,6C,7C,9C,JC,QC,AC,AC,3D,4D,4D,5D,6D,6D,8D,8D,9D,JD,QD,AD,JS,QS,KS,AS,2C,2C,2D,2D,2S,BJ\n3H,4H,5H,6H,7H,7H,8H,9H,JH,QH,QH,3C,4C,5C,6C,6C,7C,9C,JC,QC,AC,AC,3D,4D,4D,5D,6D,6D,8D,8D,9D,JD,QD,AD,JS,QS,KS,AS,2C,2C,2D,2D,2S,BJ\nAction: 7C\n[(3, ['5C']), (0, ['7C']), (1, ['6C']), (2, ['AC'])]\n\nRound 9:\n4H,6H,8H,JH,AH,9C,JC,QC,7S,QS,AS,2S,BJ,RJ\n3H,4H,5H,6H,7H,7H,8H,9H,JH,QH,QH,3C,4C,5C,6C,7C,9C,JC,QC,AC,3D,4D,4D,5D,6D,6D,8D,8D,9D,JD,QD,AD,JS,QS,AS,2C,2C,2D,2D,2S\n3H,4H,5H,6H,7H,7H,8H,9H,JH,QH,QH,3C,4C,5C,6C,7C,9C,JC,QC,AC,3D,4D,4D,5D,6D,6D,8D,8D,9D,JD,QD,AD,JS,QS,AS,2C,2C,2D,2D,2S\n3H,4H,5H,6H,7H,7H,8H,9H,JH,QH,QH,3C,4C,5C,6C,7C,9C,JC,QC,AC,3D,4D,4D,5D,6D,6D,8D,8D,9D,JD,QD,AD,JS,QS,AS,2C,2C,2D,2D,2S\nAction: RJ\n[(2, ['KS']), (3, ['BJ']), (0, ['RJ']), (1, ['2C'])]\n\nRound 10:\n4H,6H,8H,JH,AH,9C,JC,QC,7S,QS,AS,2S,BJ\n3H,4H,5H,6H,7H,7H,8H,9H,JH,QH,QH,3C,4C,5C,6C,7C,9C,JC,QC,AC,3D,4D,4D,5D,6D,6D,8D,8D,9D,JD,QD,AD,JS,QS,AS,2C,2D,2D,2S\n3H,4H,5H,6H,7H,7H,8H,9H,JH,QH,QH,3C,4C,5C,6C,7C,9C,JC,QC,AC,3D,4D,4D,5D,6D,6D,8D,8D,9D,JD,QD,AD,JS,QS,AS,2C,2D,2D,2S\n3H,4H,5H,6H,7H,7H,8H,9H,JH,QH,QH,3C,4C,5C,6C,7C,9C,JC,QC,AC,3D,4D,4D,5D,6D,6D,8D,8D,9D,JD,QD,AD,JS,QS,AS,2C,2D,2D,2S\nAction: AH\n[(0, ['AH']), (1, ['5H']), (2, ['6H']), (3, ['9H'])]\n\nRound 11:\n4H,6H,8H,JH,9C,JC,QC,7S,QS,AS,2S,BJ\n3H,4H,7H,7H,8H,JH,QH,QH,3C,4C,5C,6C,7C,9C,JC,QC,AC,3D,4D,4D,5D,6D,6D,8D,8D,9D,JD,QD,AD,JS,QS,AS,2C,2D,2D,2S\n3H,4H,7H,7H,8H,JH,QH,QH,3C,4C,5C,6C,7C,9C,JC,QC,AC,3D,4D,4D,5D,6D,6D,8D,8D,9D,JD,QD,AD,JS,QS,AS,2C,2D,2D,2S\n3H,4H,7H,7H,8H,JH,QH,QH,3C,4C,5C,6C,7C,9C,JC,QC,AC,3D,4D,4D,5D,6D,6D,8D,8D,9D,JD,QD,AD,JS,QS,AS,2C,2D,2D,2S\nAction: 9C\n[(0, ['9C']), (1, ['4C']), (2, ['5C']), (3, ['AC'])]\n\nRound 12:\n4H,6H,8H,JH,JC,QC,7S,QS,AS,2S,BJ\n3H,4H,7H,7H,8H,JH,QH,QH,3C,6C,7C,9C,JC,QC,4D,4D,5D,6D,6D,8D,8D,9D,JD,QD,AD,JS,QS,AS,2C,2D,2D,2S\n3H,4H,7H,7H,8H,JH,QH,QH,3C,6C,7C,9C,JC,QC,4D,4D,5D,6D,6D,8D,8D,9D,JD,QD,AD,JS,QS,AS,2C,2D,2D,2S\n3H,4H,7H,7H,8H,JH,QH,QH,3C,6C,7C,9C,JC,QC,4D,4D,5D,6D,6D,8D,8D,9D,JD,QD,AD,JS,QS,AS,2C,2D,2D,2S\nAction: 2S\n[(3, ['3D']), (0, ['2S']), (1, ['8D']), (2, ['9D'])]\n\nRound 13:\n4H,6H,8H,JH,JC,QC,7S,QS,AS,BJ\n3H,4H,7H,7H,8H,JH,QH,QH,3C,6C,7C,9C,JC,QC,4D,4D,5D,6D,6D,8D,JD,QD,AD,JS,QS,AS,2C,2D,2D,2S\n3H,4H,7H,7H,8H,JH,QH,QH,3C,6C,7C,9C,JC,QC,4D,4D,5D,6D,6D,8D,JD,QD,AD,JS,QS,AS,2C,2D,2D,2S\n3H,4H,7H,7H,8H,JH,QH,QH,3C,6C,7C,9C,JC,QC,4D,4D,5D,6D,6D,8D,JD,QD,AD,JS,QS,AS,2C,2D,2D,2S\nAction: QC\n[(0, ['QC']), (1, ['QS']), (2, ['7C']), (3, ['6C'])]\n\nRound 14:\n4H,6H,8H,JH,JC,7S,QS,AS,BJ\n3H,7H,7H,8H,JH,4D,4D,5D,6D,6D,8D,JD,QD,AD,JS,AS,2C,2D,2D,2S\n3H,7H,7H,8H,JH,3C,9C,JC,QC,4D,4D,5D,6D,6D,8D,JD,QD,AD,JS,AS,2C,2D,2D,2S\n3H,7H,7H,8H,JH,3C,9C,JC,QC,4D,4D,5D,6D,6D,8D,JD,QD,AD,JS,AS,2C,2D,2D,2S\nAction: 4H\n[(1, ['QH']), (2, ['QH']), (3, ['4H']), (0, ['4H'])]\n\nRound 15:\n6H,8H,JH,JC,7S,QS,AS,BJ\n7H,7H,JH,4D,4D,5D,6D,6D,8D,JD,QD,AD,JS,AS,2C,2D,2D\n3C,9C,JC,QC,4D,4D,5D,6D,6D,8D,JD,QD,AD,JS,AS,2C,2D,2D\n7H,7H,JH,3C,9C,JC,QC,4D,4D,5D,6D,6D,8D,JD,QD,AD,JS,AS,2C,2D,2D\nAction: 8H\n[(1, ['8H']), (2, ['2S']), (3, ['3H']), (0, ['8H'])]\n\nRound 16:\n6H,JH,JC,7S,QS,AS,BJ\n7H,7H,JH,4D,4D,5D,6D,6D,JD,AD,JS,AS,2C,2D,2D\n3C,9C,JC,QC,4D,4D,5D,6D,6D,JD,AD,JS,AS,2C,2D,2D\n7H,7H,JH,3C,9C,JC,QC,4D,4D,5D,6D,6D,JD,AD,JS,AS,2C,2D,2D\nAction: 7S\n[(2, ['8D']), (3, ['QD']), (0, ['7S']), (1, ['5D'])]\n\nRound 17:\n6H,JH,JC,QS,AS,BJ\n7H,7H,JH,4D,4D,6D,6D,JD,AD,JS,AS,2C,2D,2D\n3C,9C,JC,QC,4D,4D,6D,6D,JD,AD,JS,AS,2C,2D,2D\n7H,7H,JH,3C,9C,JC,QC,4D,4D,6D,6D,JD,AD,JS,AS,2C,2D,2D\nAction: 6H\n[(0, ['6H']), (1, ['7H']), (2, ['2C']), (3, ['7H'])]\n\nRound 18:\nJH,JC,QS,AS,BJ\nJH,4D,6D,JD,AD,JS,AS,2D,2D\n3C,9C,JC,QC,4D,6D,JD,AD,JS,AS,2D,2D\nJH,3C,9C,JC,QC,4D,6D,JD,AD,JS,AS,2D,2D\nAction: BJ\n[(2, ['6D']), (3, ['4D']), (0, ['BJ']), (1, ['JD'])]\n\nRound 19:\nJH,JC,QS,AS\nJH,4D,6D,AD,JS,AS,2D,2D\n3C,9C,JC,QC,4D,6D,AD,JS,AS,2D,2D\nJH,3C,9C,JC,QC,4D,6D,AD,JS,AS,2D,2D\nAction: JH\n[(0, ['JH']), (1, ['2D']), (2, ['JS']), (3, ['JH'])]\n\nRound 20:\nJC,QS,AS\n4D,6D,AD\n9C,JC,QC,4D,6D,AD\n9C,JC,QC,4D,6D,AD\nAction: QS\n[(1, ['AS']), (2, ['3C']), (3, ['2D']), (0, ['QS'])]\n\nRound 21:\nJC,AS\n4D,6D,AD\n9C,QC,4D,6D,AD\n9C,QC,4D,6D,AD\nAction: JC\n[(3, ['JC']), (0, ['JC']), (1, ['4D']), (2, ['QC'])]\n\nRound 22:\nAS\nAD\nAD\nAD\nAction: pass\n[(2, ['9C']), (3, ['6D']), (0, ['AS']), (1, ['AD'])]\n\n[105, 95]\n"
     ]
    }
   ],
   "source": [
    "# from rlcard.games.tractor.utils import tournament_tractor\n",
    "# evaluate_num = 1000\n",
    "# reward = tournament_tractor(env, evaluate_num)\n",
    "# print('Average win rate: ', reward)\n",
    "\n",
    "import numpy as np\n",
    "from rlcard.games.tractor.utils import CARD_RANK_STR, ACTION_LIST\n",
    "\n",
    "for i in range(len(_trajectories[0])):\n",
    "    print(\"Round {}:\".format(i))\n",
    "\n",
    "    for p in range(4):\n",
    "        cards = []\n",
    "        for j in range(len(CARD_RANK_STR)):\n",
    "            if _trajectories[0][i][0]['obs'][p][1][j] == 1:\n",
    "                cards.append(CARD_RANK_STR[j])\n",
    "            if _trajectories[0][i][0]['obs'][p][2][j] == 1:\n",
    "                cards.append(CARD_RANK_STR[j])\n",
    "                cards.append(CARD_RANK_STR[j])\n",
    "        print(','.join(cards))\n",
    "    print('Action: {}'.format(ACTION_LIST[_trajectories[0][i][1]]))\n",
    "    print(env.game.round.trace[i*4:(i+1)*4])\n",
    "    # print(\"Score: {} : {}\".format(_trajectories[0][i][0]['obs'][5][0][0], _trajectories[0][i][0]['obs'][5][0][1]))\n",
    "    print()\n",
    "\n",
    "print(env.game.round.score)\n"
   ]
  },
  {
   "cell_type": "code",
   "execution_count": null,
   "metadata": {},
   "outputs": [],
   "source": []
  }
 ]
}