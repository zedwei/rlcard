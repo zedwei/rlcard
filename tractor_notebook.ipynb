{
 "metadata": {
  "language_info": {
   "codemirror_mode": {
    "name": "ipython",
    "version": 3
   },
   "file_extension": ".py",
   "mimetype": "text/x-python",
   "name": "python",
   "nbconvert_exporter": "python",
   "pygments_lexer": "ipython3",
   "version": "3.7.8"
  },
  "orig_nbformat": 2,
  "kernelspec": {
   "name": "python378jvsc74a57bd057baa5815c940fdaff4d14510622de9616cae602444507ba5d0b6727c008cbd6",
   "display_name": "Python 3.7.8 64-bit"
  },
  "metadata": {
   "interpreter": {
    "hash": "57baa5815c940fdaff4d14510622de9616cae602444507ba5d0b6727c008cbd6"
   }
  }
 },
 "nbformat": 4,
 "nbformat_minor": 2,
 "cells": [
  {
   "cell_type": "code",
   "execution_count": null,
   "metadata": {},
   "outputs": [],
   "source": [
    "# test Dealer.shuffle and cards2str functions\n",
    "\n",
    "import numpy as np\n",
    "from rlcard.games.tractor.dealer import TractorDealer\n",
    "\n",
    "np_random = np.random.RandomState()\n",
    "dealer = TractorDealer(np_random)\n",
    "dealer.shuffle()\n",
    "print(dealer.deck)"
   ]
  },
  {
   "cell_type": "code",
   "execution_count": null,
   "metadata": {},
   "outputs": [],
   "source": [
    "# test Judger.playable_cards_from_hand function\n",
    "\n",
    "from rlcard.games.tractor.judger import TractorJudger\n",
    "\n",
    "print(TractorJudger.playable_cards_from_hand(['AD','9H','KC','KC','AC','AC','3D','3D','7H','BJ','BJ','RJ','RJ','AD','2D','2D','2H','2H','2S','2S','AS','AS','AD','AD']))"
   ]
  },
  {
   "cell_type": "code",
   "execution_count": null,
   "metadata": {},
   "outputs": [],
   "source": [
    "# test Player.available_actions function\n",
    "\n",
    "from rlcard.games.tractor import Game\n",
    "import numpy as np\n",
    "\n",
    "game = Game()\n",
    "game.init_game()\n",
    "\n",
    "print(game.players[0].current_hand)\n",
    "playable_cards = game.judger.get_playable_cards(game.players[0])\n",
    "print(playable_cards)\n",
    "played_cards = max(playable_cards, key=len)\n",
    "\n",
    "game.players[0].played_cards = played_cards\n",
    "#game.players[0].played_cards = cards2str([game.players[0].current_hand[10]])\n",
    "print(game.players[0].played_cards)\n",
    "print(game.players[1].current_hand)\n",
    "available_actions = game.players[1].available_actions(game.players[0], game.judger, game.round)\n",
    "print(available_actions)\n"
   ]
  },
  {
   "cell_type": "code",
   "execution_count": null,
   "metadata": {},
   "outputs": [],
   "source": [
    "''' Test for round.calc_score_in_round\n",
    "'''\n",
    "import numpy as np\n",
    "from rlcard.games.tractor import Round\n",
    "\n",
    "\n",
    "np_random = np.random.RandomState()\n",
    "round = Round(np_random)\n",
    "\n",
    "round.current_round = [['5S','TS'], ['5H','5S'], ['3S'], ['KH']]\n",
    "print(round.calc_score_in_round())\n"
   ]
  },
  {
   "cell_type": "code",
   "execution_count": null,
   "metadata": {},
   "outputs": [],
   "source": [
    "''' generate action space\n",
    "'''\n",
    "import numpy as np\n",
    "from rlcard.games.tractor import Dealer, Judger\n",
    "\n",
    "np_random = np.random.RandomState()\n",
    "dealer = Dealer(np)\n",
    "\n",
    "cards = dealer.deck\n",
    "# print(cards)\n",
    "\n",
    "actions = Judger.playable_cards_from_hand(cards)\n",
    "actions.sort()\n",
    "\n",
    "actions.extend(['pass', 'pass_score'])\n",
    "print(actions)\n",
    "# print(len(actions))\n",
    "\n",
    "action_index = {','.join(actions[x]):x for x in range(len(actions))}\n",
    "print(action_index)\n",
    "print(len(action_index.keys()))\n",
    "\n"
   ]
  },
  {
   "cell_type": "code",
   "execution_count": null,
   "metadata": {},
   "outputs": [],
   "source": [
    "''' Test Game class\n",
    "'''\n",
    "from rlcard.games.tractor import Game\n",
    "\n",
    "game = Game()\n",
    "state, player_id = game.init_game()\n",
    "\n",
    "print(state, \"\\r\\n\")\n",
    "\n",
    "while not game.is_over():\n",
    "     state, next_id = game.step(state['actions'][0])\n",
    "     print(state, \"\\r\\n\")\n",
    "\n",
    "print(state)\n",
    "\n"
   ]
  },
  {
   "cell_type": "code",
   "execution_count": null,
   "metadata": {
    "tags": []
   },
   "outputs": [],
   "source": [
    "''' Test Game class perf\n",
    "'''\n",
    "from tqdm import tqdm\n",
    "from rlcard.games.tractor import Game\n",
    "import cProfile\n",
    "\n",
    "def run():\n",
    "    for iter in tqdm(range(1000)):\n",
    "        state, player_id = game.init_game()\n",
    "        while not game.is_over():\n",
    "            state, next_id = game.step(state['actions'][0])\n",
    "\n",
    "game = Game()\n",
    "cProfile.run('run()')\n",
    "\n",
    "\n",
    "\n"
   ]
  },
  {
   "cell_type": "code",
   "execution_count": 1,
   "metadata": {},
   "outputs": [
    {
     "output_type": "stream",
     "name": "stdout",
     "text": [
      "WARNING:tensorflow:From d:\\Projects\\rlcard\\rlcard\\utils\\utils.py:335: The name tf.set_random_seed is deprecated. Please use tf.compat.v1.set_random_seed instead.\n",
      "\n",
      "WARNING:tensorflow:From d:\\Projects\\rlcard\\rlcard\\models\\tractor_pretrained_models.py:23: The name tf.ConfigProto is deprecated. Please use tf.compat.v1.ConfigProto instead.\n",
      "\n",
      "WARNING:tensorflow:From d:\\Projects\\rlcard\\rlcard\\models\\tractor_pretrained_models.py:26: The name tf.Session is deprecated. Please use tf.compat.v1.Session instead.\n",
      "\n",
      "WARNING:tensorflow:From d:\\Projects\\rlcard\\rlcard\\agents\\nfsp_agent.py:114: The name tf.variable_scope is deprecated. Please use tf.compat.v1.variable_scope instead.\n",
      "\n",
      "WARNING:tensorflow:From d:\\Projects\\rlcard\\rlcard\\agents\\dqn_agent.py:260: The name tf.placeholder is deprecated. Please use tf.compat.v1.placeholder instead.\n",
      "\n",
      "WARNING:tensorflow:From d:\\Projects\\rlcard\\rlcard\\agents\\dqn_agent.py:271: batch_normalization (from tensorflow.python.layers.normalization) is deprecated and will be removed in a future version.\n",
      "Instructions for updating:\n",
      "Use keras.layers.BatchNormalization instead.  In particular, `tf.control_dependencies(tf.GraphKeys.UPDATE_OPS)` should not be used (consult the `tf.keras.layers.batch_normalization` documentation).\n",
      "WARNING:tensorflow:From C:\\Users\\RanW\\AppData\\Roaming\\Python\\Python37\\site-packages\\tensorflow_core\\python\\layers\\normalization.py:327: Layer.apply (from tensorflow.python.keras.engine.base_layer) is deprecated and will be removed in a future version.\n",
      "Instructions for updating:\n",
      "Please use `layer.__call__` method instead.\n",
      "WARNING:tensorflow:\n",
      "The TensorFlow contrib module will not be included in TensorFlow 2.0.\n",
      "For more information, please see:\n",
      "  * https://github.com/tensorflow/community/blob/master/rfcs/20180907-contrib-sunset.md\n",
      "  * https://github.com/tensorflow/addons\n",
      "  * https://github.com/tensorflow/io (for I/O related ops)\n",
      "If you depend on functionality not listed there, please file an issue.\n",
      "\n",
      "WARNING:tensorflow:From C:\\Users\\RanW\\AppData\\Roaming\\Python\\Python37\\site-packages\\tensorflow_core\\contrib\\layers\\python\\layers\\layers.py:1634: flatten (from tensorflow.python.layers.core) is deprecated and will be removed in a future version.\n",
      "Instructions for updating:\n",
      "Use keras.layers.flatten instead.\n",
      "WARNING:tensorflow:From d:\\Projects\\rlcard\\rlcard\\agents\\dqn_agent.py:284: The name tf.squared_difference is deprecated. Please use tf.math.squared_difference instead.\n",
      "\n",
      "WARNING:tensorflow:From d:\\Projects\\rlcard\\rlcard\\agents\\dqn_agent.py:246: The name tf.get_collection is deprecated. Please use tf.compat.v1.get_collection instead.\n",
      "\n",
      "WARNING:tensorflow:From d:\\Projects\\rlcard\\rlcard\\agents\\dqn_agent.py:246: The name tf.GraphKeys is deprecated. Please use tf.compat.v1.GraphKeys instead.\n",
      "\n",
      "WARNING:tensorflow:From d:\\Projects\\rlcard\\rlcard\\agents\\dqn_agent.py:246: The name tf.get_variable_scope is deprecated. Please use tf.compat.v1.get_variable_scope instead.\n",
      "\n",
      "WARNING:tensorflow:From d:\\Projects\\rlcard\\rlcard\\agents\\dqn_agent.py:248: The name tf.train.AdamOptimizer is deprecated. Please use tf.compat.v1.train.AdamOptimizer instead.\n",
      "\n",
      "WARNING:tensorflow:From d:\\Projects\\rlcard\\rlcard\\agents\\dqn_agent.py:251: get_global_step (from tensorflow.contrib.framework.python.ops.variables) is deprecated and will be removed in a future version.\n",
      "Instructions for updating:\n",
      "Please switch to tf.train.get_global_step\n",
      "WARNING:tensorflow:From d:\\Projects\\rlcard\\rlcard\\models\\tractor_pretrained_models.py:62: The name tf.train.Saver is deprecated. Please use tf.compat.v1.train.Saver instead.\n",
      "\n",
      "INFO:tensorflow:Restoring parameters from d:\\Projects\\rlcard\\rlcard\\models\\tractor\\20210507_2_nfsp_2_rule_game_reward_only\\model\n"
     ]
    }
   ],
   "source": [
    "import rlcard\n",
    "from rlcard.utils import set_global_seed\n",
    "from rlcard import models\n",
    "\n",
    "# Make environment\n",
    "env = rlcard.make('tractor', config={'seed': 0})\n",
    "\n",
    "# Set a global seed\n",
    "set_global_seed(0)\n",
    "\n",
    "# Here we directly load NFSP models from /models module\n",
    "nfsp_agents = models.load('tractor_nfsp_v1').agents\n"
   ]
  },
  {
   "cell_type": "code",
   "execution_count": 35,
   "metadata": {},
   "outputs": [],
   "source": [
    "from rlcard.agents import RandomAgent, TractorRuleAgent\n",
    "\n",
    "# Evaluate the performance. Play with random agents.\n",
    "random_agent = RandomAgent(env.action_num)\n",
    "rule_agent = TractorRuleAgent(env.action_num)\n",
    "\n",
    "# env.set_agents([random_agent, random_agent, random_agent, random_agent])\n",
    "\n",
    "# env.set_agents([nfsp_agents[0], random_agent, random_agent, random_agent])\n",
    "# env.set_agents([nfsp_agents[0], random_agent, nfsp_agents[1], random_agent])\n",
    "# env.set_agents([nfsp_agents[0], nfsp_agents[1],nfsp_agents[2],nfsp_agents[3]])\n",
    "\n",
    "# env.set_agents([nfsp_agents[0], rule_agent, rule_agent, rule_agent])\n",
    "env.set_agents([nfsp_agents[0], rule_agent, nfsp_agents[1], rule_agent])\n",
    "\n",
    "_trajectories, _payoffs = env.run(is_training=False)\n",
    "\n"
   ]
  },
  {
   "cell_type": "code",
   "execution_count": 37,
   "metadata": {},
   "outputs": [
    {
     "output_type": "stream",
     "name": "stdout",
     "text": [
      "Average win rate:  [0.32, 0.65, 0.32, 0.65]\n"
     ]
    }
   ],
   "source": [
    "from rlcard.games.tractor.utils import tournament_tractor\n",
    "evaluate_num = 100\n",
    "reward = tournament_tractor(env, evaluate_num)\n",
    "print('Average win rate: ', reward)\n",
    "\n",
    "# import numpy as np\n",
    "# from rlcard.games.tractor.utils import CARD_RANK_STR\n",
    "\n",
    "# for i in range(len(_trajectories[0])):\n",
    "#     cards = []\n",
    "#     for j in range(len(CARD_RANK_STR)):\n",
    "#         if _trajectories[0][i][0]['obs'][0][1][j] == 1:\n",
    "#             cards.append(CARD_RANK_STR[j])\n",
    "#         if _trajectories[0][i][0]['obs'][0][2][j] == 1:\n",
    "#             cards.append(CARD_RANK_STR[j])\n",
    "#             cards.append(CARD_RANK_STR[j])\n",
    "#     print(\"Round {}:\".format(i))\n",
    "#     print(','.join(cards))\n",
    "#     print(env.game.round.trace[i*4:(i+1)*4])\n",
    "#     print(\"Score: {}\".format(_trajectories[0][i][2]))\n",
    "#     print()\n",
    "\n",
    "# print(env.game.round.score)\n"
   ]
  },
  {
   "cell_type": "code",
   "execution_count": null,
   "metadata": {},
   "outputs": [],
   "source": []
  }
 ]
}