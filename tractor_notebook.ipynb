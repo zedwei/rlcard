{
 "metadata": {
  "language_info": {
   "codemirror_mode": {
    "name": "ipython",
    "version": 3
   },
   "file_extension": ".py",
   "mimetype": "text/x-python",
   "name": "python",
   "nbconvert_exporter": "python",
   "pygments_lexer": "ipython3",
   "version": "3.7.8"
  },
  "orig_nbformat": 2,
  "kernelspec": {
   "name": "python378jvsc74a57bd057baa5815c940fdaff4d14510622de9616cae602444507ba5d0b6727c008cbd6",
   "display_name": "Python 3.7.8 64-bit"
  },
  "metadata": {
   "interpreter": {
    "hash": "57baa5815c940fdaff4d14510622de9616cae602444507ba5d0b6727c008cbd6"
   }
  }
 },
 "nbformat": 4,
 "nbformat_minor": 2,
 "cells": [
  {
   "cell_type": "code",
   "execution_count": null,
   "metadata": {},
   "outputs": [],
   "source": [
    "# test Dealer.shuffle and cards2str functions\n",
    "\n",
    "import numpy as np\n",
    "from rlcard.games.tractor.dealer import TractorDealer\n",
    "\n",
    "np_random = np.random.RandomState()\n",
    "dealer = TractorDealer(np_random)\n",
    "dealer.shuffle()\n",
    "print(dealer.deck)"
   ]
  },
  {
   "cell_type": "code",
   "execution_count": null,
   "metadata": {},
   "outputs": [],
   "source": [
    "# test Judger.playable_cards_from_hand function\n",
    "\n",
    "from rlcard.games.tractor.judger import TractorJudger\n",
    "\n",
    "print(TractorJudger.playable_cards_from_hand(['AD','9H','KC','KC','AC','AC','3D','3D','7H','BJ','BJ','RJ','RJ','AD','2D','2D','2H','2H','2S','2S','AS','AS','AD','AD']))"
   ]
  },
  {
   "cell_type": "code",
   "execution_count": null,
   "metadata": {},
   "outputs": [],
   "source": [
    "# test Player.available_actions function\n",
    "\n",
    "from rlcard.games.tractor import Game\n",
    "import numpy as np\n",
    "\n",
    "game = Game()\n",
    "game.init_game()\n",
    "\n",
    "print(game.players[0].current_hand)\n",
    "playable_cards = game.judger.get_playable_cards(game.players[0])\n",
    "print(playable_cards)\n",
    "played_cards = max(playable_cards, key=len)\n",
    "\n",
    "game.players[0].played_cards = played_cards\n",
    "#game.players[0].played_cards = cards2str([game.players[0].current_hand[10]])\n",
    "print(game.players[0].played_cards)\n",
    "print(game.players[1].current_hand)\n",
    "available_actions = game.players[1].available_actions(game.players[0], game.judger, game.round)\n",
    "print(available_actions)\n"
   ]
  },
  {
   "cell_type": "code",
   "execution_count": null,
   "metadata": {},
   "outputs": [],
   "source": [
    "''' Test for round.calc_score_in_round\n",
    "'''\n",
    "import numpy as np\n",
    "from rlcard.games.tractor import Round\n",
    "\n",
    "\n",
    "np_random = np.random.RandomState()\n",
    "round = Round(np_random)\n",
    "\n",
    "round.current_round = [['5S','TS'], ['5H','5S'], ['3S'], ['KH']]\n",
    "print(round.calc_score_in_round())\n"
   ]
  },
  {
   "cell_type": "code",
   "execution_count": null,
   "metadata": {},
   "outputs": [],
   "source": [
    "''' generate action space\n",
    "'''\n",
    "import numpy as np\n",
    "from rlcard.games.tractor import Dealer, Judger\n",
    "\n",
    "np_random = np.random.RandomState()\n",
    "dealer = Dealer(np)\n",
    "\n",
    "cards = dealer.deck\n",
    "# print(cards)\n",
    "\n",
    "actions = Judger.playable_cards_from_hand(cards)\n",
    "actions.sort()\n",
    "\n",
    "actions.extend(['pass', 'pass_score'])\n",
    "print(actions)\n",
    "# print(len(actions))\n",
    "\n",
    "action_index = {','.join(actions[x]):x for x in range(len(actions))}\n",
    "print(action_index)\n",
    "print(len(action_index.keys()))\n",
    "\n"
   ]
  },
  {
   "cell_type": "code",
   "execution_count": null,
   "metadata": {},
   "outputs": [],
   "source": [
    "''' Test Game class\n",
    "'''\n",
    "from rlcard.games.tractor import Game\n",
    "\n",
    "game = Game()\n",
    "state, player_id = game.init_game()\n",
    "\n",
    "print(state, \"\\r\\n\")\n",
    "\n",
    "while not game.is_over():\n",
    "     state, next_id = game.step(state['actions'][0])\n",
    "     print(state, \"\\r\\n\")\n",
    "\n",
    "print(state)\n",
    "\n"
   ]
  },
  {
   "cell_type": "code",
   "execution_count": null,
   "metadata": {
    "tags": []
   },
   "outputs": [],
   "source": [
    "''' Test Game class perf\n",
    "'''\n",
    "from tqdm import tqdm\n",
    "from rlcard.games.tractor import Game\n",
    "import cProfile\n",
    "\n",
    "def run():\n",
    "    for iter in tqdm(range(1000)):\n",
    "        state, player_id = game.init_game()\n",
    "        while not game.is_over():\n",
    "            state, next_id = game.step(state['actions'][0])\n",
    "\n",
    "game = Game()\n",
    "cProfile.run('run()')\n",
    "\n",
    "\n",
    "\n"
   ]
  },
  {
   "cell_type": "code",
   "execution_count": 1,
   "metadata": {},
   "outputs": [
    {
     "output_type": "stream",
     "name": "stdout",
     "text": [
      "WARNING:tensorflow:From d:\\Projects\\rlcard\\rlcard\\utils\\utils.py:335: The name tf.set_random_seed is deprecated. Please use tf.compat.v1.set_random_seed instead.\n",
      "\n",
      "WARNING:tensorflow:From d:\\Projects\\rlcard\\rlcard\\models\\tractor_pretrained_models.py:23: The name tf.ConfigProto is deprecated. Please use tf.compat.v1.ConfigProto instead.\n",
      "\n",
      "WARNING:tensorflow:From d:\\Projects\\rlcard\\rlcard\\models\\tractor_pretrained_models.py:26: The name tf.Session is deprecated. Please use tf.compat.v1.Session instead.\n",
      "\n",
      "WARNING:tensorflow:From d:\\Projects\\rlcard\\rlcard\\agents\\nfsp_agent.py:115: The name tf.variable_scope is deprecated. Please use tf.compat.v1.variable_scope instead.\n",
      "\n",
      "WARNING:tensorflow:From d:\\Projects\\rlcard\\rlcard\\agents\\dqn_agent.py:262: The name tf.placeholder is deprecated. Please use tf.compat.v1.placeholder instead.\n",
      "\n",
      "WARNING:tensorflow:From d:\\Projects\\rlcard\\rlcard\\agents\\dqn_agent.py:273: batch_normalization (from tensorflow.python.layers.normalization) is deprecated and will be removed in a future version.\n",
      "Instructions for updating:\n",
      "Use keras.layers.BatchNormalization instead.  In particular, `tf.control_dependencies(tf.GraphKeys.UPDATE_OPS)` should not be used (consult the `tf.keras.layers.batch_normalization` documentation).\n",
      "WARNING:tensorflow:From C:\\Users\\RanW\\AppData\\Roaming\\Python\\Python37\\site-packages\\tensorflow_core\\python\\layers\\normalization.py:327: Layer.apply (from tensorflow.python.keras.engine.base_layer) is deprecated and will be removed in a future version.\n",
      "Instructions for updating:\n",
      "Please use `layer.__call__` method instead.\n",
      "WARNING:tensorflow:\n",
      "The TensorFlow contrib module will not be included in TensorFlow 2.0.\n",
      "For more information, please see:\n",
      "  * https://github.com/tensorflow/community/blob/master/rfcs/20180907-contrib-sunset.md\n",
      "  * https://github.com/tensorflow/addons\n",
      "  * https://github.com/tensorflow/io (for I/O related ops)\n",
      "If you depend on functionality not listed there, please file an issue.\n",
      "\n",
      "WARNING:tensorflow:From C:\\Users\\RanW\\AppData\\Roaming\\Python\\Python37\\site-packages\\tensorflow_core\\contrib\\layers\\python\\layers\\layers.py:1634: flatten (from tensorflow.python.layers.core) is deprecated and will be removed in a future version.\n",
      "Instructions for updating:\n",
      "Use keras.layers.flatten instead.\n",
      "WARNING:tensorflow:From d:\\Projects\\rlcard\\rlcard\\agents\\dqn_agent.py:287: The name tf.squared_difference is deprecated. Please use tf.math.squared_difference instead.\n",
      "\n",
      "WARNING:tensorflow:From d:\\Projects\\rlcard\\rlcard\\agents\\dqn_agent.py:248: The name tf.get_collection is deprecated. Please use tf.compat.v1.get_collection instead.\n",
      "\n",
      "WARNING:tensorflow:From d:\\Projects\\rlcard\\rlcard\\agents\\dqn_agent.py:248: The name tf.GraphKeys is deprecated. Please use tf.compat.v1.GraphKeys instead.\n",
      "\n",
      "WARNING:tensorflow:From d:\\Projects\\rlcard\\rlcard\\agents\\dqn_agent.py:248: The name tf.get_variable_scope is deprecated. Please use tf.compat.v1.get_variable_scope instead.\n",
      "\n",
      "WARNING:tensorflow:From d:\\Projects\\rlcard\\rlcard\\agents\\dqn_agent.py:250: The name tf.train.AdamOptimizer is deprecated. Please use tf.compat.v1.train.AdamOptimizer instead.\n",
      "\n",
      "WARNING:tensorflow:From d:\\Projects\\rlcard\\rlcard\\agents\\dqn_agent.py:253: get_global_step (from tensorflow.contrib.framework.python.ops.variables) is deprecated and will be removed in a future version.\n",
      "Instructions for updating:\n",
      "Please switch to tf.train.get_global_step\n",
      "WARNING:tensorflow:From d:\\Projects\\rlcard\\rlcard\\models\\tractor_pretrained_models.py:65: The name tf.train.Saver is deprecated. Please use tf.compat.v1.train.Saver instead.\n",
      "\n",
      "INFO:tensorflow:Restoring parameters from d:\\Projects\\rlcard\\rlcard\\models\\tractor\\2021_05_10_04_32_44_continue_train_2\\tractor_nfsp_continue_train\\model\n"
     ]
    }
   ],
   "source": [
    "import rlcard\n",
    "from rlcard.utils import set_global_seed\n",
    "from rlcard import models\n",
    "\n",
    "# Make environment\n",
    "env = rlcard.make('tractor', config={'seed': 0})\n",
    "\n",
    "# Set a global seed\n",
    "set_global_seed(0)\n",
    "\n",
    "# Here we directly load NFSP models from /models module\n",
    "nfsp_agents = models.load('tractor_nfsp_v1').agents\n"
   ]
  },
  {
   "cell_type": "code",
   "execution_count": 12,
   "metadata": {},
   "outputs": [
    {
     "output_type": "stream",
     "name": "stdout",
     "text": [
      "3H,4H,5H,9H,TH,JH,QH,3C,3C,4C,5C,KC,4D,5D,8D,3S,3S,4S,6S,TS,TS,AS,2C,2C,2D,BJ,RJ\nTS,TS\n[('TS,TS', 30.109), ('3S,3S', 13.316), ('5D', 11.5747), ('4S', 10.3634), ('3S', 9.2101), ('TS', 8.0022), ('4C', 7.8665), ('2C,2C', 7.2455), ('6S', 7.1921), ('5C', 7.1596), ('TH', 5.8323), ('9H', 5.7261), ('4D', 5.2392), ('8D', 3.7592), ('KC', 3.6196), ('5H', 3.5044), ('BJ', 2.6984), ('AS', 2.0626), ('JH', 1.9614), ('RJ', 1.8192), ('2D', 1.4041), ('2C', 0.9495), ('3C,3C', 0.8711), ('3H', 0.4687), ('4H', -0.1264), ('3C', -0.7557), ('QH', -2.9451)]\n\n3H,4H,5H,9H,TH,JH,QH,3C,3C,4C,5C,KC,4D,5D,8D,3S,3S,4S,6S,AS,2C,2C,2D,BJ,RJ\n5D\n[('5D', 11.2187), ('4D', 7.1505), ('8D', 0.9259)]\n\n3H,4H,5H,9H,TH,JH,QH,3C,3C,4C,5C,KC,4D,8D,3S,3S,4S,6S,AS,2C,2C,2D,BJ,RJ\npass\n[('pass', 6.1067)]\n\n3H,4H,5H,9H,TH,JH,QH,3C,3C,4C,5C,KC,3S,3S,4S,6S,AS,2C,2C,2D,BJ,RJ\n3C,3C\n[('3C,3C', -4.2271)]\n\n3H,4H,5H,9H,TH,JH,QH,4C,5C,KC,3S,3S,4S,6S,AS,2C,2C,2D,BJ,RJ\npass\n[('pass', -7.3802)]\n\n5H,9H,TH,JH,QH,4C,5C,KC,3S,3S,4S,6S,AS,2C,2C,2D,BJ,RJ\nBJ\n[('BJ', 0.3687), ('RJ', 0.0815), ('2C', -0.5335), ('2D', -1.1798), ('4S', -1.2503), ('6S', -1.783), ('AS', -2.0236), ('3S', -2.8689)]\n\n5H,9H,TH,JH,QH,4C,5C,KC,3S,3S,4S,6S,AS,2C,2C,2D,RJ\npass\n[('pass', -0.2101)]\n\nTH,JH,QH,4C,5C,KC,3S,3S,4S,6S,AS,2C,2C,2D,RJ\nRJ\n[('RJ', 1.0769), ('2C', 0.7959), ('2D', 0.3399), ('AS', -0.088), ('4S', -0.4972), ('6S', -0.8973), ('3S', -1.3324)]\n\nTH,JH,QH,4C,5C,KC,3S,3S,4S,6S,AS,2C,2C,2D\n3S,3S\n[('3S,3S', 14.0321), ('2C', 8.5635), ('AS', 8.1281), ('TH', 8.032), ('2D', 6.9854), ('2C,2C', 4.2431), ('4S', 1.4001), ('3S', 1.3095), ('JH', 0.9507), ('QH', 0.8676), ('6S', 0.1018), ('4C', -0.7956), ('KC', -6.1373), ('5C', -7.6696)]\n\nTH,JH,QH,4C,5C,KC,4S,6S,AS,2C,2C,2D\n4S\n[('4S', 5.8211), ('2C', 4.7002), ('6S', 3.6249), ('AS', 3.3635), ('2D', 2.9462)]\n\nTH,JH,QH,4C,5C,KC,6S,AS,2C,2C,2D\n6S\n[('6S', 4.1593), ('2C', 3.8892), ('AS', 3.2312), ('2D', 2.5186)]\n\nTH,JH,QH,4C,5C,KC,AS,2C,2C,2D\nTH\n[('TH', 17.1957), ('JH', 9.1119), ('2C,2C', 8.99), ('AS', 8.5182), ('QH', 7.7416), ('2C', 7.2548), ('2D', 6.1444), ('4C', 4.1199), ('5C', -3.1445), ('KC', -12.893)]\n\nJH,QH,4C,5C,KC,AS,2C,2C,2D\n2C\n[('2C', 5.3857), ('AS', 4.677), ('2D', 3.0687)]\n\nJH,QH,4C,5C,KC,AS,2C,2D\n2C\n[('2C', 10.0905), ('AS', 9.4131), ('2D', 9.2681), ('JH', 8.8821), ('QH', 5.5229), ('4C', 1.7415), ('5C', -5.1488), ('KC', -12.3852)]\n\nJH,QH,4C,5C,KC,AS,2D\nAS\n[('AS', 2.1555), ('2D', 0.8109), ('pass', -1.7557)]\n\nJH,QH,4C,5C,KC,2D\n2D\n[('2D', 4.8014), ('JH', 2.1223), ('QH', -0.1419), ('4C', -4.4266), ('5C', -10.4578), ('KC', -14.6838)]\n\nJH,QH,4C,5C,KC\nJH\n[('JH', 4.5228), ('QH', 1.0241), ('4C', -0.555), ('KC', -3.9255), ('5C', -4.1746)]\n\nQH,4C,5C,KC\nQH\n[('QH', 2.2021), ('4C', -3.3282), ('5C', -9.9822), ('KC', -10.2571)]\n\n4C,5C,KC\n4C\n[('4C', -2.3627), ('KC', -3.6453), ('5C', -9.7621)]\n\n5C,KC\nKC\n[('KC', 20.6882), ('5C', -15.221)]\n\n5C\n5C\n[('5C', 5.7961)]\n\n"
     ]
    }
   ],
   "source": [
    "from rlcard.agents import RandomAgent, TractorRuleAgent\n",
    "\n",
    "# Evaluate the performance. Play with random agents.\n",
    "random_agent = RandomAgent(env.action_num)\n",
    "rule_agent = TractorRuleAgent(env.action_num)\n",
    "\n",
    "# env.set_agents([random_agent, random_agent, random_agent, random_agent])\n",
    "\n",
    "# env.set_agents([nfsp_agents[0], random_agent, random_agent, random_agent])\n",
    "# env.set_agents([nfsp_agents[0], random_agent, nfsp_agents[1], random_agent])\n",
    "# env.set_agents([nfsp_agents[0], nfsp_agents[1],nfsp_agents[2],nfsp_agents[3]])\n",
    "\n",
    "# env.set_agents([rule_agent, rule_agent, rule_agent, rule_agent])\n",
    "# env.set_agents([nfsp_agents[0], rule_agent, rule_agent, rule_agent])\n",
    "env.set_agents([nfsp_agents[0], rule_agent, nfsp_agents[1], rule_agent])\n",
    "\n",
    "_trajectories, _payoffs = env.run(is_training=False, debug=True)\n",
    "\n"
   ]
  },
  {
   "cell_type": "code",
   "execution_count": 6,
   "metadata": {},
   "outputs": [
    {
     "output_type": "stream",
     "name": "stdout",
     "text": [
      "Round 0:\n4H,6H,9H,JH,JH,AH,4C,5C,7C,8C,KC,3D,5D,6D,6D,8D,9D,KD,AD,4S,5S,8S,9S,KS,2H,2C,RJ\nAction: JH,JH\n[(0, ['JH', 'JH']), (1, ['8H', 'QH']), (2, ['KH', 'KH']), (3, ['7H', '7H'])]\nScore: 0 : 0\n\nRound 1:\n4H,6H,9H,AH,4C,5C,7C,8C,KC,3D,5D,6D,6D,8D,9D,KD,AD,4S,5S,8S,9S,KS,2H,2C,RJ\nAction: pass\n[(2, ['5H', '5H']), (3, ['8H', '9H']), (0, ['4H', '6H']), (1, ['AS', 'AS'])]\nScore: 20 : 0\n\nRound 2:\n9H,AH,4C,5C,7C,8C,KC,3D,5D,6D,6D,8D,9D,KD,AD,4S,5S,8S,9S,KS,2H,2C,RJ\nAction: 6D,6D\n[(1, ['TD', 'TD']), (2, ['5D', 'AD']), (3, ['JD', 'JD']), (0, ['6D', '6D'])]\nScore: 20 : 10\n\nRound 3:\n9H,AH,4C,5C,7C,8C,KC,3D,5D,8D,9D,KD,AD,4S,5S,8S,9S,KS,2H,2C,RJ\nAction: pass\n[(3, ['2S', '2S']), (0, ['4S', '5S']), (1, ['3S', '6S']), (2, ['7S', '7S'])]\nScore: 20 : 35\n\nRound 4:\n9H,AH,4C,5C,7C,8C,KC,3D,5D,8D,9D,KD,AD,8S,9S,KS,2H,2C,RJ\nAction: RJ\n[(3, ['2C']), (0, ['RJ']), (1, ['RJ']), (2, ['9S'])]\nScore: 20 : 40\n\nRound 5:\n9H,AH,4C,5C,7C,8C,KC,3D,5D,8D,9D,KD,AD,8S,9S,KS,2H,2C\nAction: KD\n[(0, ['KD']), (1, ['QD']), (2, ['TS']), (3, ['KD'])]\nScore: 20 : 40\n\nRound 6:\n9H,AH,4C,5C,7C,8C,KC,3D,5D,8D,9D,AD,8S,9S,KS,2H,2C\nAction: pass\n[(2, ['3H', '3H']), (3, ['TH', 'AH']), (0, ['9H', 'AH']), (1, ['3C', '6C'])]\nScore: 50 : 40\n\nRound 7:\n4C,5C,7C,8C,KC,3D,5D,8D,9D,AD,8S,9S,KS,2H,2C\nAction: KS\n[(2, ['3S']), (3, ['2H']), (0, ['KS']), (1, ['BJ'])]\nScore: 60 : 40\n\nRound 8:\n4C,5C,7C,8C,KC,3D,5D,8D,9D,AD,8S,9S,2H,2C\nAction: pass\n[(1, ['JC', 'JC']), (2, ['5C', '6C']), (3, ['3C', '4C']), (0, ['4C', '5C'])]\nScore: 60 : 50\n\nRound 9:\n7C,8C,KC,3D,5D,8D,9D,AD,8S,9S,2H,2C\nAction: 8S\n[(1, ['2D']), (2, ['BJ']), (3, ['JS']), (0, ['8S'])]\nScore: 60 : 60\n\nRound 10:\n7C,8C,KC,3D,5D,8D,9D,AD,9S,2H,2C\nAction: 2H\n[(2, ['KS']), (3, ['6S']), (0, ['2H']), (1, ['QS'])]\nScore: 60 : 60\n\nRound 11:\n7C,8C,KC,3D,5D,8D,9D,AD,9S,2C\nAction: 2C\n[(0, ['2C']), (1, ['JS']), (2, ['4S']), (3, ['5S'])]\nScore: 70 : 60\n\nRound 12:\n7C,8C,KC,3D,5D,8D,9D,AD,9S\nAction: AD\n[(0, ['AD']), (1, ['9D']), (2, ['2D']), (3, ['QD'])]\nScore: 75 : 60\n\nRound 13:\n7C,8C,KC,3D,5D,8D,9D,9S\nAction: 9S\n[(2, ['8S']), (3, ['7C']), (0, ['9S']), (1, ['TS'])]\nScore: 75 : 60\n\nRound 14:\n7C,8C,KC,3D,5D,8D,9D\nAction: 9D\n[(1, ['8D']), (2, ['QS']), (3, ['7D']), (0, ['9D'])]\nScore: 75 : 70\n\nRound 15:\n7C,8C,KC,3D,5D,8D\nAction: pass\n[(2, ['QH']), (3, ['9C']), (0, ['7C']), (1, ['9C'])]\nScore: 75 : 70\n\nRound 16:\n8C,KC,3D,5D,8D\nAction: pass\n[(2, ['TH']), (3, ['TC']), (0, ['8C']), (1, ['QC'])]\nScore: 75 : 70\n\nRound 17:\nKC,3D,5D,8D\nAction: pass\n[(2, ['6H']), (3, ['QC']), (0, ['KC']), (1, ['KC'])]\nScore: 95 : 70\n\nRound 18:\n3D,5D,8D\nAction: pass\n[(2, ['4H']), (3, ['AC']), (0, ['3D']), (1, ['AC'])]\nScore: 115 : 70\n\nRound 19:\n5D,8D\nAction: pass\n[(2, ['TC']), (3, ['3D']), (0, ['5D']), (1, ['4D'])]\nScore: 115 : 70\n\nRound 20:\n8D\nAction: pass\n[(2, ['8C']), (3, ['4D']), (0, ['8D']), (1, ['7D'])]\nScore: 130 : 70\n\n[130, 70]\n"
     ]
    }
   ],
   "source": [
    "# from rlcard.games.tractor.utils import tournament_tractor\n",
    "# evaluate_num = 1000\n",
    "# reward = tournament_tractor(env, evaluate_num)\n",
    "# print('Average win rate: ', reward)\n",
    "\n",
    "import numpy as np\n",
    "from rlcard.games.tractor.utils import CARD_RANK_STR, ACTION_LIST\n",
    "\n",
    "for i in range(len(_trajectories[0])):\n",
    "    cards = []\n",
    "    for j in range(len(CARD_RANK_STR)):\n",
    "        if _trajectories[0][i][0]['obs'][0][1][j] == 1:\n",
    "            cards.append(CARD_RANK_STR[j])\n",
    "        if _trajectories[0][i][0]['obs'][0][2][j] == 1:\n",
    "            cards.append(CARD_RANK_STR[j])\n",
    "            cards.append(CARD_RANK_STR[j])\n",
    "    print(\"Round {}:\".format(i))\n",
    "    print(','.join(cards))\n",
    "    print('Action: {}'.format(ACTION_LIST[_trajectories[0][i][1]]))\n",
    "    print(env.game.round.trace[i*4:(i+1)*4])\n",
    "    print(\"Score: {} : {}\".format(_trajectories[0][i][0]['obs'][5][0][0], _trajectories[0][i][0]['obs'][5][0][1]))\n",
    "    print()\n",
    "\n",
    "print(env.game.round.score)\n"
   ]
  },
  {
   "cell_type": "code",
   "execution_count": null,
   "metadata": {},
   "outputs": [],
   "source": []
  }
 ]
}