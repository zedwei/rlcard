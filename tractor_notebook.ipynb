{
 "metadata": {
  "language_info": {
   "codemirror_mode": {
    "name": "ipython",
    "version": 3
   },
   "file_extension": ".py",
   "mimetype": "text/x-python",
   "name": "python",
   "nbconvert_exporter": "python",
   "pygments_lexer": "ipython3",
   "version": "3.7.8"
  },
  "orig_nbformat": 2,
  "kernelspec": {
   "name": "python378jvsc74a57bd057baa5815c940fdaff4d14510622de9616cae602444507ba5d0b6727c008cbd6",
   "display_name": "Python 3.7.8 64-bit"
  },
  "metadata": {
   "interpreter": {
    "hash": "57baa5815c940fdaff4d14510622de9616cae602444507ba5d0b6727c008cbd6"
   }
  }
 },
 "nbformat": 4,
 "nbformat_minor": 2,
 "cells": [
  {
   "cell_type": "code",
   "execution_count": null,
   "metadata": {},
   "outputs": [],
   "source": [
    "# test Dealer.shuffle and cards2str functions\n",
    "\n",
    "import numpy as np\n",
    "from rlcard.games.tractor.dealer import TractorDealer\n",
    "\n",
    "np_random = np.random.RandomState()\n",
    "dealer = TractorDealer(np_random)\n",
    "dealer.shuffle()\n",
    "print(dealer.deck)"
   ]
  },
  {
   "cell_type": "code",
   "execution_count": null,
   "metadata": {},
   "outputs": [],
   "source": [
    "# test Judger.playable_cards_from_hand function\n",
    "\n",
    "from rlcard.games.tractor.judger import TractorJudger\n",
    "\n",
    "print(TractorJudger.playable_cards_from_hand(['AD','9H','KC','KC','AC','AC','3D','3D','7H','BJ','BJ','RJ','RJ','AD','2D','2D','2H','2H','2S','2S','AS','AS','AD','AD']))"
   ]
  },
  {
   "cell_type": "code",
   "execution_count": null,
   "metadata": {},
   "outputs": [],
   "source": [
    "# test Player.available_actions function\n",
    "\n",
    "from rlcard.games.tractor import Game\n",
    "import numpy as np\n",
    "\n",
    "game = Game()\n",
    "game.init_game()\n",
    "\n",
    "print(game.players[0].current_hand)\n",
    "playable_cards = game.judger.get_playable_cards(game.players[0])\n",
    "print(playable_cards)\n",
    "played_cards = max(playable_cards, key=len)\n",
    "\n",
    "game.players[0].played_cards = played_cards\n",
    "#game.players[0].played_cards = cards2str([game.players[0].current_hand[10]])\n",
    "print(game.players[0].played_cards)\n",
    "print(game.players[1].current_hand)\n",
    "available_actions = game.players[1].available_actions(game.players[0], game.judger, game.round)\n",
    "print(available_actions)\n"
   ]
  },
  {
   "cell_type": "code",
   "execution_count": null,
   "metadata": {},
   "outputs": [],
   "source": [
    "''' Test for round.calc_score_in_round\n",
    "'''\n",
    "import numpy as np\n",
    "from rlcard.games.tractor import Round\n",
    "\n",
    "\n",
    "np_random = np.random.RandomState()\n",
    "round = Round(np_random)\n",
    "\n",
    "round.current_round = [['5S','TS'], ['5H','5S'], ['3S'], ['KH']]\n",
    "print(round.calc_score_in_round())\n"
   ]
  },
  {
   "cell_type": "code",
   "execution_count": null,
   "metadata": {},
   "outputs": [],
   "source": [
    "''' generate action space\n",
    "'''\n",
    "import numpy as np\n",
    "from rlcard.games.tractor import Dealer, Judger\n",
    "\n",
    "np_random = np.random.RandomState()\n",
    "dealer = Dealer(np)\n",
    "\n",
    "cards = dealer.deck\n",
    "# print(cards)\n",
    "\n",
    "actions = Judger.playable_cards_from_hand(cards)\n",
    "actions.sort()\n",
    "\n",
    "actions.extend(['pass', 'pass_score'])\n",
    "print(actions)\n",
    "# print(len(actions))\n",
    "\n",
    "action_index = {','.join(actions[x]):x for x in range(len(actions))}\n",
    "print(action_index)\n",
    "print(len(action_index.keys()))\n",
    "\n"
   ]
  },
  {
   "cell_type": "code",
   "execution_count": null,
   "metadata": {},
   "outputs": [],
   "source": [
    "''' Test Game class\n",
    "'''\n",
    "from rlcard.games.tractor import Game\n",
    "\n",
    "game = Game()\n",
    "state, player_id = game.init_game()\n",
    "\n",
    "print(state, \"\\r\\n\")\n",
    "\n",
    "while not game.is_over():\n",
    "     state, next_id = game.step(state['actions'][0])\n",
    "     print(state, \"\\r\\n\")\n",
    "\n",
    "print(state)\n",
    "\n"
   ]
  },
  {
   "cell_type": "code",
   "execution_count": null,
   "metadata": {
    "tags": []
   },
   "outputs": [],
   "source": [
    "''' Test Game class perf\n",
    "'''\n",
    "from tqdm import tqdm\n",
    "from rlcard.games.tractor import Game\n",
    "import cProfile\n",
    "\n",
    "def run():\n",
    "    for iter in tqdm(range(1000)):\n",
    "        state, player_id = game.init_game()\n",
    "        while not game.is_over():\n",
    "            state, next_id = game.step(state['actions'][0])\n",
    "\n",
    "game = Game()\n",
    "cProfile.run('run()')\n",
    "\n",
    "\n",
    "\n"
   ]
  },
  {
   "cell_type": "code",
   "execution_count": 1,
   "metadata": {},
   "outputs": [
    {
     "output_type": "stream",
     "name": "stdout",
     "text": [
      "WARNING:tensorflow:From d:\\Projects\\rlcard\\rlcard\\utils\\utils.py:335: The name tf.set_random_seed is deprecated. Please use tf.compat.v1.set_random_seed instead.\n",
      "\n",
      "WARNING:tensorflow:From d:\\Projects\\rlcard\\rlcard\\models\\tractor_pretrained_models.py:23: The name tf.ConfigProto is deprecated. Please use tf.compat.v1.ConfigProto instead.\n",
      "\n",
      "WARNING:tensorflow:From d:\\Projects\\rlcard\\rlcard\\models\\tractor_pretrained_models.py:26: The name tf.Session is deprecated. Please use tf.compat.v1.Session instead.\n",
      "\n",
      "WARNING:tensorflow:From d:\\Projects\\rlcard\\rlcard\\agents\\nfsp_agent.py:114: The name tf.variable_scope is deprecated. Please use tf.compat.v1.variable_scope instead.\n",
      "\n",
      "WARNING:tensorflow:From d:\\Projects\\rlcard\\rlcard\\agents\\dqn_agent.py:263: The name tf.placeholder is deprecated. Please use tf.compat.v1.placeholder instead.\n",
      "\n",
      "WARNING:tensorflow:From d:\\Projects\\rlcard\\rlcard\\agents\\dqn_agent.py:274: batch_normalization (from tensorflow.python.layers.normalization) is deprecated and will be removed in a future version.\n",
      "Instructions for updating:\n",
      "Use keras.layers.BatchNormalization instead.  In particular, `tf.control_dependencies(tf.GraphKeys.UPDATE_OPS)` should not be used (consult the `tf.keras.layers.batch_normalization` documentation).\n",
      "WARNING:tensorflow:From C:\\Users\\RanW\\AppData\\Roaming\\Python\\Python37\\site-packages\\tensorflow_core\\python\\layers\\normalization.py:327: Layer.apply (from tensorflow.python.keras.engine.base_layer) is deprecated and will be removed in a future version.\n",
      "Instructions for updating:\n",
      "Please use `layer.__call__` method instead.\n",
      "WARNING:tensorflow:\n",
      "The TensorFlow contrib module will not be included in TensorFlow 2.0.\n",
      "For more information, please see:\n",
      "  * https://github.com/tensorflow/community/blob/master/rfcs/20180907-contrib-sunset.md\n",
      "  * https://github.com/tensorflow/addons\n",
      "  * https://github.com/tensorflow/io (for I/O related ops)\n",
      "If you depend on functionality not listed there, please file an issue.\n",
      "\n",
      "WARNING:tensorflow:From C:\\Users\\RanW\\AppData\\Roaming\\Python\\Python37\\site-packages\\tensorflow_core\\contrib\\layers\\python\\layers\\layers.py:1634: flatten (from tensorflow.python.layers.core) is deprecated and will be removed in a future version.\n",
      "Instructions for updating:\n",
      "Use keras.layers.flatten instead.\n",
      "WARNING:tensorflow:From d:\\Projects\\rlcard\\rlcard\\agents\\dqn_agent.py:288: The name tf.squared_difference is deprecated. Please use tf.math.squared_difference instead.\n",
      "\n",
      "WARNING:tensorflow:From d:\\Projects\\rlcard\\rlcard\\agents\\dqn_agent.py:249: The name tf.get_collection is deprecated. Please use tf.compat.v1.get_collection instead.\n",
      "\n",
      "WARNING:tensorflow:From d:\\Projects\\rlcard\\rlcard\\agents\\dqn_agent.py:249: The name tf.GraphKeys is deprecated. Please use tf.compat.v1.GraphKeys instead.\n",
      "\n",
      "WARNING:tensorflow:From d:\\Projects\\rlcard\\rlcard\\agents\\dqn_agent.py:249: The name tf.get_variable_scope is deprecated. Please use tf.compat.v1.get_variable_scope instead.\n",
      "\n",
      "WARNING:tensorflow:From d:\\Projects\\rlcard\\rlcard\\agents\\dqn_agent.py:251: The name tf.train.AdamOptimizer is deprecated. Please use tf.compat.v1.train.AdamOptimizer instead.\n",
      "\n",
      "WARNING:tensorflow:From d:\\Projects\\rlcard\\rlcard\\agents\\dqn_agent.py:254: get_global_step (from tensorflow.contrib.framework.python.ops.variables) is deprecated and will be removed in a future version.\n",
      "Instructions for updating:\n",
      "Please switch to tf.train.get_global_step\n",
      "WARNING:tensorflow:From d:\\Projects\\rlcard\\rlcard\\models\\tractor_pretrained_models.py:64: The name tf.train.Saver is deprecated. Please use tf.compat.v1.train.Saver instead.\n",
      "\n",
      "INFO:tensorflow:Restoring parameters from d:\\Projects\\rlcard\\rlcard\\models\\tractor\\tractor_nfsp\\model\n"
     ]
    }
   ],
   "source": [
    "import rlcard\n",
    "from rlcard.utils import set_global_seed\n",
    "from rlcard import models\n",
    "\n",
    "# Make environment\n",
    "env = rlcard.make('tractor', config={'seed': 0})\n",
    "\n",
    "# Set a global seed\n",
    "set_global_seed(0)\n",
    "\n",
    "# Here we directly load NFSP models from /models module\n",
    "nfsp_agents = models.load('tractor_nfsp_v1').agents\n"
   ]
  },
  {
   "cell_type": "code",
   "execution_count": 57,
   "metadata": {},
   "outputs": [
    {
     "output_type": "stream",
     "name": "stdout",
     "text": [
      "3H,7H,QH,5C,7C,8C,TC,JC,QC,KC,5D,8D,9D,9D,TD,AD,8S,9S,JS,JS,QS,QS,KS,AS,2H,2D,RJ\nJS,JS,QS,QS\n[('JS,JS,QS,QS', 0.5859), ('QS,QS', -0.1472), ('JS,JS', -0.1629), ('QC', -0.2543), ('9D,9D', -0.261), ('KC', -0.2756), ('QS', -0.281), ('2D', -0.2851), ('5C', -0.2912), ('RJ', -0.2989), ('2H', -0.2997), ('9S', -0.3061), ('8S', -0.307), ('JS', -0.312), ('JC', -0.3148), ('KS', -0.3167), ('5D', -0.3347), ('7H', -0.345), ('8C', -0.3529), ('9D', -0.3583), ('TC', -0.3618), ('3H', -0.381), ('QH', -0.3874), ('TD', -0.3973), ('8D', -0.4089), ('AS', -0.4091), ('AD', -0.4121), ('7C', -0.4444)]\n\n3H,7H,QH,5C,7C,8C,TC,JC,QC,KC,5D,8D,9D,9D,TD,AD,8S,9S,KS,AS,2H,2D,RJ\nQC\n[('QC', -0.2554), ('9D,9D', -0.2567), ('KC', -0.2754), ('2D', -0.2849), ('5C', -0.291), ('2H', -0.2962), ('RJ', -0.2962), ('8S', -0.3069), ('9S', -0.3086), ('JC', -0.3118), ('KS', -0.3167), ('5D', -0.3334), ('7H', -0.3424), ('8C', -0.3517), ('TC', -0.3568), ('9D', -0.3592), ('3H', -0.3802), ('QH', -0.385), ('TD', -0.3951), ('8D', -0.4024), ('AS', -0.4055), ('AD', -0.4092), ('7C', -0.4458)]\n\n3H,7H,QH,5C,7C,8C,TC,JC,KC,5D,8D,9D,9D,TD,AD,8S,9S,KS,AS,2H,2D,RJ\npass\n[('pass', -0.2938)]\n\nQH,5C,7C,8C,TC,JC,KC,5D,8D,9D,9D,TD,AD,8S,9S,KS,AS,2H,2D,RJ\npass\n[('pass', -0.2936)]\n\n7C,8C,TC,JC,KC,5D,8D,9D,9D,TD,AD,8S,9S,KS,AS,2H,2D,RJ\n2D\n[('2D', -0.2843), ('2H', -0.2945), ('RJ', -0.2961), ('8S', -0.3067), ('9S', -0.313), ('KS', -0.3176), ('AS', -0.403)]\n\n7C,8C,TC,JC,KC,5D,8D,9D,9D,TD,AD,8S,9S,KS,AS,2H,RJ\n2H\n[('2H', -0.2941), ('RJ', -0.2968), ('8S', -0.3068), ('9S', -0.3131), ('KS', -0.3177), ('AS', -0.4022)]\n\n7C,8C,TC,JC,KC,5D,8D,9D,9D,TD,AD,8S,9S,KS,AS,RJ\nRJ\n[('RJ', -0.2968), ('8S', -0.3065), ('9S', -0.3124), ('KS', -0.3187), ('AS', -0.4019)]\n\n7C,8C,TC,JC,KC,5D,8D,9D,9D,TD,AD,8S,9S,KS,AS\n9D,9D\n[('9D,9D', -0.2577), ('KC', -0.275), ('8S', -0.3064), ('JC', -0.3084), ('9S', -0.3129), ('KS', -0.3192), ('5D', -0.3316), ('8C', -0.35), ('TC', -0.3553), ('9D', -0.3569), ('TD', -0.3945), ('8D', -0.3969), ('AS', -0.4018), ('AD', -0.4069), ('7C', -0.4476)]\n\n7C,8C,TC,JC,KC,5D,8D,TD,AD,8S,9S,KS,AS\n5D\n[('5D', -0.3316), ('TD', -0.3938), ('8D', -0.3957), ('AD', -0.4075)]\n\n7C,8C,TC,JC,KC,8D,TD,AD,8S,9S,KS,AS\nTD\n[('TD', -0.3942), ('8D', -0.3946), ('AD', -0.4078)]\n\n7C,8C,TC,JC,KC,8D,AD,8S,9S,KS,AS\n8D\n[('8D', -0.3946), ('AD', -0.408)]\n\n7C,8C,TC,JC,KC,AD,8S,9S,KS,AS\nAD\n[('AD', -0.4078)]\n\n7C,8C,TC,JC,KC,8S,9S,KS,AS\nKC\n[('KC', -0.2758), ('8S', -0.3067), ('JC', -0.3072), ('9S', -0.3152), ('KS', -0.3219), ('8C', -0.3508), ('TC', -0.3569), ('AS', -0.3966), ('7C', -0.4488)]\n\n7C,8C,TC,JC,8S,9S,KS,AS\nJC\n[('8S', -0.3066), ('JC', -0.3066), ('9S', -0.316), ('KS', -0.3223), ('8C', -0.3508), ('TC', -0.3564), ('AS', -0.3963), ('7C', -0.4486)]\n\n7C,8C,TC,8S,9S,KS,AS\n8S\n[('8S', -0.307), ('9S', -0.3156), ('KS', -0.3224), ('8C', -0.351), ('TC', -0.3561), ('AS', -0.3961), ('7C', -0.4485)]\n\n7C,8C,TC,9S,KS,AS\n9S\n[('9S', -0.3159), ('KS', -0.3225), ('8C', -0.3514), ('TC', -0.3565), ('AS', -0.396), ('7C', -0.4475)]\n\n7C,8C,TC,KS,AS\n8C\n[('8C', -0.3521), ('TC', -0.3569), ('7C', -0.4449)]\n\n7C,TC,KS,AS\nKS\n[('KS', -0.3241), ('AS', -0.3954)]\n\n7C,TC,AS\nTC\n[('TC', -0.357), ('AS', -0.3953), ('7C', -0.4442)]\n\n7C,AS\nAS\n[('AS', -0.3952), ('7C', -0.4434)]\n\n7C\npass\n[('pass', -0.2952)]\n\n"
     ]
    }
   ],
   "source": [
    "from rlcard.agents import RandomAgent, TractorRuleAgent\n",
    "\n",
    "# Evaluate the performance. Play with random agents.\n",
    "random_agent = RandomAgent(env.action_num)\n",
    "rule_agent = TractorRuleAgent(env.action_num)\n",
    "\n",
    "# env.set_agents([random_agent, random_agent, random_agent, random_agent])\n",
    "\n",
    "# env.set_agents([nfsp_agents[0], random_agent, random_agent, random_agent])\n",
    "# env.set_agents([nfsp_agents[0], random_agent, nfsp_agents[1], random_agent])\n",
    "# env.set_agents([nfsp_agents[0], nfsp_agents[1],nfsp_agents[2],nfsp_agents[3]])\n",
    "\n",
    "# env.set_agents([nfsp_agents[0], rule_agent, rule_agent, rule_agent])\n",
    "env.set_agents([nfsp_agents[0], rule_agent, nfsp_agents[1], rule_agent])\n",
    "\n",
    "_trajectories, _payoffs = env.run(is_training=False, debug=True)\n",
    "\n"
   ]
  },
  {
   "cell_type": "code",
   "execution_count": 59,
   "metadata": {},
   "outputs": [
    {
     "output_type": "stream",
     "name": "stdout",
     "text": [
      "Round 0:\n3H,7H,QH,5C,7C,8C,TC,JC,QC,KC,5D,8D,9D,9D,TD,AD,8S,9S,JS,JS,QS,QS,KS,AS,2H,2D,RJ\nAction: JS,JS,QS,QS\n[(0, ['JS', 'JS', 'QS', 'QS']), (1, ['4S', '8S', '9S', 'AS']), (2, ['3S', '3S', 'TS', 'TS']), (3, ['5S', '6S', '7S', '2H'])]\nScore: 0\n\nRound 1:\n3H,7H,QH,5C,7C,8C,TC,JC,QC,KC,5D,8D,9D,9D,TD,AD,8S,9S,KS,AS,2H,2D,RJ\nAction: QC\n[(0, ['QC']), (1, ['AC']), (2, ['KC']), (3, ['AC'])]\nScore: 0\n\nRound 2:\n3H,7H,QH,5C,7C,8C,TC,JC,KC,5D,8D,9D,9D,TD,AD,8S,9S,KS,AS,2H,2D,RJ\nAction: pass\n[(1, ['8H', '8H']), (2, ['3H', '5H']), (3, ['5H', '6H']), (0, ['3H', '7H'])]\nScore: 0\n\nRound 3:\nQH,5C,7C,8C,TC,JC,KC,5D,8D,9D,9D,TD,AD,8S,9S,KS,AS,2H,2D,RJ\nAction: pass\n[(1, ['4H', '4H']), (2, ['7H', '9H']), (3, ['9H', 'TH']), (0, ['QH', '5C'])]\nScore: 0\n\nRound 4:\n7C,8C,TC,JC,KC,5D,8D,9D,9D,TD,AD,8S,9S,KS,AS,2H,2D,RJ\nAction: 2D\n[(1, ['RJ']), (2, ['7S']), (3, ['BJ']), (0, ['2D'])]\nScore: 0\n\nRound 5:\n7C,8C,TC,JC,KC,5D,8D,9D,9D,TD,AD,8S,9S,KS,AS,2H,RJ\nAction: 2H\n[(1, ['BJ']), (2, ['KS']), (3, ['2S']), (0, ['2H'])]\nScore: 0\n\nRound 6:\n7C,8C,TC,JC,KC,5D,8D,9D,9D,TD,AD,8S,9S,KS,AS,RJ\nAction: RJ\n[(1, ['2C']), (2, ['6S']), (3, ['2C']), (0, ['RJ'])]\nScore: 0\n\nRound 7:\n7C,8C,TC,JC,KC,5D,8D,9D,9D,TD,AD,8S,9S,KS,AS\nAction: 9D,9D\n[(0, ['9D', '9D']), (1, ['3D', '5D']), (2, ['QD', 'QD']), (3, ['4D', '7D'])]\nScore: 0\n\nRound 8:\n7C,8C,TC,JC,KC,5D,8D,TD,AD,8S,9S,KS,AS\nAction: 5D\n[(2, ['7D']), (3, ['AD']), (0, ['5D']), (1, ['KD'])]\nScore: 0\n\nRound 9:\n7C,8C,TC,JC,KC,8D,TD,AD,8S,9S,KS,AS\nAction: TD\n[(3, ['KD']), (0, ['TD']), (1, ['TD']), (2, ['3D'])]\nScore: 0\n\nRound 10:\n7C,8C,TC,JC,KC,8D,AD,8S,9S,KS,AS\nAction: 8D\n[(3, ['JD']), (0, ['8D']), (1, ['6D']), (2, ['4D'])]\nScore: 0\n\nRound 11:\n7C,8C,TC,JC,KC,AD,8S,9S,KS,AS\nAction: AD\n[(3, ['8D']), (0, ['AD']), (1, ['6H']), (2, ['6D'])]\nScore: 0\n\nRound 12:\n7C,8C,TC,JC,KC,8S,9S,KS,AS\nAction: KC\n[(0, ['KC']), (1, ['JC']), (2, ['9C']), (3, ['TC'])]\nScore: 0\n\nRound 13:\n7C,8C,TC,JC,8S,9S,KS,AS\nAction: JC\n[(0, ['JC']), (1, ['6C']), (2, ['3C']), (3, ['9C'])]\nScore: 0\n\nRound 14:\n7C,8C,TC,8S,9S,KS,AS\nAction: 8S\n[(0, ['8S']), (1, ['TH']), (2, ['5S']), (3, ['JH'])]\nScore: 0\n\nRound 15:\n7C,8C,TC,9S,KS,AS\nAction: 9S\n[(0, ['9S']), (1, ['JH']), (2, ['2D']), (3, ['KH'])]\nScore: 0\n\nRound 16:\n7C,8C,TC,KS,AS\nAction: 8C\n[(2, ['QC']), (3, ['8C']), (0, ['8C']), (1, ['5C'])]\nScore: 0\n\nRound 17:\n7C,TC,KS,AS\nAction: KS\n[(2, ['4S']), (3, ['AH']), (0, ['KS']), (1, ['KH'])]\nScore: 0\n\nRound 18:\n7C,TC,AS\nAction: TC\n[(0, ['TC']), (1, ['3C']), (2, ['QH']), (3, ['4C'])]\nScore: 0\n\nRound 19:\n7C,AS\nAction: AS\n[(0, ['AS']), (1, ['AH']), (2, ['2S']), (3, ['6C'])]\nScore: 0\n\nRound 20:\n7C\nAction: pass\n[(2, ['JD']), (3, ['7C']), (0, ['7C']), (1, ['4C'])]\nScore: 1\n\n[110, 90]\n"
     ]
    }
   ],
   "source": [
    "# from rlcard.games.tractor.utils import tournament_tractor\n",
    "# evaluate_num = 100\n",
    "# reward = tournament_tractor(env, evaluate_num)\n",
    "# print('Average win rate: ', reward)\n",
    "\n",
    "import numpy as np\n",
    "from rlcard.games.tractor.utils import CARD_RANK_STR, ACTION_LIST\n",
    "\n",
    "for i in range(len(_trajectories[0])):\n",
    "    cards = []\n",
    "    for j in range(len(CARD_RANK_STR)):\n",
    "        if _trajectories[0][i][0]['obs'][0][1][j] == 1:\n",
    "            cards.append(CARD_RANK_STR[j])\n",
    "        if _trajectories[0][i][0]['obs'][0][2][j] == 1:\n",
    "            cards.append(CARD_RANK_STR[j])\n",
    "            cards.append(CARD_RANK_STR[j])\n",
    "    print(\"Round {}:\".format(i))\n",
    "    print(','.join(cards))\n",
    "    print('Action: {}'.format(ACTION_LIST[_trajectories[0][i][1]]))\n",
    "    print(env.game.round.trace[i*4:(i+1)*4])\n",
    "    print(\"Score: {} : {}\".format(_trajectories[0][i][0]['obs'][5][0][0], _trajectories[0][i][0]['obs'][5][0][1]))\n",
    "    print()\n",
    "\n",
    "print(env.game.round.score)\n"
   ]
  },
  {
   "cell_type": "code",
   "execution_count": null,
   "metadata": {},
   "outputs": [],
   "source": []
  }
 ]
}