{
 "metadata": {
  "language_info": {
   "codemirror_mode": {
    "name": "ipython",
    "version": 3
   },
   "file_extension": ".py",
   "mimetype": "text/x-python",
   "name": "python",
   "nbconvert_exporter": "python",
   "pygments_lexer": "ipython3",
   "version": "3.7.8"
  },
  "orig_nbformat": 2,
  "kernelspec": {
   "name": "python378jvsc74a57bd057baa5815c940fdaff4d14510622de9616cae602444507ba5d0b6727c008cbd6",
   "display_name": "Python 3.7.8 64-bit"
  },
  "metadata": {
   "interpreter": {
    "hash": "57baa5815c940fdaff4d14510622de9616cae602444507ba5d0b6727c008cbd6"
   }
  }
 },
 "nbformat": 4,
 "nbformat_minor": 2,
 "cells": [
  {
   "cell_type": "code",
   "execution_count": null,
   "metadata": {},
   "outputs": [],
   "source": [
    "from rlcard.games.tractor.utils import ACTION_SPACE\r\n",
    "\r\n",
    "s = [\"\\\"{}\\\", {}\".format(x, ACTION_SPACE[x]) for x in ACTION_SPACE]\r\n",
    "\r\n",
    "s = [(\"{\" + x + \"}\") for x in s]\r\n",
    "\r\n",
    "print(', '.join(s))"
   ]
  },
  {
   "cell_type": "code",
   "execution_count": null,
   "metadata": {},
   "outputs": [],
   "source": [
    "from rlcard.games.tractor import Dealer\n",
    "\n",
    "dealer = Dealer('3J', None)\n",
    "\n",
    "print(dealer.deck)\n",
    "print(len(dealer.deck))"
   ]
  },
  {
   "cell_type": "code",
   "execution_count": null,
   "metadata": {},
   "outputs": [],
   "source": [
    "\n",
    "import numpy as np\n",
    "\n",
    "np_random = np.random.RandomState()\n",
    "\n",
    "from rlcard.games.tractor import Dealer, Round, Player\n",
    "\n",
    "players = [Player(0, np_random), Player(1, np_random), Player(2, np_random), Player(3, np_random)]\n",
    "\n",
    "round = Round(np_random)\n",
    "round.initiate(players, predefined_trump='5H')\n",
    "\n",
    "round.current_round = [['6J'],['2S'],['NC'],['NJ']]\n",
    "print(round.calc_score_in_round())\n"
   ]
  },
  {
   "cell_type": "code",
   "execution_count": null,
   "metadata": {},
   "outputs": [],
   "source": [
    "from rlcard.games.tractor.utils import CARD_RANK_STR\n",
    "\n",
    "dict = {CARD_RANK_STR[i] : i for i in range(len(CARD_RANK_STR))}\n",
    "\n",
    "print(dict)"
   ]
  },
  {
   "cell_type": "code",
   "execution_count": null,
   "metadata": {},
   "outputs": [],
   "source": [
    "current_hand = ['2S', '3S', '7S', 'KS', 'AS', '3H', '4H', '5H', '7H', '7H', 'AH', '2D', '4D', 'TD', 'AD', 'AD', '3J', '7J', '8J', 'JJ', 'AJ', 'AJ', 'NS', 'ND', 'NJ']\n",
    "print(Judger.playable_cards_from_hand(current_hand, '9C'))"
   ]
  },
  {
   "cell_type": "code",
   "execution_count": null,
   "metadata": {},
   "outputs": [],
   "source": [
    "from rlcard.games.tractor import Dealer, Judger\n",
    "from rlcard.games.tractor.utils import TRUMP_CANDIDATE_STR\n",
    "\n",
    "action_list = []\n",
    "\n",
    "for trump in TRUMP_CANDIDATE_STR:\n",
    "    dealer = Dealer(trump, None)\n",
    "    current_hand = dealer.deck\n",
    "    playable_cards = Judger.playable_cards_from_hand(current_hand, trump)\n",
    "    for cards in playable_cards:\n",
    "        if cards not in action_list:\n",
    "            action_list.append(cards)\n",
    "\n",
    "action_list_str = [','.join(action) for action in action_list]\n",
    "action_list_str.append('pass')\n",
    "action_list_str.append('pass_score')\n",
    "print(action_list_str)\n",
    "print()\n",
    "\n",
    "action_dict = {action_list_str[i] : i for i in range(len(action_list_str))}\n",
    "print(action_dict)\n"
   ]
  },
  {
   "cell_type": "code",
   "execution_count": 1,
   "metadata": {},
   "outputs": [
    {
     "output_type": "stream",
     "name": "stdout",
     "text": [
      "['3H', '4H', '5H', '6H', '7H', '8H', '9H', 'TH', 'JH', 'QH', 'KH', 'AH', '3C', '4C', '5C', '6C', '7C', '8C', '9C', 'TC', 'JC', 'QC', 'KC', 'AC', '3D', '4D', '5D', '6D', '7D', '8D', '9D', 'TD', 'JD', 'QD', 'KD', 'AD', '3J', '4J', '5J', '6J', '7J', '8J', '9J', 'TJ', 'JJ', 'QJ', 'KJ', 'AJ', 'NH', 'NC', 'ND', 'NJ', 'BJ', 'RJ', '3H,3H', '4H,4H', '5H,5H', '6H,6H', '7H,7H', '8H,8H', '9H,9H', 'TH,TH', 'JH,JH', 'QH,QH', 'KH,KH', 'AH,AH', '3C,3C', '4C,4C', '5C,5C', '6C,6C', '7C,7C', '8C,8C', '9C,9C', 'TC,TC', 'JC,JC', 'QC,QC', 'KC,KC', 'AC,AC', '3D,3D', '4D,4D', '5D,5D', '6D,6D', '7D,7D', '8D,8D', '9D,9D', 'TD,TD', 'JD,JD', 'QD,QD', 'KD,KD', 'AD,AD', '3J,3J', '4J,4J', '5J,5J', '6J,6J', '7J,7J', '8J,8J', '9J,9J', 'TJ,TJ', 'JJ,JJ', 'QJ,QJ', 'KJ,KJ', 'AJ,AJ', 'NH,NH', 'NC,NC', 'ND,ND', 'NJ,NJ', 'BJ,BJ', 'RJ,RJ', '3H,3H,4H,4H', '4H,4H,5H,5H', '5H,5H,6H,6H', '6H,6H,7H,7H', '7H,7H,8H,8H', '8H,8H,9H,9H', '9H,9H,TH,TH', 'TH,TH,JH,JH', 'JH,JH,QH,QH', 'QH,QH,KH,KH', 'KH,KH,AH,AH', '3C,3C,4C,4C', '4C,4C,5C,5C', '5C,5C,6C,6C', '6C,6C,7C,7C', '7C,7C,8C,8C', '8C,8C,9C,9C', '9C,9C,TC,TC', 'TC,TC,JC,JC', 'JC,JC,QC,QC', 'QC,QC,KC,KC', 'KC,KC,AC,AC', '3D,3D,4D,4D', '4D,4D,5D,5D', '5D,5D,6D,6D', '6D,6D,7D,7D', '7D,7D,8D,8D', '8D,8D,9D,9D', '9D,9D,TD,TD', 'TD,TD,JD,JD', 'JD,JD,QD,QD', 'QD,QD,KD,KD', 'KD,KD,AD,AD', '3J,3J,4J,4J', '4J,4J,5J,5J', '5J,5J,6J,6J', '6J,6J,7J,7J', '7J,7J,8J,8J', '8J,8J,9J,9J', '9J,9J,TJ,TJ', 'TJ,TJ,JJ,JJ', 'JJ,JJ,QJ,QJ', 'QJ,QJ,KJ,KJ', 'KJ,KJ,AJ,AJ', 'NJ,NJ,BJ,BJ', 'BJ,BJ,RJ,RJ', 'NH,NH,NJ,NJ', 'NC,NC,NJ,NJ', 'ND,ND,NJ,NJ', 'AJ,AJ,NH,NH', 'AJ,AJ,NC,NC', 'AJ,AJ,ND,ND', '2H', '2C', '2D', '2J', '2H,2H', '2C,2C', '2D,2D', '2J,2J', '2H,2H,4H,4H', '2C,2C,4C,4C', '2D,2D,4D,4D', '2J,2J,4J,4J', '2H,2H,3H,3H', '3H,3H,5H,5H', '2C,2C,3C,3C', '3C,3C,5C,5C', '2D,2D,3D,3D', '3D,3D,5D,5D', '2J,2J,3J,3J', '3J,3J,5J,5J', '4H,4H,6H,6H', '4C,4C,6C,6C', '4D,4D,6D,6D', '4J,4J,6J,6J', '5H,5H,7H,7H', '5C,5C,7C,7C', '5D,5D,7D,7D', '5J,5J,7J,7J', '6H,6H,8H,8H', '6C,6C,8C,8C', '6D,6D,8D,8D', '6J,6J,8J,8J', '7H,7H,9H,9H', '7C,7C,9C,9C', '7D,7D,9D,9D', '7J,7J,9J,9J', '8H,8H,TH,TH', '8C,8C,TC,TC', '8D,8D,TD,TD', '8J,8J,TJ,TJ', '9H,9H,JH,JH', '9C,9C,JC,JC', '9D,9D,JD,JD', '9J,9J,JJ,JJ', 'TH,TH,QH,QH', 'TC,TC,QC,QC', 'TD,TD,QD,QD', 'TJ,TJ,QJ,QJ', 'JH,JH,KH,KH', 'JC,JC,KC,KC', 'JD,JD,KD,KD', 'JJ,JJ,KJ,KJ', 'QH,QH,AH,AH', 'QC,QC,AC,AC', 'QD,QD,AD,AD', 'QJ,QJ,AJ,AJ', '3S', '4S', '5S', '6S', '7S', '8S', '9S', 'TS', 'JS', 'QS', 'KS', 'AS', 'NS', '3S,3S', '4S,4S', '5S,5S', '6S,6S', '7S,7S', '8S,8S', '9S,9S', 'TS,TS', 'JS,JS', 'QS,QS', 'KS,KS', 'AS,AS', 'NS,NS', '3S,3S,4S,4S', '4S,4S,5S,5S', '5S,5S,6S,6S', '6S,6S,7S,7S', '7S,7S,8S,8S', '8S,8S,9S,9S', '9S,9S,TS,TS', 'TS,TS,JS,JS', 'JS,JS,QS,QS', 'QS,QS,KS,KS', 'KS,KS,AS,AS', 'NS,NS,NJ,NJ', 'AJ,AJ,NS,NS', '2S', '2S,2S', '2S,2S,4S,4S', '2S,2S,3S,3S', '3S,3S,5S,5S', '4S,4S,6S,6S', '5S,5S,7S,7S', '6S,6S,8S,8S', '7S,7S,9S,9S', '8S,8S,TS,TS', '9S,9S,JS,JS', 'TS,TS,QS,QS', 'JS,JS,KS,KS', 'QS,QS,AS,AS', 'NS,NS,BJ,BJ', 'NH,NH,BJ,BJ', 'NC,NC,BJ,BJ', 'ND,ND,BJ,BJ', 'pass', 'pass_score']\n"
     ]
    }
   ],
   "source": [
    "from rlcard.games.tractor.utils import ACTION_LIST\n",
    "\n",
    "for action in ACTION_LIST:\n",
    "    cards = action.split(',')\n",
    "    if len(cards) == 4:\n",
    "        continue\n",
    "    if len(cards) == 1:\n",
    "        pass\n",
    "    \n",
    "    if len(cards) == 2:\n",
    "        pass\n"
   ]
  }
 ]
}