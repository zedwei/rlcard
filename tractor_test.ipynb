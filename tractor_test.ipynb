{
 "metadata": {
  "language_info": {
   "codemirror_mode": {
    "name": "ipython",
    "version": 3
   },
   "file_extension": ".py",
   "mimetype": "text/x-python",
   "name": "python",
   "nbconvert_exporter": "python",
   "pygments_lexer": "ipython3",
   "version": "3.7.8"
  },
  "orig_nbformat": 2,
  "kernelspec": {
   "name": "python378jvsc74a57bd057baa5815c940fdaff4d14510622de9616cae602444507ba5d0b6727c008cbd6",
   "display_name": "Python 3.7.8 64-bit"
  },
  "metadata": {
   "interpreter": {
    "hash": "57baa5815c940fdaff4d14510622de9616cae602444507ba5d0b6727c008cbd6"
   }
  }
 },
 "nbformat": 4,
 "nbformat_minor": 2,
 "cells": [
  {
   "cell_type": "code",
   "execution_count": null,
   "metadata": {},
   "outputs": [],
   "source": [
    "from rlcard.games.tractor.utils import ACTION_SPACE\r\n",
    "\r\n",
    "s = [\"\\\"{}\\\", {}\".format(x, ACTION_SPACE[x]) for x in ACTION_SPACE]\r\n",
    "\r\n",
    "s = [(\"{\" + x + \"}\") for x in s]\r\n",
    "\r\n",
    "print(', '.join(s))"
   ]
  },
  {
   "cell_type": "code",
   "execution_count": null,
   "metadata": {},
   "outputs": [],
   "source": [
    "from rlcard.games.tractor import Dealer\n",
    "\n",
    "dealer = Dealer('3J', None)\n",
    "\n",
    "print(dealer.deck)\n",
    "print(len(dealer.deck))"
   ]
  },
  {
   "cell_type": "code",
   "execution_count": 2,
   "metadata": {},
   "outputs": [
    {
     "output_type": "stream",
     "name": "stdout",
     "text": [
      "10\n"
     ]
    }
   ],
   "source": [
    "\n",
    "import numpy as np\n",
    "\n",
    "np_random = np.random.RandomState()\n",
    "\n",
    "from rlcard.games.tractor import Dealer, Round, Player\n",
    "\n",
    "players = [Player(0, np_random), Player(1, np_random), Player(2, np_random), Player(3, np_random)]\n",
    "\n",
    "round = Round(np_random)\n",
    "round.initiate(players, predefined_trump='5H')\n",
    "\n",
    "round.current_round = [['6J'],['2S'],['NC'],['NJ']]\n",
    "print(round.calc_score_in_round())\n"
   ]
  },
  {
   "cell_type": "code",
   "execution_count": 1,
   "metadata": {},
   "outputs": [
    {
     "output_type": "stream",
     "name": "stdout",
     "text": [
      "{'2S': 0, '3S': 1, '4S': 2, '5S': 3, '6S': 4, '7S': 5, '8S': 6, '9S': 7, 'TS': 8, 'JS': 9, 'QS': 10, 'KS': 11, 'AS': 12, '2H': 13, '3H': 14, '4H': 15, '5H': 16, '6H': 17, '7H': 18, '8H': 19, '9H': 20, 'TH': 21, 'JH': 22, 'QH': 23, 'KH': 24, 'AH': 25, '2C': 26, '3C': 27, '4C': 28, '5C': 29, '6C': 30, '7C': 31, '8C': 32, '9C': 33, 'TC': 34, 'JC': 35, 'QC': 36, 'KC': 37, 'AC': 38, '2D': 39, '3D': 40, '4D': 41, '5D': 42, '6D': 43, '7D': 44, '8D': 45, '9D': 46, 'TD': 47, 'JD': 48, 'QD': 49, 'KD': 50, 'AD': 51, '2J': 52, '3J': 53, '4J': 54, '5J': 55, '6J': 56, '7J': 57, '8J': 58, '9J': 59, 'TJ': 60, 'JJ': 61, 'QJ': 62, 'KJ': 63, 'AJ': 64, 'NS': 65, 'NH': 66, 'NC': 67, 'ND': 68, 'NJ': 69, 'BJ': 70, 'RJ': 71}\n"
     ]
    }
   ],
   "source": [
    "from rlcard.games.tractor.utils import CARD_RANK_STR\n",
    "\n",
    "dict = {CARD_RANK_STR[i] : i for i in range(len(CARD_RANK_STR))}\n",
    "\n",
    "print(dict)"
   ]
  },
  {
   "cell_type": "code",
   "execution_count": 9,
   "metadata": {},
   "outputs": [
    {
     "output_type": "stream",
     "name": "stdout",
     "text": [
      "[['2S'], ['3S'], ['7S'], ['KS'], ['AS'], ['3H'], ['4H'], ['5H'], ['7H'], ['AH'], ['2D'], ['4D'], ['TD'], ['AD'], ['3J'], ['7J'], ['8J'], ['JJ'], ['AJ'], ['NS'], ['ND'], ['NJ'], ['7H', '7H'], ['AD', 'AD'], ['AJ', 'AJ']]\n"
     ]
    }
   ],
   "source": [
    "current_hand = ['2S', '3S', '7S', 'KS', 'AS', '3H', '4H', '5H', '7H', '7H', 'AH', '2D', '4D', 'TD', 'AD', 'AD', '3J', '7J', '8J', 'JJ', 'AJ', 'AJ', 'NS', 'ND', 'NJ']\n",
    "print(Judger.playable_cards_from_hand(current_hand, '9C'))"
   ]
  },
  {
   "cell_type": "code",
   "execution_count": 8,
   "metadata": {},
   "outputs": [
    {
     "output_type": "stream",
     "name": "stdout",
     "text": [
      "['3H', '4H', '5H', '6H', '7H', '8H', '9H', 'TH', 'JH', 'QH', 'KH', 'AH', '3C', '4C', '5C', '6C', '7C', '8C', '9C', 'TC', 'JC', 'QC', 'KC', 'AC', '3D', '4D', '5D', '6D', '7D', '8D', '9D', 'TD', 'JD', 'QD', 'KD', 'AD', '3J', '4J', '5J', '6J', '7J', '8J', '9J', 'TJ', 'JJ', 'QJ', 'KJ', 'AJ', 'NH', 'NC', 'ND', 'NJ', 'BJ', 'RJ', '3H,3H', '4H,4H', '5H,5H', '6H,6H', '7H,7H', '8H,8H', '9H,9H', 'TH,TH', 'JH,JH', 'QH,QH', 'KH,KH', 'AH,AH', '3C,3C', '4C,4C', '5C,5C', '6C,6C', '7C,7C', '8C,8C', '9C,9C', 'TC,TC', 'JC,JC', 'QC,QC', 'KC,KC', 'AC,AC', '3D,3D', '4D,4D', '5D,5D', '6D,6D', '7D,7D', '8D,8D', '9D,9D', 'TD,TD', 'JD,JD', 'QD,QD', 'KD,KD', 'AD,AD', '3J,3J', '4J,4J', '5J,5J', '6J,6J', '7J,7J', '8J,8J', '9J,9J', 'TJ,TJ', 'JJ,JJ', 'QJ,QJ', 'KJ,KJ', 'AJ,AJ', 'NH,NH', 'NC,NC', 'ND,ND', 'NJ,NJ', 'BJ,BJ', 'RJ,RJ', '3H,3H,4H,4H', '4H,4H,5H,5H', '5H,5H,6H,6H', '6H,6H,7H,7H', '7H,7H,8H,8H', '8H,8H,9H,9H', '9H,9H,TH,TH', 'TH,TH,JH,JH', 'JH,JH,QH,QH', 'QH,QH,KH,KH', 'KH,KH,AH,AH', '3C,3C,4C,4C', '4C,4C,5C,5C', '5C,5C,6C,6C', '6C,6C,7C,7C', '7C,7C,8C,8C', '8C,8C,9C,9C', '9C,9C,TC,TC', 'TC,TC,JC,JC', 'JC,JC,QC,QC', 'QC,QC,KC,KC', 'KC,KC,AC,AC', '3D,3D,4D,4D', '4D,4D,5D,5D', '5D,5D,6D,6D', '6D,6D,7D,7D', '7D,7D,8D,8D', '8D,8D,9D,9D', '9D,9D,TD,TD', 'TD,TD,JD,JD', 'JD,JD,QD,QD', 'QD,QD,KD,KD', 'KD,KD,AD,AD', '3J,3J,4J,4J', '4J,4J,5J,5J', '5J,5J,6J,6J', '6J,6J,7J,7J', '7J,7J,8J,8J', '8J,8J,9J,9J', '9J,9J,TJ,TJ', 'TJ,TJ,JJ,JJ', 'JJ,JJ,QJ,QJ', 'QJ,QJ,KJ,KJ', 'KJ,KJ,AJ,AJ', 'NJ,NJ,BJ,BJ', 'BJ,BJ,RJ,RJ', 'NH,NH,NJ,NJ', 'NC,NC,NJ,NJ', 'ND,ND,NJ,NJ', 'AJ,AJ,NH,NH', 'AJ,AJ,NC,NC', 'AJ,AJ,ND,ND', '2H', '2C', '2D', '2J', '2H,2H', '2C,2C', '2D,2D', '2J,2J', '2H,2H,4H,4H', '2C,2C,4C,4C', '2D,2D,4D,4D', '2J,2J,4J,4J', '2H,2H,3H,3H', '3H,3H,5H,5H', '2C,2C,3C,3C', '3C,3C,5C,5C', '2D,2D,3D,3D', '3D,3D,5D,5D', '2J,2J,3J,3J', '3J,3J,5J,5J', '4H,4H,6H,6H', '4C,4C,6C,6C', '4D,4D,6D,6D', '4J,4J,6J,6J', '5H,5H,7H,7H', '5C,5C,7C,7C', '5D,5D,7D,7D', '5J,5J,7J,7J', '6H,6H,8H,8H', '6C,6C,8C,8C', '6D,6D,8D,8D', '6J,6J,8J,8J', '7H,7H,9H,9H', '7C,7C,9C,9C', '7D,7D,9D,9D', '7J,7J,9J,9J', '8H,8H,TH,TH', '8C,8C,TC,TC', '8D,8D,TD,TD', '8J,8J,TJ,TJ', '9H,9H,JH,JH', '9C,9C,JC,JC', '9D,9D,JD,JD', '9J,9J,JJ,JJ', 'TH,TH,QH,QH', 'TC,TC,QC,QC', 'TD,TD,QD,QD', 'TJ,TJ,QJ,QJ', 'JH,JH,KH,KH', 'JC,JC,KC,KC', 'JD,JD,KD,KD', 'JJ,JJ,KJ,KJ', 'QH,QH,AH,AH', 'QC,QC,AC,AC', 'QD,QD,AD,AD', 'QJ,QJ,AJ,AJ', '3S', '4S', '5S', '6S', '7S', '8S', '9S', 'TS', 'JS', 'QS', 'KS', 'AS', 'NS', '3S,3S', '4S,4S', '5S,5S', '6S,6S', '7S,7S', '8S,8S', '9S,9S', 'TS,TS', 'JS,JS', 'QS,QS', 'KS,KS', 'AS,AS', 'NS,NS', '3S,3S,4S,4S', '4S,4S,5S,5S', '5S,5S,6S,6S', '6S,6S,7S,7S', '7S,7S,8S,8S', '8S,8S,9S,9S', '9S,9S,TS,TS', 'TS,TS,JS,JS', 'JS,JS,QS,QS', 'QS,QS,KS,KS', 'KS,KS,AS,AS', 'NS,NS,NJ,NJ', 'AJ,AJ,NS,NS', '2S', '2S,2S', '2S,2S,4S,4S', '2S,2S,3S,3S', '3S,3S,5S,5S', '4S,4S,6S,6S', '5S,5S,7S,7S', '6S,6S,8S,8S', '7S,7S,9S,9S', '8S,8S,TS,TS', '9S,9S,JS,JS', 'TS,TS,QS,QS', 'JS,JS,KS,KS', 'QS,QS,AS,AS', 'NS,NS,BJ,BJ', 'NH,NH,BJ,BJ', 'NC,NC,BJ,BJ', 'ND,ND,BJ,BJ', 'pass', 'pass_score']\n\n{'3H': 0, '4H': 1, '5H': 2, '6H': 3, '7H': 4, '8H': 5, '9H': 6, 'TH': 7, 'JH': 8, 'QH': 9, 'KH': 10, 'AH': 11, '3C': 12, '4C': 13, '5C': 14, '6C': 15, '7C': 16, '8C': 17, '9C': 18, 'TC': 19, 'JC': 20, 'QC': 21, 'KC': 22, 'AC': 23, '3D': 24, '4D': 25, '5D': 26, '6D': 27, '7D': 28, '8D': 29, '9D': 30, 'TD': 31, 'JD': 32, 'QD': 33, 'KD': 34, 'AD': 35, '3J': 36, '4J': 37, '5J': 38, '6J': 39, '7J': 40, '8J': 41, '9J': 42, 'TJ': 43, 'JJ': 44, 'QJ': 45, 'KJ': 46, 'AJ': 47, 'NH': 48, 'NC': 49, 'ND': 50, 'NJ': 51, 'BJ': 52, 'RJ': 53, '3H,3H': 54, '4H,4H': 55, '5H,5H': 56, '6H,6H': 57, '7H,7H': 58, '8H,8H': 59, '9H,9H': 60, 'TH,TH': 61, 'JH,JH': 62, 'QH,QH': 63, 'KH,KH': 64, 'AH,AH': 65, '3C,3C': 66, '4C,4C': 67, '5C,5C': 68, '6C,6C': 69, '7C,7C': 70, '8C,8C': 71, '9C,9C': 72, 'TC,TC': 73, 'JC,JC': 74, 'QC,QC': 75, 'KC,KC': 76, 'AC,AC': 77, '3D,3D': 78, '4D,4D': 79, '5D,5D': 80, '6D,6D': 81, '7D,7D': 82, '8D,8D': 83, '9D,9D': 84, 'TD,TD': 85, 'JD,JD': 86, 'QD,QD': 87, 'KD,KD': 88, 'AD,AD': 89, '3J,3J': 90, '4J,4J': 91, '5J,5J': 92, '6J,6J': 93, '7J,7J': 94, '8J,8J': 95, '9J,9J': 96, 'TJ,TJ': 97, 'JJ,JJ': 98, 'QJ,QJ': 99, 'KJ,KJ': 100, 'AJ,AJ': 101, 'NH,NH': 102, 'NC,NC': 103, 'ND,ND': 104, 'NJ,NJ': 105, 'BJ,BJ': 106, 'RJ,RJ': 107, '3H,3H,4H,4H': 108, '4H,4H,5H,5H': 109, '5H,5H,6H,6H': 110, '6H,6H,7H,7H': 111, '7H,7H,8H,8H': 112, '8H,8H,9H,9H': 113, '9H,9H,TH,TH': 114, 'TH,TH,JH,JH': 115, 'JH,JH,QH,QH': 116, 'QH,QH,KH,KH': 117, 'KH,KH,AH,AH': 118, '3C,3C,4C,4C': 119, '4C,4C,5C,5C': 120, '5C,5C,6C,6C': 121, '6C,6C,7C,7C': 122, '7C,7C,8C,8C': 123, '8C,8C,9C,9C': 124, '9C,9C,TC,TC': 125, 'TC,TC,JC,JC': 126, 'JC,JC,QC,QC': 127, 'QC,QC,KC,KC': 128, 'KC,KC,AC,AC': 129, '3D,3D,4D,4D': 130, '4D,4D,5D,5D': 131, '5D,5D,6D,6D': 132, '6D,6D,7D,7D': 133, '7D,7D,8D,8D': 134, '8D,8D,9D,9D': 135, '9D,9D,TD,TD': 136, 'TD,TD,JD,JD': 137, 'JD,JD,QD,QD': 138, 'QD,QD,KD,KD': 139, 'KD,KD,AD,AD': 140, '3J,3J,4J,4J': 141, '4J,4J,5J,5J': 142, '5J,5J,6J,6J': 143, '6J,6J,7J,7J': 144, '7J,7J,8J,8J': 145, '8J,8J,9J,9J': 146, '9J,9J,TJ,TJ': 147, 'TJ,TJ,JJ,JJ': 148, 'JJ,JJ,QJ,QJ': 149, 'QJ,QJ,KJ,KJ': 150, 'KJ,KJ,AJ,AJ': 151, 'NJ,NJ,BJ,BJ': 152, 'BJ,BJ,RJ,RJ': 153, 'NH,NH,NJ,NJ': 154, 'NC,NC,NJ,NJ': 155, 'ND,ND,NJ,NJ': 156, 'AJ,AJ,NH,NH': 157, 'AJ,AJ,NC,NC': 158, 'AJ,AJ,ND,ND': 159, '2H': 160, '2C': 161, '2D': 162, '2J': 163, '2H,2H': 164, '2C,2C': 165, '2D,2D': 166, '2J,2J': 167, '2H,2H,4H,4H': 168, '2C,2C,4C,4C': 169, '2D,2D,4D,4D': 170, '2J,2J,4J,4J': 171, '2H,2H,3H,3H': 172, '3H,3H,5H,5H': 173, '2C,2C,3C,3C': 174, '3C,3C,5C,5C': 175, '2D,2D,3D,3D': 176, '3D,3D,5D,5D': 177, '2J,2J,3J,3J': 178, '3J,3J,5J,5J': 179, '4H,4H,6H,6H': 180, '4C,4C,6C,6C': 181, '4D,4D,6D,6D': 182, '4J,4J,6J,6J': 183, '5H,5H,7H,7H': 184, '5C,5C,7C,7C': 185, '5D,5D,7D,7D': 186, '5J,5J,7J,7J': 187, '6H,6H,8H,8H': 188, '6C,6C,8C,8C': 189, '6D,6D,8D,8D': 190, '6J,6J,8J,8J': 191, '7H,7H,9H,9H': 192, '7C,7C,9C,9C': 193, '7D,7D,9D,9D': 194, '7J,7J,9J,9J': 195, '8H,8H,TH,TH': 196, '8C,8C,TC,TC': 197, '8D,8D,TD,TD': 198, '8J,8J,TJ,TJ': 199, '9H,9H,JH,JH': 200, '9C,9C,JC,JC': 201, '9D,9D,JD,JD': 202, '9J,9J,JJ,JJ': 203, 'TH,TH,QH,QH': 204, 'TC,TC,QC,QC': 205, 'TD,TD,QD,QD': 206, 'TJ,TJ,QJ,QJ': 207, 'JH,JH,KH,KH': 208, 'JC,JC,KC,KC': 209, 'JD,JD,KD,KD': 210, 'JJ,JJ,KJ,KJ': 211, 'QH,QH,AH,AH': 212, 'QC,QC,AC,AC': 213, 'QD,QD,AD,AD': 214, 'QJ,QJ,AJ,AJ': 215, '3S': 216, '4S': 217, '5S': 218, '6S': 219, '7S': 220, '8S': 221, '9S': 222, 'TS': 223, 'JS': 224, 'QS': 225, 'KS': 226, 'AS': 227, 'NS': 228, '3S,3S': 229, '4S,4S': 230, '5S,5S': 231, '6S,6S': 232, '7S,7S': 233, '8S,8S': 234, '9S,9S': 235, 'TS,TS': 236, 'JS,JS': 237, 'QS,QS': 238, 'KS,KS': 239, 'AS,AS': 240, 'NS,NS': 241, '3S,3S,4S,4S': 242, '4S,4S,5S,5S': 243, '5S,5S,6S,6S': 244, '6S,6S,7S,7S': 245, '7S,7S,8S,8S': 246, '8S,8S,9S,9S': 247, '9S,9S,TS,TS': 248, 'TS,TS,JS,JS': 249, 'JS,JS,QS,QS': 250, 'QS,QS,KS,KS': 251, 'KS,KS,AS,AS': 252, 'NS,NS,NJ,NJ': 253, 'AJ,AJ,NS,NS': 254, '2S': 255, '2S,2S': 256, '2S,2S,4S,4S': 257, '2S,2S,3S,3S': 258, '3S,3S,5S,5S': 259, '4S,4S,6S,6S': 260, '5S,5S,7S,7S': 261, '6S,6S,8S,8S': 262, '7S,7S,9S,9S': 263, '8S,8S,TS,TS': 264, '9S,9S,JS,JS': 265, 'TS,TS,QS,QS': 266, 'JS,JS,KS,KS': 267, 'QS,QS,AS,AS': 268, 'NS,NS,BJ,BJ': 269, 'NH,NH,BJ,BJ': 270, 'NC,NC,BJ,BJ': 271, 'ND,ND,BJ,BJ': 272, 'pass': 273, 'pass_score': 274}\n"
     ]
    }
   ],
   "source": [
    "from rlcard.games.tractor import Dealer, Judger\n",
    "from rlcard.games.tractor.utils import TRUMP_CANDIDATE_STR\n",
    "\n",
    "action_list = []\n",
    "\n",
    "for trump in TRUMP_CANDIDATE_STR:\n",
    "    dealer = Dealer(trump, None)\n",
    "    current_hand = dealer.deck\n",
    "    playable_cards = Judger.playable_cards_from_hand(current_hand, trump)\n",
    "    for cards in playable_cards:\n",
    "        if cards not in action_list:\n",
    "            action_list.append(cards)\n",
    "\n",
    "action_list_str = [','.join(action) for action in action_list]\n",
    "action_list_str.append('pass')\n",
    "action_list_str.append('pass_score')\n",
    "print(action_list_str)\n",
    "print()\n",
    "\n",
    "action_dict = {action_list_str[i] : i for i in range(len(action_list_str))}\n",
    "print(action_dict)\n"
   ]
  }
 ]
}