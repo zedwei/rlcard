{
 "metadata": {
  "language_info": {
   "codemirror_mode": {
    "name": "ipython",
    "version": 3
   },
   "file_extension": ".py",
   "mimetype": "text/x-python",
   "name": "python",
   "nbconvert_exporter": "python",
   "pygments_lexer": "ipython3",
   "version": "3.7.8"
  },
  "orig_nbformat": 2,
  "kernelspec": {
   "name": "python378jvsc74a57bd057baa5815c940fdaff4d14510622de9616cae602444507ba5d0b6727c008cbd6",
   "display_name": "Python 3.7.8 64-bit"
  },
  "metadata": {
   "interpreter": {
    "hash": "57baa5815c940fdaff4d14510622de9616cae602444507ba5d0b6727c008cbd6"
   }
  }
 },
 "nbformat": 4,
 "nbformat_minor": 2,
 "cells": [
  {
   "cell_type": "code",
   "execution_count": 1,
   "metadata": {},
   "outputs": [
    {
     "output_type": "stream",
     "name": "stdout",
     "text": [
      "WARNING:tensorflow:From d:\\Projects\\rlcard\\rlcard\\utils\\utils.py:335: The name tf.set_random_seed is deprecated. Please use tf.compat.v1.set_random_seed instead.\n",
      "\n",
      "WARNING:tensorflow:From d:\\Projects\\rlcard\\rlcard\\models\\tractor_pretrained_models.py:84: The name tf.ConfigProto is deprecated. Please use tf.compat.v1.ConfigProto instead.\n",
      "\n",
      "WARNING:tensorflow:From d:\\Projects\\rlcard\\rlcard\\models\\tractor_pretrained_models.py:87: The name tf.Session is deprecated. Please use tf.compat.v1.Session instead.\n",
      "\n",
      "WARNING:tensorflow:From d:\\Projects\\rlcard\\rlcard\\agents\\dqn_agent.py:281: The name tf.variable_scope is deprecated. Please use tf.compat.v1.variable_scope instead.\n",
      "\n",
      "WARNING:tensorflow:From d:\\Projects\\rlcard\\rlcard\\agents\\dqn_agent.py:298: The name tf.placeholder is deprecated. Please use tf.compat.v1.placeholder instead.\n",
      "\n",
      "WARNING:tensorflow:\n",
      "The TensorFlow contrib module will not be included in TensorFlow 2.0.\n",
      "For more information, please see:\n",
      "  * https://github.com/tensorflow/community/blob/master/rfcs/20180907-contrib-sunset.md\n",
      "  * https://github.com/tensorflow/addons\n",
      "  * https://github.com/tensorflow/io (for I/O related ops)\n",
      "If you depend on functionality not listed there, please file an issue.\n",
      "\n",
      "WARNING:tensorflow:From C:\\Users\\RanW\\AppData\\Roaming\\Python\\Python37\\site-packages\\tensorflow_core\\contrib\\layers\\python\\layers\\layers.py:1634: flatten (from tensorflow.python.layers.core) is deprecated and will be removed in a future version.\n",
      "Instructions for updating:\n",
      "Use keras.layers.flatten instead.\n",
      "WARNING:tensorflow:From C:\\Users\\RanW\\AppData\\Roaming\\Python\\Python37\\site-packages\\tensorflow_core\\python\\layers\\core.py:332: Layer.apply (from tensorflow.python.keras.engine.base_layer) is deprecated and will be removed in a future version.\n",
      "Instructions for updating:\n",
      "Please use `layer.__call__` method instead.\n",
      "WARNING:tensorflow:From d:\\Projects\\rlcard\\rlcard\\agents\\dqn_agent.py:323: The name tf.squared_difference is deprecated. Please use tf.math.squared_difference instead.\n",
      "\n",
      "WARNING:tensorflow:From d:\\Projects\\rlcard\\rlcard\\agents\\dqn_agent.py:284: The name tf.get_collection is deprecated. Please use tf.compat.v1.get_collection instead.\n",
      "\n",
      "WARNING:tensorflow:From d:\\Projects\\rlcard\\rlcard\\agents\\dqn_agent.py:284: The name tf.GraphKeys is deprecated. Please use tf.compat.v1.GraphKeys instead.\n",
      "\n",
      "WARNING:tensorflow:From d:\\Projects\\rlcard\\rlcard\\agents\\dqn_agent.py:284: The name tf.get_variable_scope is deprecated. Please use tf.compat.v1.get_variable_scope instead.\n",
      "\n",
      "WARNING:tensorflow:From d:\\Projects\\rlcard\\rlcard\\agents\\dqn_agent.py:286: The name tf.train.AdamOptimizer is deprecated. Please use tf.compat.v1.train.AdamOptimizer instead.\n",
      "\n",
      "WARNING:tensorflow:From d:\\Projects\\rlcard\\rlcard\\agents\\dqn_agent.py:289: get_global_step (from tensorflow.contrib.framework.python.ops.variables) is deprecated and will be removed in a future version.\n",
      "Instructions for updating:\n",
      "Please switch to tf.train.get_global_step\n",
      "WARNING:tensorflow:From d:\\Projects\\rlcard\\rlcard\\models\\tractor_pretrained_models.py:114: The name tf.train.Saver is deprecated. Please use tf.compat.v1.train.Saver instead.\n",
      "\n",
      "INFO:tensorflow:Restoring parameters from d:\\Projects\\rlcard\\rlcard\\models\\tractorV6\\tractor_dqn_2090k_1815k\\model\n",
      "[<rlcard.agents.dqn_agent.DQNAgent object at 0x000002A8EB5DB3C8>, <rlcard.agents.dqn_agent.DQNAgent object at 0x000002A88BD77C48>]\n",
      "INFO:tensorflow:Restoring parameters from d:\\Projects\\rlcard\\rlcard\\models\\tractorV6\\tractor_dqn_2505k_2230k\\model\n",
      "[<rlcard.agents.dqn_agent.DQNAgent object at 0x000002A88C086808>, <rlcard.agents.dqn_agent.DQNAgent object at 0x000002A88C0FD048>]\n"
     ]
    }
   ],
   "source": [
    "import rlcard\n",
    "from rlcard.utils import set_global_seed\n",
    "from rlcard import models\n",
    "\n",
    "# Make environment\n",
    "env = rlcard.make('tractor', config={'seed': 0})\n",
    "\n",
    "# Set a global seed\n",
    "set_global_seed(0)\n",
    "\n",
    "dqn_agents = models.load('tractor_dqn_v1').agents\n",
    "print(dqn_agents)\n",
    "\n",
    "dqn_vnext_agents = models.load('tractor_dqn_vnext').agents\n",
    "print(dqn_vnext_agents)\n"
   ]
  },
  {
   "cell_type": "code",
   "execution_count": 26,
   "metadata": {},
   "outputs": [
    {
     "output_type": "stream",
     "name": "stdout",
     "text": [
      "['5S', '8S', 'JS', '2H', '6H', '7H', 'JH', '2D', '2D', '4D', '6D', 'JD', 'AD', '4J', '4J', '7J', '8J', 'QJ', 'QJ', 'KJ', 'AJ', 'AJ', 'NH', 'ND', 'BJ']\n['6S', '6S', '8S', '9S', 'JS', 'QS', 'QS', 'AS', '5H', '5H', '6H', '8H', '9H', 'QH', '5D', '6D', 'QD', 'QD', 'KD', '2J', '7J', 'JJ', 'NS', 'NJ', 'RJ']\n['2S', '7S', 'KS', '2H', '4H', '4H', '7H', '8H', 'TH', 'QH', 'AH', '5D', '9D', '9D', 'TD', '5J', '5J', '6J', '8J', '9J', 'KJ', 'NS', 'NH', 'NJ', 'BJ']\n['2S', '4S', '5S', '7S', '9S', 'TS', 'TS', 'KS', 'AS', '9H', 'KH', 'KH', 'AH', '7D', '8D', '8D', 'TD', 'JD', 'KD', '2J', '6J', '9J', 'JJ', 'ND', 'RJ']\nRound 0\n5S,8S,JS,2H,6H,7H,JH,2D,2D,4D,6D,JD,AD,4J,4J,7J,8J,QJ,QJ,KJ,AJ,AJ,NH,ND,BJ\n4J\n[('4J', -82.856), ('8J', -83.1719), ('AD', -83.5624), ('7J', -84.0555), ('QJ', -84.2454), ('NH', -84.3453), ('4J,4J', -84.6936), ('2H', -84.8974), ('AJ', -85.0287), ('8S', -85.0712), ('2D,2D', -85.2065), ('QJ,QJ', -85.5812), ('7H', -86.2141), ('2D', -86.2183), ('JS', -86.323), ('ND', -86.4642), ('AJ,AJ', -86.4677), ('6H', -86.4821), ('4D', -86.9885), ('KJ', -86.9897), ('5S', -87.2288), ('JD', -87.5237), ('BJ', -87.5341), ('6D', -87.8536), ('JH', -88.4032)]\n\nRound 1\n5S,8S,JS,2H,6H,7H,JH,2D,2D,4D,6D,JD,AD,4J,7J,8J,QJ,QJ,KJ,AJ,AJ,NH,ND,BJ\npass_S\n[('pass_S', -95.3849), ('pass_D', -95.9372), ('pass_J', -96.4105), ('pass_H', -96.4426), ('pass_C', -96.4678), ('scor_H', -97.441), ('scor_S', -98.2794), ('scor_C', -100.0752), ('scor_D', -100.2881), ('scor_J', -101.2635)]\n\nRound 2\n5S,2H,6H,7H,JH,2D,2D,4D,6D,JD,AD,4J,7J,8J,QJ,QJ,KJ,AJ,AJ,NH,ND,BJ\n5S\n[('5S', -76.8938)]\n\nRound 3\n2H,6H,7H,JH,2D,2D,4D,6D,JD,AD,4J,7J,8J,QJ,QJ,KJ,AJ,AJ,NH,ND,BJ\n2D,2D\n[('2D,2D', -68.0223)]\n\nRound 4\n2H,6H,7H,JH,4D,6D,JD,AD,4J,7J,8J,QJ,QJ,KJ,AJ,AJ,NH,ND,BJ\nscor_C\n[('scor_C', -53.2665), ('QJ,QJ', -53.437), ('pass_H', -54.078), ('scor_S', -54.841), ('pass_D', -55.1551), ('scor_D', -55.1936), ('scor_H', -55.4562), ('AJ,AJ', -55.541), ('pass_C', -55.8795), ('pass_J', -55.9585), ('scor_J', -57.4111), ('pass_S', -57.9203)]\n\nRound 5\n2H,6H,7H,JH,4D,6D,JD,AD,7J,8J,QJ,QJ,AJ,AJ,NH,ND,BJ\n2H\n[('2H', -51.9682), ('7H', -52.1421), ('6H', -52.5928), ('JH', -54.7563)]\n\nRound 6\n6H,7H,JH,4D,6D,JD,AD,7J,8J,QJ,QJ,AJ,AJ,NH,ND,BJ\npass_H\n[('pass_H', -66.3446), ('pass_D', -66.6396), ('pass_J', -67.3841), ('pass_S', -67.5646), ('pass_C', -68.0176), ('scor_S', -68.6466), ('scor_H', -69.9169), ('scor_D', -70.1628), ('scor_C', -70.5807), ('scor_J', -71.1311)]\n\nRound 7\nJH,4D,6D,JD,AD,7J,8J,QJ,QJ,AJ,AJ,NH,ND,BJ\nJH\n[('JH', -38.2483)]\n\nRound 8\n4D,6D,JD,AD,7J,8J,QJ,QJ,AJ,AJ,NH,ND,BJ\npass_D\n[('pass_D', -34.1317), ('pass_H', -34.5361), ('8J', -34.6149), ('scor_S', -34.7243), ('QJ', -34.7363), ('7J', -34.8976), ('NH', -34.9039), ('AJ', -35.183), ('scor_C', -35.2036), ('ND', -35.2705), ('scor_D', -35.5497), ('pass_C', -36.2517), ('pass_J', -36.3259), ('scor_H', -36.6297), ('pass_S', -37.549), ('BJ', -38.1834), ('scor_J', -38.6715)]\n\nRound 9\n6D,JD,AD,7J,8J,QJ,QJ,AJ,AJ,NH,ND,BJ\nNH\n[('NH', -27.3361), ('ND', -27.8744), ('QJ', -28.0412), ('AJ', -28.402), ('8J', -28.7381), ('7J', -29.4994), ('BJ', -30.1266)]\n\nRound 10\n6D,JD,AD,7J,8J,QJ,QJ,AJ,AJ,ND,BJ\npass_H\n[('pass_H', -24.2364), ('pass_D', -24.4389), ('scor_S', -24.4787), ('scor_C', -24.5121), ('scor_D', -25.2218), ('pass_C', -26.076), ('scor_H', -26.1628), ('8J', -26.2555), ('pass_J', -26.9486), ('QJ', -27.122), ('7J', -27.165), ('ND', -27.384), ('pass_S', -27.8141), ('AJ', -28.0913), ('scor_J', -28.7613), ('BJ', -30.4278)]\n\nRound 11\n6D,JD,AD,8J,QJ,QJ,AJ,AJ,ND,BJ\n8J\n[('8J', -33.697), ('QJ', -33.8874), ('ND', -34.1551), ('AJ', -35.7485), ('scor_D', -35.9498), ('scor_S', -36.0602), ('pass_D', -36.2769), ('pass_H', -36.657), ('scor_C', -36.734), ('pass_C', -37.6995), ('BJ', -37.9004), ('scor_H', -38.8833), ('pass_J', -39.0029), ('pass_S', -40.4685), ('scor_J', -41.5536)]\n\nRound 12\n6D,JD,AD,QJ,QJ,AJ,AJ,ND,BJ\nAD\n[('AD', -29.6777), ('QJ,QJ', -30.6995), ('QJ', -32.0755), ('AJ,AJ', -32.4902), ('ND', -32.6794), ('AJ', -34.0914), ('JD', -34.3372), ('6D', -34.757), ('BJ', -35.3218)]\n\nRound 13\n6D,JD,QJ,QJ,AJ,AJ,ND,BJ\nQJ,QJ\n[('QJ,QJ', -29.8458), ('QJ', -31.6708), ('AJ,AJ', -31.7432), ('ND', -32.4248), ('6D', -33.0779), ('JD', -33.2426), ('AJ', -34.0671), ('BJ', -35.4539)]\n\nRound 14\n6D,JD,AJ,AJ,ND,BJ\nAJ,AJ\n[('AJ,AJ', -24.1527), ('ND', -28.4829), ('JD', -29.3472), ('6D', -29.37), ('AJ', -29.9831), ('BJ', -31.4856)]\n\nRound 15\n6D,JD,ND,BJ\n6D\n[('6D', -16.9614), ('ND', -16.9934), ('JD', -17.9536), ('BJ', -19.4543)]\n\nRound 16\nJD,ND,BJ\nND\n[('ND', -10.9157), ('BJ', -14.7061), ('pass_S', -18.666), ('pass_C', -19.8047), ('pass_D', -20.0791), ('scor_S', -20.9366), ('pass_H', -21.8964), ('scor_C', -21.9001), ('scor_D', -22.0502), ('pass_J', -22.6856), ('scor_H', -23.4596), ('scor_J', -25.3839)]\n\nRound 17\nJD,BJ\nJD\n[('JD', -5.4388), ('BJ', -13.9111)]\n\nRound 18\nBJ\nBJ\n[('BJ', -2.8663)]\n\n"
     ]
    }
   ],
   "source": [
    "import numpy as np\n",
    "from rlcard.games.tractor.utils import CARD_RANK_STR, ACTION_LIST\n",
    "from rlcard.agents import RandomAgent, TractorRuleAgent\n",
    "\n",
    "# Evaluate the performance. Play with random agents.\n",
    "random_agent = RandomAgent(env.action_num)\n",
    "rule_agent = TractorRuleAgent(env.action_num)\n",
    "\n",
    "# env.set_agents([rule_agent, rule_agent, rule_agent, rule_agent])\n",
    "\n",
    "# env.set_agents([dqn_agents[0], random_agent, dqn_agents[0], random_agent])\n",
    "# env.set_agents([dqn_agents[0], dqn_agents[0], dqn_agents[0], dqn_agents[0]])\n",
    "\n",
    "# env.set_agents([dqn_agents[0], rule_agent, dqn_agents[0], rule_agent])\n",
    "# env.set_agents([rule_agent, dqn_agents[0], rule_agent, dqn_agents[0]])\n",
    "# env.set_agents([dqn_vnext_agents[0], rule_agent, dqn_vnext_agents[0], rule_agent])\n",
    "# env.set_agents([rule_agent, dqn_vnext_agents[1], rule_agent, dqn_vnext_agents[1]])\n",
    "\n",
    "\n",
    "# env.set_agents([dqn_agents[0], dqn_vnext_agents[0], dqn_agents[0], dqn_vnext_agents[0]])\n",
    "# env.set_agents([dqn_agents[0], dqn_vnext_agents[1], dqn_agents[0], dqn_vnext_agents[1]])\n",
    "\n",
    "\n",
    "env.set_agents([dqn_agents[0], dqn_agents[1], dqn_agents[0], dqn_agents[1]])\n",
    "# env.set_agents([dqn_vnext_agents[0], dqn_agents[1], dqn_vnext_agents[0], dqn_agents[1]])\n",
    "# env.set_agents([dqn_vnext_agents[0], dqn_vnext_agents[1], dqn_vnext_agents[0], dqn_vnext_agents[1]])\n",
    "\n",
    "# env.set_agents([rule_agent, random_agent, rule_agent, random_agent])\n",
    "\n",
    "# predefined_hands = [['AH', '3H'],\n",
    "#                     ['3H', 'QH'],\n",
    "#                     ['4H', '5H'],\n",
    "#                     ['7H', '6H']]\n",
    "\n",
    "# state = env.reset_predefine_state(predefined_hands)\n",
    "state, player_id = env.reset()\n",
    "# action = env.agents[player_id].step(state)\n",
    "# state, player_id = env.step(action, env.agents[player_id].use_raw)\n",
    "\n",
    "# for i in range(4):\n",
    "#     print(env.game.players[i].current_hand)\n",
    "\n",
    "# for j in range(3):\n",
    "#     for k in range(72):\n",
    "#         for i in range(9):\n",
    "#             print(state['obs'][i][j][k], end = ',')\n",
    "#     print()\n",
    "\n",
    "# print(state)\n",
    "# q = env.agents[1].eval_step(state)[1]\n",
    "# print(len(q))\n",
    "# probs = {i:round(q[i],3) for i in range(len(q)) if q[i] != -10000}\n",
    "# print(probs)\n",
    "\n",
    "\n",
    "# probs = {ACTION_LIST[i]:round(q[i],3) for i in range(len(q)) if q[i] != -10000}\n",
    "# probs = sorted(probs.items(), key=lambda x: x[1], reverse=True)\n",
    "# print(str(probs))\n",
    "\n",
    "_trajectories, _payoffs = env.run(is_training=False, debug=True)\n",
    "\n",
    "# print(\"remaining cards:\")\n",
    "# print(env.game.round.remaining_cards)\n",
    "\n",
    "# print()\n",
    "# print(env.game.judger.trump)\n",
    "\n",
    "# output = []\n",
    "# for i in range(9):\n",
    "#     for j in range(3):\n",
    "#         for k in range(72):\n",
    "#             print(_trajectories[0][10][0]['obs'][i][j][k], end = ',')\n",
    "#         print()"
   ]
  },
  {
   "cell_type": "code",
   "execution_count": 14,
   "metadata": {},
   "outputs": [
    {
     "output_type": "stream",
     "name": "stdout",
     "text": [
      "Assert.IsTrue(Math.Abs(66.888 - output[0]) < 1e-3);\nAssert.IsTrue(Math.Abs(65.839 - output[1]) < 1e-3);\nAssert.IsTrue(Math.Abs(64.804 - output[2]) < 1e-3);\nAssert.IsTrue(Math.Abs(67.556 - output[4]) < 1e-3);\nAssert.IsTrue(Math.Abs(65.842 - output[8]) < 1e-3);\nAssert.IsTrue(Math.Abs(68.14 - output[10]) < 1e-3);\nAssert.IsTrue(Math.Abs(67.797 - output[13]) < 1e-3);\nAssert.IsTrue(Math.Abs(67.883 - output[16]) < 1e-3);\nAssert.IsTrue(Math.Abs(66.255 - output[18]) < 1e-3);\nAssert.IsTrue(Math.Abs(66.957 - output[21]) < 1e-3);\nAssert.IsTrue(Math.Abs(67.757 - output[37]) < 1e-3);\nAssert.IsTrue(Math.Abs(69.982 - output[38]) < 1e-3);\nAssert.IsTrue(Math.Abs(68.911 - output[41]) < 1e-3);\nAssert.IsTrue(Math.Abs(68.21 - output[45]) < 1e-3);\nAssert.IsTrue(Math.Abs(65.696 - output[49]) < 1e-3);\nAssert.IsTrue(Math.Abs(65.884 - output[51]) < 1e-3);\nAssert.IsTrue(Math.Abs(66.319 - output[52]) < 1e-3);\nAssert.IsTrue(Math.Abs(66.243 - output[53]) < 1e-3);\nAssert.IsTrue(Math.Abs(66.018 - output[160]) < 1e-3);\nAssert.IsTrue(Math.Abs(66.732 - output[217]) < 1e-3);\nAssert.IsTrue(Math.Abs(65.082 - output[218]) < 1e-3);\nAssert.IsTrue(Math.Abs(65.786 - output[220]) < 1e-3);\nAssert.IsTrue(Math.Abs(66.288 - output[222]) < 1e-3);\nAssert.IsTrue(Math.Abs(61.971 - output[223]) < 1e-3);\nAssert.IsTrue(Math.Abs(68.249 - output[230]) < 1e-3);\n"
     ]
    }
   ],
   "source": [
    "for key in probs:\n",
    "    # print(\"Assert.AreEqual({}m, Math.Round(output[{}], 3));\".format(probs[key], key))\n",
    "    print(\"Assert.IsTrue(Math.Abs({} - output[{}]) < 1e-3);\".format(probs[key], key))"
   ]
  },
  {
   "cell_type": "code",
   "execution_count": 5,
   "metadata": {},
   "outputs": [
    {
     "output_type": "error",
     "ename": "NameError",
     "evalue": "name '_trajectories' is not defined",
     "traceback": [
      "\u001b[1;31m---------------------------------------------------------------------------\u001b[0m",
      "\u001b[1;31mNameError\u001b[0m                                 Traceback (most recent call last)",
      "\u001b[1;32m<ipython-input-5-8739627bc2f3>\u001b[0m in \u001b[0;36m<module>\u001b[1;34m\u001b[0m\n\u001b[0;32m      7\u001b[0m \u001b[1;32mfrom\u001b[0m \u001b[0mrlcard\u001b[0m\u001b[1;33m.\u001b[0m\u001b[0mgames\u001b[0m\u001b[1;33m.\u001b[0m\u001b[0mtractor\u001b[0m\u001b[1;33m.\u001b[0m\u001b[0mutils\u001b[0m \u001b[1;32mimport\u001b[0m \u001b[0mCARD_RANK_STR\u001b[0m\u001b[1;33m,\u001b[0m \u001b[0mACTION_LIST\u001b[0m\u001b[1;33m\u001b[0m\u001b[1;33m\u001b[0m\u001b[0m\n\u001b[0;32m      8\u001b[0m \u001b[1;33m\u001b[0m\u001b[0m\n\u001b[1;32m----> 9\u001b[1;33m \u001b[1;32mfor\u001b[0m \u001b[0mi\u001b[0m \u001b[1;32min\u001b[0m \u001b[0mrange\u001b[0m\u001b[1;33m(\u001b[0m\u001b[0mlen\u001b[0m\u001b[1;33m(\u001b[0m\u001b[0m_trajectories\u001b[0m\u001b[1;33m[\u001b[0m\u001b[1;36m0\u001b[0m\u001b[1;33m]\u001b[0m\u001b[1;33m)\u001b[0m\u001b[1;33m)\u001b[0m\u001b[1;33m:\u001b[0m\u001b[1;33m\u001b[0m\u001b[1;33m\u001b[0m\u001b[0m\n\u001b[0m\u001b[0;32m     10\u001b[0m     \u001b[0mprint\u001b[0m\u001b[1;33m(\u001b[0m\u001b[1;34m\"Round {}:\"\u001b[0m\u001b[1;33m.\u001b[0m\u001b[0mformat\u001b[0m\u001b[1;33m(\u001b[0m\u001b[0mi\u001b[0m\u001b[1;33m)\u001b[0m\u001b[1;33m)\u001b[0m\u001b[1;33m\u001b[0m\u001b[1;33m\u001b[0m\u001b[0m\n\u001b[0;32m     11\u001b[0m \u001b[1;33m\u001b[0m\u001b[0m\n",
      "\u001b[1;31mNameError\u001b[0m: name '_trajectories' is not defined"
     ]
    }
   ],
   "source": [
    "# from rlcard.games.tractor.utils import tournament_tractor\n",
    "# evaluate_num = 1000\n",
    "# reward = tournament_tractor(env, evaluate_num)\n",
    "# print('Average win rate: ', reward)\n",
    "\n",
    "import numpy as np\n",
    "from rlcard.games.tractor.utils import CARD_RANK_STR, ACTION_LIST\n",
    "\n",
    "for i in range(len(_trajectories[0])):\n",
    "    print(\"Round {}:\".format(i))\n",
    "\n",
    "    for p in range(4):\n",
    "        cards = []\n",
    "        for j in range(len(CARD_RANK_STR)):\n",
    "            if _trajectories[0][i][0]['obs'][p][1][j] == 1:\n",
    "                cards.append(CARD_RANK_STR[j])\n",
    "            if _trajectories[0][i][0]['obs'][p][2][j] == 1:\n",
    "                cards.append(CARD_RANK_STR[j])\n",
    "                cards.append(CARD_RANK_STR[j])\n",
    "        # print(','.join(cards))\n",
    "    print('Action: {}'.format(ACTION_LIST[_trajectories[0][i][1]]))\n",
    "    print(env.game.round.trace[i*4:(i+1)*4])\n",
    "    # print(\"Score: {} : {}\".format(_trajectories[0][i][0]['obs'][5][0][0], _trajectories[0][i][0]['obs'][5][0][1]))\n",
    "    print()\n",
    "\n",
    "print(env.game.round.score)\n"
   ]
  },
  {
   "cell_type": "code",
   "execution_count": 4,
   "metadata": {},
   "outputs": [
    {
     "output_type": "stream",
     "name": "stdout",
     "text": [
      "\n",
      "Evaluating 4999/5000 episodes...Average win rate (base vs base):  [0.2074, 0.7926, 0.2074, 0.7926]\n",
      "\n",
      "Evaluating 4999/5000 episodes...Average win rate (next vs base):  [0.2102, 0.7898, 0.2102, 0.7898]\n",
      "\n",
      "Evaluating 4999/5000 episodes...Average win rate (base vs next):  [0.2022, 0.7978, 0.2022, 0.7978]\n",
      "\n",
      "Evaluating 4999/5000 episodes...Average win rate (next vs next):  [0.2072, 0.7928, 0.2072, 0.7928]\n"
     ]
    }
   ],
   "source": [
    "from rlcard.games.tractor.utils import tournament_tractor\n",
    "evaluate_num = 5000\n",
    "\n",
    "env.set_agents([dqn_agents[0], dqn_agents[1], dqn_agents[0], dqn_agents[1]])\n",
    "reward = tournament_tractor(env, evaluate_num)\n",
    "print('Average win rate (base vs base): ', reward)\n",
    "\n",
    "env.set_agents([dqn_vnext_agents[0], dqn_agents[1], dqn_vnext_agents[0], dqn_agents[1]])\n",
    "reward = tournament_tractor(env, evaluate_num)\n",
    "print('Average win rate (next vs base): ', reward)\n",
    "\n",
    "env.set_agents([dqn_agents[0], dqn_vnext_agents[1], dqn_agents[0], dqn_vnext_agents[1]])\n",
    "reward = tournament_tractor(env, evaluate_num)\n",
    "print('Average win rate (base vs next): ', reward)\n",
    "\n",
    "env.set_agents([dqn_vnext_agents[0], dqn_vnext_agents[1], dqn_vnext_agents[0], dqn_vnext_agents[1]])\n",
    "reward = tournament_tractor(env, evaluate_num)\n",
    "print('Average win rate (next vs next): ', reward)"
   ]
  },
  {
   "cell_type": "code",
   "execution_count": null,
   "metadata": {},
   "outputs": [],
   "source": []
  }
 ]
}