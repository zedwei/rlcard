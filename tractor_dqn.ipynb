{
 "metadata": {
  "language_info": {
   "codemirror_mode": {
    "name": "ipython",
    "version": 3
   },
   "file_extension": ".py",
   "mimetype": "text/x-python",
   "name": "python",
   "nbconvert_exporter": "python",
   "pygments_lexer": "ipython3",
   "version": "3.7.8"
  },
  "orig_nbformat": 2,
  "kernelspec": {
   "name": "python378jvsc74a57bd057baa5815c940fdaff4d14510622de9616cae602444507ba5d0b6727c008cbd6",
   "display_name": "Python 3.7.8 64-bit"
  },
  "metadata": {
   "interpreter": {
    "hash": "57baa5815c940fdaff4d14510622de9616cae602444507ba5d0b6727c008cbd6"
   }
  }
 },
 "nbformat": 4,
 "nbformat_minor": 2,
 "cells": [
  {
   "cell_type": "code",
   "execution_count": 1,
   "metadata": {},
   "outputs": [
    {
     "output_type": "stream",
     "name": "stdout",
     "text": [
      "WARNING:tensorflow:From d:\\Projects\\rlcard\\rlcard\\utils\\utils.py:335: The name tf.set_random_seed is deprecated. Please use tf.compat.v1.set_random_seed instead.\n",
      "\n",
      "WARNING:tensorflow:From d:\\Projects\\rlcard\\rlcard\\models\\tractor_pretrained_models.py:95: The name tf.ConfigProto is deprecated. Please use tf.compat.v1.ConfigProto instead.\n",
      "\n",
      "WARNING:tensorflow:From d:\\Projects\\rlcard\\rlcard\\models\\tractor_pretrained_models.py:98: The name tf.Session is deprecated. Please use tf.compat.v1.Session instead.\n",
      "\n",
      "WARNING:tensorflow:From d:\\Projects\\rlcard\\rlcard\\agents\\dqn_agent.py:269: The name tf.variable_scope is deprecated. Please use tf.compat.v1.variable_scope instead.\n",
      "\n",
      "WARNING:tensorflow:From d:\\Projects\\rlcard\\rlcard\\agents\\dqn_agent.py:286: The name tf.placeholder is deprecated. Please use tf.compat.v1.placeholder instead.\n",
      "\n",
      "WARNING:tensorflow:From d:\\Projects\\rlcard\\rlcard\\agents\\dqn_agent.py:297: batch_normalization (from tensorflow.python.layers.normalization) is deprecated and will be removed in a future version.\n",
      "Instructions for updating:\n",
      "Use keras.layers.BatchNormalization instead.  In particular, `tf.control_dependencies(tf.GraphKeys.UPDATE_OPS)` should not be used (consult the `tf.keras.layers.batch_normalization` documentation).\n",
      "WARNING:tensorflow:From C:\\Users\\RanW\\AppData\\Roaming\\Python\\Python37\\site-packages\\tensorflow_core\\python\\layers\\normalization.py:327: Layer.apply (from tensorflow.python.keras.engine.base_layer) is deprecated and will be removed in a future version.\n",
      "Instructions for updating:\n",
      "Please use `layer.__call__` method instead.\n",
      "WARNING:tensorflow:\n",
      "The TensorFlow contrib module will not be included in TensorFlow 2.0.\n",
      "For more information, please see:\n",
      "  * https://github.com/tensorflow/community/blob/master/rfcs/20180907-contrib-sunset.md\n",
      "  * https://github.com/tensorflow/addons\n",
      "  * https://github.com/tensorflow/io (for I/O related ops)\n",
      "If you depend on functionality not listed there, please file an issue.\n",
      "\n",
      "WARNING:tensorflow:From C:\\Users\\RanW\\AppData\\Roaming\\Python\\Python37\\site-packages\\tensorflow_core\\contrib\\layers\\python\\layers\\layers.py:1634: flatten (from tensorflow.python.layers.core) is deprecated and will be removed in a future version.\n",
      "Instructions for updating:\n",
      "Use keras.layers.flatten instead.\n",
      "WARNING:tensorflow:From d:\\Projects\\rlcard\\rlcard\\agents\\dqn_agent.py:311: The name tf.squared_difference is deprecated. Please use tf.math.squared_difference instead.\n",
      "\n",
      "WARNING:tensorflow:From d:\\Projects\\rlcard\\rlcard\\agents\\dqn_agent.py:272: The name tf.get_collection is deprecated. Please use tf.compat.v1.get_collection instead.\n",
      "\n",
      "WARNING:tensorflow:From d:\\Projects\\rlcard\\rlcard\\agents\\dqn_agent.py:272: The name tf.GraphKeys is deprecated. Please use tf.compat.v1.GraphKeys instead.\n",
      "\n",
      "WARNING:tensorflow:From d:\\Projects\\rlcard\\rlcard\\agents\\dqn_agent.py:272: The name tf.get_variable_scope is deprecated. Please use tf.compat.v1.get_variable_scope instead.\n",
      "\n",
      "WARNING:tensorflow:From d:\\Projects\\rlcard\\rlcard\\agents\\dqn_agent.py:274: The name tf.train.AdamOptimizer is deprecated. Please use tf.compat.v1.train.AdamOptimizer instead.\n",
      "\n",
      "WARNING:tensorflow:From d:\\Projects\\rlcard\\rlcard\\agents\\dqn_agent.py:277: get_global_step (from tensorflow.contrib.framework.python.ops.variables) is deprecated and will be removed in a future version.\n",
      "Instructions for updating:\n",
      "Please switch to tf.train.get_global_step\n",
      "WARNING:tensorflow:From d:\\Projects\\rlcard\\rlcard\\models\\tractor_pretrained_models.py:125: The name tf.train.Saver is deprecated. Please use tf.compat.v1.train.Saver instead.\n",
      "\n",
      "INFO:tensorflow:Restoring parameters from d:\\Projects\\rlcard\\rlcard\\models\\simple_tractor\\tractor_dqn_100k_iters\\model\n"
     ]
    }
   ],
   "source": [
    "import rlcard\n",
    "from rlcard.utils import set_global_seed\n",
    "from rlcard import models\n",
    "\n",
    "# Make environment\n",
    "env = rlcard.make('tractor', config={'seed': 0})\n",
    "\n",
    "# Set a global seed\n",
    "set_global_seed(0)\n",
    "\n",
    "# Here we directly load NFSP models from /models module\n",
    "dqn_agents = models.load('tractor_dqn_v1').agents\n"
   ]
  },
  {
   "cell_type": "code",
   "execution_count": 32,
   "metadata": {},
   "outputs": [
    {
     "output_type": "stream",
     "name": "stdout",
     "text": [
      "['5H', '9H', 'JH']\n['4H', 'QH', 'KH']\n['3H', '7H', '8H']\n['6H', 'TH', 'AH']\n5H,9H,JH\n5H\n[('5H', 7.4558), ('JH', 6.1541), ('9H', 6.0006)]\n\n9H,JH\nJH\n[('JH', 8.3669), ('9H', 5.4113)]\n\n9H\n9H\n[('9H', 0.0711)]\n\n"
     ]
    }
   ],
   "source": [
    "import numpy as np\n",
    "from rlcard.games.tractor.utils import CARD_RANK_STR, ACTION_LIST\n",
    "from rlcard.agents import RandomAgent, TractorRuleAgent\n",
    "\n",
    "# Evaluate the performance. Play with random agents.\n",
    "random_agent = RandomAgent(env.action_num)\n",
    "rule_agent = TractorRuleAgent(env.action_num)\n",
    "\n",
    "# env.set_agents([dqn_agents[0], random_agent, dqn_agents[0], random_agent])\n",
    "# env.set_agents([dqn_agents[0], rule_agent, dqn_agents[0], rule_agent])\n",
    "\n",
    "env.set_agents([rule_agent, random_agent, rule_agent, random_agent])\n",
    "\n",
    "predefined_hands = [['AH', '3H'],\n",
    "                    ['3H', 'QH'],\n",
    "                    ['4H', '5H'],\n",
    "                    ['7H', '6H']]\n",
    "\n",
    "# state = env.reset_predefine_state(predefined_hands)\n",
    "state, player_id = env.reset()\n",
    "\n",
    "# for i in range(4):\n",
    "#     print(env.game.players[i].current_hand)\n",
    "\n",
    "# q = env.agents[0].eval_step(state)[1]\n",
    "# probs = {ACTION_LIST[i]:round(q[i],3) for i in range(len(q)) if q[i] != -100}\n",
    "# probs = sorted(probs.items(), key=lambda x: x[1], reverse=True)\n",
    "\n",
    "# print(str(probs))\n",
    "\n",
    "_trajectories, _payoffs = env.run(is_training=False, debug=True)\n"
   ]
  },
  {
   "cell_type": "code",
   "execution_count": 36,
   "metadata": {},
   "outputs": [
    {
     "output_type": "stream",
     "name": "stderr",
     "text": [
      "100%|██████████| 10000/10000 [01:25<00:00, 116.45it/s]Average win rate:  [0.5871, 0.4129, 0.5871, 0.4129]\n",
      "\n"
     ]
    }
   ],
   "source": [
    "from rlcard.games.tractor.utils import tournament_tractor\n",
    "evaluate_num = 10000\n",
    "reward = tournament_tractor(env, evaluate_num)\n",
    "print('Average win rate: ', reward)\n",
    "\n",
    "# import numpy as np\n",
    "# from rlcard.games.tractor.utils import CARD_RANK_STR, ACTION_LIST\n",
    "\n",
    "# for i in range(len(_trajectories[0])):\n",
    "#     cards = []\n",
    "#     for j in range(len(CARD_RANK_STR)):\n",
    "#         if _trajectories[0][i][0]['obs'][0][1][j] == 1:\n",
    "#             cards.append(CARD_RANK_STR[j])\n",
    "#         if _trajectories[0][i][0]['obs'][0][2][j] == 1:\n",
    "#             cards.append(CARD_RANK_STR[j])\n",
    "#             cards.append(CARD_RANK_STR[j])\n",
    "#     print(\"Round {}:\".format(i))\n",
    "#     print(','.join(cards))\n",
    "#     print('Action: {}'.format(ACTION_LIST[_trajectories[0][i][1]]))\n",
    "#     print(env.game.round.trace[i*4:(i+1)*4])\n",
    "#     # print(\"Score: {} : {}\".format(_trajectories[0][i][0]['obs'][5][0][0], _trajectories[0][i][0]['obs'][5][0][1]))\n",
    "#     print()\n",
    "\n",
    "# print(env.game.round.score)\n"
   ]
  }
 ]
}