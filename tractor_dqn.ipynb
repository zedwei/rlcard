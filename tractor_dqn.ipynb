{
 "metadata": {
  "language_info": {
   "codemirror_mode": {
    "name": "ipython",
    "version": 3
   },
   "file_extension": ".py",
   "mimetype": "text/x-python",
   "name": "python",
   "nbconvert_exporter": "python",
   "pygments_lexer": "ipython3",
   "version": "3.7.8"
  },
  "orig_nbformat": 2,
  "kernelspec": {
   "name": "python378jvsc74a57bd057baa5815c940fdaff4d14510622de9616cae602444507ba5d0b6727c008cbd6",
   "display_name": "Python 3.7.8 64-bit"
  },
  "metadata": {
   "interpreter": {
    "hash": "57baa5815c940fdaff4d14510622de9616cae602444507ba5d0b6727c008cbd6"
   }
  }
 },
 "nbformat": 4,
 "nbformat_minor": 2,
 "cells": [
  {
   "cell_type": "code",
   "execution_count": 1,
   "metadata": {},
   "outputs": [
    {
     "output_type": "stream",
     "name": "stdout",
     "text": [
      "WARNING:tensorflow:From d:\\Projects\\rlcard\\rlcard\\utils\\utils.py:335: The name tf.set_random_seed is deprecated. Please use tf.compat.v1.set_random_seed instead.\n",
      "\n",
      "WARNING:tensorflow:From d:\\Projects\\rlcard\\rlcard\\models\\tractor_pretrained_models.py:95: The name tf.ConfigProto is deprecated. Please use tf.compat.v1.ConfigProto instead.\n",
      "\n",
      "WARNING:tensorflow:From d:\\Projects\\rlcard\\rlcard\\models\\tractor_pretrained_models.py:98: The name tf.Session is deprecated. Please use tf.compat.v1.Session instead.\n",
      "\n",
      "WARNING:tensorflow:From d:\\Projects\\rlcard\\rlcard\\agents\\dqn_agent.py:277: The name tf.variable_scope is deprecated. Please use tf.compat.v1.variable_scope instead.\n",
      "\n",
      "WARNING:tensorflow:From d:\\Projects\\rlcard\\rlcard\\agents\\dqn_agent.py:294: The name tf.placeholder is deprecated. Please use tf.compat.v1.placeholder instead.\n",
      "\n",
      "WARNING:tensorflow:\n",
      "The TensorFlow contrib module will not be included in TensorFlow 2.0.\n",
      "For more information, please see:\n",
      "  * https://github.com/tensorflow/community/blob/master/rfcs/20180907-contrib-sunset.md\n",
      "  * https://github.com/tensorflow/addons\n",
      "  * https://github.com/tensorflow/io (for I/O related ops)\n",
      "If you depend on functionality not listed there, please file an issue.\n",
      "\n",
      "WARNING:tensorflow:From C:\\Users\\RanW\\AppData\\Roaming\\Python\\Python37\\site-packages\\tensorflow_core\\contrib\\layers\\python\\layers\\layers.py:1634: flatten (from tensorflow.python.layers.core) is deprecated and will be removed in a future version.\n",
      "Instructions for updating:\n",
      "Use keras.layers.flatten instead.\n",
      "WARNING:tensorflow:From C:\\Users\\RanW\\AppData\\Roaming\\Python\\Python37\\site-packages\\tensorflow_core\\python\\layers\\core.py:332: Layer.apply (from tensorflow.python.keras.engine.base_layer) is deprecated and will be removed in a future version.\n",
      "Instructions for updating:\n",
      "Please use `layer.__call__` method instead.\n",
      "WARNING:tensorflow:From d:\\Projects\\rlcard\\rlcard\\agents\\dqn_agent.py:319: The name tf.squared_difference is deprecated. Please use tf.math.squared_difference instead.\n",
      "\n",
      "WARNING:tensorflow:From d:\\Projects\\rlcard\\rlcard\\agents\\dqn_agent.py:280: The name tf.get_collection is deprecated. Please use tf.compat.v1.get_collection instead.\n",
      "\n",
      "WARNING:tensorflow:From d:\\Projects\\rlcard\\rlcard\\agents\\dqn_agent.py:280: The name tf.GraphKeys is deprecated. Please use tf.compat.v1.GraphKeys instead.\n",
      "\n",
      "WARNING:tensorflow:From d:\\Projects\\rlcard\\rlcard\\agents\\dqn_agent.py:280: The name tf.get_variable_scope is deprecated. Please use tf.compat.v1.get_variable_scope instead.\n",
      "\n",
      "WARNING:tensorflow:From d:\\Projects\\rlcard\\rlcard\\agents\\dqn_agent.py:282: The name tf.train.AdamOptimizer is deprecated. Please use tf.compat.v1.train.AdamOptimizer instead.\n",
      "\n",
      "WARNING:tensorflow:From d:\\Projects\\rlcard\\rlcard\\agents\\dqn_agent.py:285: get_global_step (from tensorflow.contrib.framework.python.ops.variables) is deprecated and will be removed in a future version.\n",
      "Instructions for updating:\n",
      "Please switch to tf.train.get_global_step\n",
      "WARNING:tensorflow:From d:\\Projects\\rlcard\\rlcard\\models\\tractor_pretrained_models.py:125: The name tf.train.Saver is deprecated. Please use tf.compat.v1.train.Saver instead.\n",
      "\n",
      "INFO:tensorflow:Restoring parameters from d:\\Projects\\rlcard\\rlcard\\models\\tractorV2\\dqn_10kR_10kST_100kST\\model\n"
     ]
    }
   ],
   "source": [
    "import rlcard\n",
    "from rlcard.utils import set_global_seed\n",
    "from rlcard import models\n",
    "\n",
    "# Make environment\n",
    "env = rlcard.make('tractor', config={'seed': 0})\n",
    "\n",
    "# Set a global seed\n",
    "set_global_seed(0)\n",
    "\n",
    "# Here we directly load NFSP models from /models module\n",
    "dqn_agents = models.load('tractor_dqn_v1').agents\n"
   ]
  },
  {
   "cell_type": "code",
   "execution_count": null,
   "metadata": {},
   "outputs": [],
   "source": []
  },
  {
   "cell_type": "code",
   "execution_count": 10,
   "metadata": {},
   "outputs": [
    {
     "output_type": "stream",
     "name": "stdout",
     "text": [
      "['3H', '4H', '5H', '5H', '6H', 'JH', 'KH', 'AH', '6C', '7C', '8C', 'TC', 'AC', '4D', '6D', '6D', '7D', 'TD', 'JD', '3S', '4S', '6S', 'KS', '2C', '2S', '2S', 'BJ']\n['3H', '7H', '8H', 'TH', 'QH', 'AH', '5C', '7C', '9C', 'JC', 'QC', 'QC', '5D', '7D', '8D', '9D', 'KD', '3S', '5S', '8S', '9S', 'TS', 'QS', 'AS', '2H', '2H', '2D']\n['4H', '8H', '9H', '9H', 'TH', 'JH', 'QH', '3C', '3C', '6C', '8C', 'TC', 'JC', '4D', '9D', 'QD', 'QD', 'AD', '5S', '6S', '7S', '9S', 'TS', 'AS', 'BJ', 'RJ', 'RJ']\n['6H', '7H', 'KH', '4C', '4C', '5C', '9C', 'KC', 'KC', 'AC', '3D', '3D', '5D', '8D', 'TD', 'JD', 'KD', 'AD', '4S', '7S', '8S', 'JS', 'JS', 'QS', 'KS', '2C', '2D']\n3H,4H,5H,5H,6H,JH,KH,AH,6C,7C,8C,TC,AC,4D,6D,6D,7D,TD,JD,3S,4S,6S,KS,2C,2S,2S,BJ\n2S,2S\n[('2S,2S', 48.9651), ('AC', 48.1894), ('AH', 48.0073), ('5H,5H', 47.3097), ('TD', 45.5199), ('KS', 43.7832), ('6D', 43.7173), ('8C', 43.6643), ('TC', 43.6536), ('BJ', 43.6499), ('7C', 43.6398), ('4D', 43.5693), ('7D', 43.3969), ('JD', 42.83), ('KH', 42.8161), ('4S', 42.773), ('6C', 42.7406), ('2C', 42.6721), ('4H', 42.2502), ('3H', 42.1372), ('6H', 42.1311), ('3S', 42.0792), ('6D,6D', 41.8622), ('5H', 41.827), ('6S', 41.6288), ('2S', 41.1465), ('JH', 40.9492)]\n\n3H,4H,5H,5H,6H,JH,KH,AH,6C,7C,8C,TC,AC,4D,6D,6D,7D,TD,JD,3S,4S,6S,KS,2C,BJ\nKS\n[('KS', 57.5296), ('BJ', 50.7073), ('2C', 50.3248), ('4S', 47.7496), ('3S', 47.4205), ('6S', 46.1549)]\n\n3H,4H,5H,5H,6H,JH,KH,AH,6C,7C,8C,TC,AC,4D,6D,6D,7D,TD,JD,3S,4S,6S,2C,BJ\nTD\n[('TD', 61.371), ('7D', 51.7724), ('6D', 50.7354), ('4D', 50.7033), ('JD', 50.0821)]\n\n3H,4H,5H,5H,6H,JH,KH,AH,6C,7C,8C,TC,AC,4D,6D,6D,7D,JD,3S,4S,6S,2C,BJ\n6D,6D\n[('6D,6D', 45.5034)]\n\n3H,4H,5H,5H,6H,JH,KH,AH,6C,7C,8C,TC,AC,4D,7D,JD,3S,4S,6S,2C,BJ\nAC\n[('AC', 61.2877), ('6C', 38.039), ('8C', 37.9843), ('7C', 37.6486), ('TC', 37.0206)]\n\n3H,4H,5H,5H,6H,JH,KH,AH,6C,7C,8C,TC,4D,7D,JD,3S,4S,6S,2C,BJ\nBJ\n[('BJ', 50.271), ('AH', 47.4195), ('5H,5H', 45.6497), ('2C', 44.6375), ('JD', 42.2902), ('3S', 42.0691), ('4S', 42.0099), ('4D', 41.8614), ('TC', 41.8282), ('6S', 41.2675), ('KH', 41.1501), ('7D', 41.146), ('8C', 41.008), ('5H', 40.9852), ('7C', 40.8163), ('4H', 40.4032), ('6H', 40.2609), ('3H', 39.9134), ('JH', 39.7109), ('6C', 39.6977)]\n\n3H,4H,5H,5H,6H,JH,KH,AH,6C,7C,8C,TC,4D,7D,JD,3S,4S,6S,2C\nAH\n[('AH', 45.6716), ('5H,5H', 43.1602), ('JD', 40.4308), ('2C', 40.1911), ('4D', 40.1762), ('TC', 40.0227), ('KH', 39.8993), ('5H', 39.7016), ('7D', 39.3439), ('7C', 39.0882), ('8C', 39.0021), ('3S', 38.9669), ('6H', 38.8659), ('4S', 38.7779), ('4H', 38.4621), ('6S', 38.3873), ('6C', 37.9947), ('3H', 37.7993), ('JH', 37.6132)]\n\n3H,4H,5H,5H,6H,JH,KH,6C,7C,8C,TC,4D,7D,JD,3S,4S,6S,2C\n5H,5H\n[('5H,5H', 39.7441), ('JD', 37.2666), ('2C', 37.0347), ('TC', 37.0151), ('4D', 36.4504), ('KH', 35.9346), ('7D', 35.7743), ('3S', 35.636), ('7C', 35.604), ('8C', 35.5981), ('5H', 35.4199), ('4S', 35.3906), ('6S', 35.2884), ('6C', 34.4733), ('6H', 34.3357), ('4H', 34.2968), ('3H', 33.1825), ('JH', 33.1718)]\n\n3H,4H,6H,JH,KH,6C,7C,8C,TC,4D,7D,JD,3S,4S,6S,2C\n2C\n[('2C', 33.2569), ('3S', 32.3392), ('4S', 32.205), ('6S', 32.1761)]\n\n3H,4H,6H,JH,KH,6C,7C,8C,TC,4D,7D,JD,3S,4S,6S\nTC\n[('TC', 34.5021), ('8C', 32.7679), ('6C', 32.0758), ('7C', 31.983)]\n\n3H,4H,6H,JH,KH,6C,7C,8C,4D,7D,JD,3S,4S,6S\nJD\n[('JD', 37.3248), ('4D', 34.2171), ('7D', 34.1924)]\n\n3H,4H,6H,JH,KH,6C,7C,8C,4D,7D,3S,4S,6S\n6H\n[('6H', 25.9295), ('4H', 25.4628), ('JH', 25.2814), ('3H', 25.1208), ('KH', 24.9325)]\n\n3H,4H,JH,KH,6C,7C,8C,4D,7D,3S,4S,6S\nKH\n[('KH', 26.0513), ('4H', 24.0145), ('JH', 23.4889), ('3H', 23.3978)]\n\n3H,4H,JH,6C,7C,8C,4D,7D,3S,4S,6S\n8C\n[('8C', 26.8155), ('6C', 26.371), ('7C', 26.0356)]\n\n3H,4H,JH,6C,7C,4D,7D,3S,4S,6S\n6S\n[('6S', 23.4723), ('4S', 23.4523), ('3S', 23.3379)]\n\n3H,4H,JH,6C,7C,4D,7D,3S,4S\n4H\n[('4H', 24.1377), ('3H', 23.0559), ('JH', 22.1598)]\n\n3H,JH,6C,7C,4D,7D,3S,4S\n3S\n[('3S', 22.9948), ('4S', 22.8393)]\n\n3H,JH,6C,7C,4D,7D,4S\n4S\n[('4S', 22.0802)]\n\n3H,JH,6C,7C,4D,7D\npass\n[('pass', 20.4791)]\n\nJH,6C,7C,4D,7D\n7D\n[('7D', 19.0263), ('4D', 18.8317)]\n\nJH,6C,7C,4D\npass\n[('pass', 15.051)]\n\n6C,7C,4D\n7C\n[('7C', 12.3539), ('6C', 12.3173)]\n\n6C,4D\n6C\n[('6C', 7.6652)]\n\n4D\npass\n[('pass', 0.3737)]\n\n"
     ]
    }
   ],
   "source": [
    "import numpy as np\n",
    "from rlcard.games.tractor.utils import CARD_RANK_STR, ACTION_LIST\n",
    "from rlcard.agents import RandomAgent, TractorRuleAgent\n",
    "\n",
    "# Evaluate the performance. Play with random agents.\n",
    "random_agent = RandomAgent(env.action_num)\n",
    "rule_agent = TractorRuleAgent(env.action_num)\n",
    "\n",
    "# env.set_agents([dqn_agents[0], random_agent, dqn_agents[0], random_agent])\n",
    "# env.set_agents([dqn_agents[0], rule_agent, dqn_agents[0], rule_agent])\n",
    "env.set_agents([dqn_agents[0], dqn_agents[0], dqn_agents[0], dqn_agents[0]])\n",
    "\n",
    "# env.set_agents([rule_agent, random_agent, rule_agent, random_agent])\n",
    "\n",
    "predefined_hands = [['AH', '3H'],\n",
    "                    ['3H', 'QH'],\n",
    "                    ['4H', '5H'],\n",
    "                    ['7H', '6H']]\n",
    "\n",
    "# state = env.reset_predefine_state(predefined_hands)\n",
    "state, player_id = env.reset()\n",
    "\n",
    "# for i in range(4):\n",
    "#     print(env.game.players[i].current_hand)\n",
    "\n",
    "# q = env.agents[0].eval_step(state)[1]\n",
    "# probs = {ACTION_LIST[i]:round(q[i],3) for i in range(len(q)) if q[i] != -100}\n",
    "# probs = sorted(probs.items(), key=lambda x: x[1], reverse=True)\n",
    "\n",
    "# print(str(probs))\n",
    "\n",
    "_trajectories, _payoffs = env.run(is_training=False, debug=True)\n",
    "\n",
    "# output = []\n",
    "# for j in range(3):\n",
    "#     for k in range(54):\n",
    "#         for i in range(7):\n",
    "#             output.append(_trajectories[0][0][0]['obs'][i][j][k])\n",
    "\n",
    "# print(output)\n",
    "# print(len(output))\n",
    "\n"
   ]
  },
  {
   "cell_type": "code",
   "execution_count": 11,
   "metadata": {},
   "outputs": [
    {
     "output_type": "stream",
     "name": "stdout",
     "text": [
      "Round 0:\n3H,4H,5H,5H,6H,JH,KH,AH,6C,7C,8C,TC,AC,4D,6D,6D,7D,TD,JD,3S,4S,6S,KS,2C,2S,2S,BJ\n3H,4H,6H,7H,7H,8H,8H,9H,9H,TH,TH,JH,QH,QH,KH,AH,3C,3C,4C,4C,5C,5C,6C,7C,8C,9C,9C,TC,JC,JC,QC,QC,KC,KC,AC,3D,3D,4D,5D,5D,7D,8D,8D,9D,9D,TD,JD,QD,QD,KD,KD,AD,AD,3S,4S,5S,5S,6S,7S,7S,8S,8S,9S,9S,TS,TS,JS,JS,QS,QS,KS,AS,AS,2H,2H,2C,2D,2D,BJ,RJ,RJ\n3H,4H,6H,7H,7H,8H,8H,9H,9H,TH,TH,JH,QH,QH,KH,AH,3C,3C,4C,4C,5C,5C,6C,7C,8C,9C,9C,TC,JC,JC,QC,QC,KC,KC,AC,3D,3D,4D,5D,5D,7D,8D,8D,9D,9D,TD,JD,QD,QD,KD,KD,AD,AD,3S,4S,5S,5S,6S,7S,7S,8S,8S,9S,9S,TS,TS,JS,JS,QS,QS,KS,AS,AS,2H,2H,2C,2D,2D,BJ,RJ,RJ\n3H,4H,6H,7H,7H,8H,8H,9H,9H,TH,TH,JH,QH,QH,KH,AH,3C,3C,4C,4C,5C,5C,6C,7C,8C,9C,9C,TC,JC,JC,QC,QC,KC,KC,AC,3D,3D,4D,5D,5D,7D,8D,8D,9D,9D,TD,JD,QD,QD,KD,KD,AD,AD,3S,4S,5S,5S,6S,7S,7S,8S,8S,9S,9S,TS,TS,JS,JS,QS,QS,KS,AS,AS,2H,2H,2C,2D,2D,BJ,RJ,RJ\nAction: 2S,2S\n[(0, ['2S', '2S']), (1, ['2H', '2H']), (2, ['RJ', 'RJ']), (3, ['JS', 'JS'])]\n\nRound 1:\n3H,4H,5H,5H,6H,JH,KH,AH,6C,7C,8C,TC,AC,4D,6D,6D,7D,TD,JD,3S,4S,6S,KS,2C,BJ\n3H,4H,6H,7H,7H,8H,8H,9H,9H,TH,TH,JH,QH,QH,KH,AH,3C,3C,4C,4C,5C,5C,6C,7C,8C,9C,9C,TC,JC,JC,QC,QC,KC,KC,AC,3D,3D,4D,5D,5D,7D,8D,8D,9D,9D,TD,JD,QD,QD,KD,KD,AD,AD,3S,4S,5S,5S,6S,7S,7S,8S,8S,9S,9S,TS,TS,QS,QS,AS,AS,2C,2D,2D\n3H,4H,6H,7H,7H,8H,8H,9H,9H,TH,TH,JH,QH,QH,KH,AH,3C,3C,4C,4C,5C,5C,6C,7C,8C,9C,9C,TC,JC,JC,QC,QC,KC,KC,AC,3D,3D,4D,5D,5D,7D,8D,8D,9D,9D,TD,JD,QD,QD,KD,KD,AD,AD,3S,4S,5S,5S,6S,7S,7S,8S,8S,9S,9S,TS,TS,QS,QS,AS,AS,2C,2D,2D\n3H,4H,6H,7H,7H,8H,8H,9H,9H,TH,TH,JH,QH,QH,KH,AH,3C,3C,4C,4C,5C,5C,6C,7C,8C,9C,9C,TC,JC,JC,QC,QC,KC,KC,AC,3D,3D,4D,5D,5D,7D,8D,8D,9D,9D,TD,JD,QD,QD,KD,KD,AD,AD,3S,4S,5S,5S,6S,7S,7S,8S,8S,9S,9S,TS,TS,QS,QS,AS,AS,2C,2D,2D\nAction: KS\n[(2, ['BJ']), (3, ['KS']), (0, ['KS']), (1, ['8S'])]\n\nRound 2:\n3H,4H,5H,5H,6H,JH,KH,AH,6C,7C,8C,TC,AC,4D,6D,6D,7D,TD,JD,3S,4S,6S,2C,BJ\n3H,4H,6H,7H,7H,8H,8H,9H,9H,TH,TH,JH,QH,QH,KH,AH,3C,3C,4C,4C,5C,5C,6C,7C,8C,9C,9C,TC,JC,JC,QC,QC,KC,KC,AC,3D,3D,4D,5D,5D,7D,8D,8D,9D,9D,TD,JD,QD,QD,KD,AD,3S,4S,5S,5S,6S,7S,7S,8S,9S,9S,TS,TS,QS,QS,AS,AS,2C,2D,2D\n3H,4H,6H,7H,7H,8H,8H,9H,9H,TH,TH,JH,QH,QH,KH,AH,3C,3C,4C,4C,5C,5C,6C,7C,8C,9C,9C,TC,JC,JC,QC,QC,KC,KC,AC,3D,3D,4D,5D,5D,7D,8D,8D,9D,9D,TD,JD,QD,QD,KD,AD,3S,4S,5S,5S,6S,7S,7S,8S,9S,9S,TS,TS,QS,QS,AS,AS,2C,2D,2D\n3H,4H,6H,7H,7H,8H,8H,9H,9H,TH,TH,JH,QH,QH,KH,AH,3C,3C,4C,4C,5C,5C,6C,7C,8C,9C,9C,TC,JC,JC,QC,QC,KC,KC,AC,3D,3D,4D,5D,5D,7D,8D,8D,9D,9D,TD,JD,QD,QD,KD,AD,3S,4S,5S,5S,6S,7S,7S,8S,9S,9S,TS,TS,QS,QS,AS,AS,2C,2D,2D\nAction: TD\n[(2, ['AD']), (3, ['KD']), (0, ['TD']), (1, ['8D'])]\n\nRound 3:\n3H,4H,5H,5H,6H,JH,KH,AH,6C,7C,8C,TC,AC,4D,6D,6D,7D,JD,3S,4S,6S,2C,BJ\n3H,4H,6H,7H,7H,8H,8H,9H,9H,TH,TH,JH,QH,QH,KH,AH,3C,3C,4C,4C,5C,5C,6C,7C,8C,9C,9C,TC,JC,JC,QC,QC,KC,KC,AC,4D,5D,5D,7D,8D,9D,9D,TD,JD,KD,AD,3S,4S,5S,5S,6S,7S,7S,8S,9S,9S,TS,TS,QS,QS,AS,AS,2C,2D,2D\n3H,4H,6H,7H,7H,8H,8H,9H,9H,TH,TH,JH,QH,QH,KH,AH,3C,3C,4C,4C,5C,5C,6C,7C,8C,9C,9C,TC,JC,JC,QC,QC,KC,KC,AC,4D,5D,5D,7D,8D,9D,9D,TD,JD,KD,AD,3S,4S,5S,5S,6S,7S,7S,8S,9S,9S,TS,TS,QS,QS,AS,AS,2C,2D,2D\n3H,4H,6H,7H,7H,8H,8H,9H,9H,TH,TH,JH,QH,QH,KH,AH,3C,3C,4C,4C,5C,5C,6C,7C,8C,9C,9C,TC,JC,JC,QC,QC,KC,KC,AC,4D,5D,5D,7D,8D,9D,9D,TD,JD,KD,AD,3S,4S,5S,5S,6S,7S,7S,8S,9S,9S,TS,TS,QS,QS,AS,AS,2C,2D,2D\nAction: 6D,6D\n[(2, ['QD', 'QD']), (3, ['3D', '3D']), (0, ['6D', '6D']), (1, ['5D', '7D'])]\n\nRound 4:\n3H,4H,5H,5H,6H,JH,KH,AH,6C,7C,8C,TC,AC,4D,7D,JD,3S,4S,6S,2C,BJ\n3H,4H,6H,7H,7H,8H,8H,9H,9H,TH,TH,JH,QH,QH,KH,AH,3C,3C,4C,4C,5C,5C,6C,7C,8C,9C,9C,JC,JC,QC,QC,KC,AC,4D,5D,8D,9D,9D,TD,JD,KD,AD,3S,4S,5S,5S,6S,7S,7S,8S,9S,9S,TS,TS,QS,QS,AS,AS,2C,2D,2D\n3H,4H,6H,7H,7H,8H,8H,9H,9H,TH,TH,JH,QH,QH,KH,AH,3C,3C,4C,4C,5C,5C,6C,7C,8C,9C,9C,JC,JC,QC,QC,KC,AC,4D,5D,8D,9D,9D,TD,JD,KD,AD,3S,4S,5S,5S,6S,7S,7S,8S,9S,9S,TS,TS,QS,QS,AS,AS,2C,2D,2D\n3H,4H,6H,7H,7H,8H,8H,9H,9H,TH,TH,JH,QH,QH,KH,AH,3C,3C,4C,4C,5C,5C,6C,7C,8C,9C,9C,JC,JC,QC,QC,KC,AC,4D,5D,8D,9D,9D,TD,JD,KD,AD,3S,4S,5S,5S,6S,7S,7S,8S,9S,9S,TS,TS,QS,QS,AS,AS,2C,2D,2D\nAction: AC\n[(2, ['TC']), (3, ['KC']), (0, ['AC']), (1, ['5C'])]\n\nRound 5:\n3H,4H,5H,5H,6H,JH,KH,AH,6C,7C,8C,TC,4D,7D,JD,3S,4S,6S,2C,BJ\n3H,4H,6H,7H,7H,8H,8H,9H,9H,TH,TH,JH,QH,QH,KH,AH,3C,3C,4C,4C,5C,6C,7C,8C,9C,9C,JC,JC,QC,QC,KC,AC,4D,5D,8D,9D,9D,TD,JD,KD,AD,3S,4S,5S,5S,6S,7S,7S,8S,9S,9S,TS,TS,QS,QS,AS,AS,2C,2D,2D\n3H,4H,6H,7H,7H,8H,8H,9H,9H,TH,TH,JH,QH,QH,KH,AH,3C,3C,4C,4C,5C,6C,7C,8C,9C,9C,JC,JC,QC,QC,KC,AC,4D,5D,8D,9D,9D,TD,JD,KD,AD,3S,4S,5S,5S,6S,7S,7S,8S,9S,9S,TS,TS,QS,QS,AS,AS,2C,2D,2D\n3H,4H,6H,7H,7H,8H,8H,9H,9H,TH,TH,JH,QH,QH,KH,AH,3C,3C,4C,4C,5C,6C,7C,8C,9C,9C,JC,JC,QC,QC,KC,AC,4D,5D,8D,9D,9D,TD,JD,KD,AD,3S,4S,5S,5S,6S,7S,7S,8S,9S,9S,TS,TS,QS,QS,AS,AS,2C,2D,2D\nAction: BJ\n[(0, ['BJ']), (1, ['TS']), (2, ['TS']), (3, ['2D'])]\n\nRound 6:\n3H,4H,5H,5H,6H,JH,KH,AH,6C,7C,8C,TC,4D,7D,JD,3S,4S,6S,2C\n3H,4H,6H,7H,7H,8H,8H,9H,9H,TH,TH,JH,QH,QH,KH,AH,3C,3C,4C,4C,5C,6C,7C,8C,9C,9C,JC,JC,QC,QC,KC,AC,4D,5D,8D,9D,9D,TD,JD,KD,AD,3S,4S,5S,5S,6S,7S,7S,8S,9S,9S,QS,QS,AS,AS,2C,2D\n3H,4H,6H,7H,7H,8H,8H,9H,9H,TH,TH,JH,QH,QH,KH,AH,3C,3C,4C,4C,5C,6C,7C,8C,9C,9C,JC,JC,QC,QC,KC,AC,4D,5D,8D,9D,9D,TD,JD,KD,AD,3S,4S,5S,5S,6S,7S,7S,8S,9S,9S,QS,QS,AS,AS,2C,2D\n3H,4H,6H,7H,7H,8H,8H,9H,9H,TH,TH,JH,QH,QH,KH,AH,3C,3C,4C,4C,5C,6C,7C,8C,9C,9C,JC,JC,QC,QC,KC,AC,4D,5D,8D,9D,9D,TD,JD,KD,AD,3S,4S,5S,5S,6S,7S,7S,8S,9S,9S,QS,QS,AS,AS,2C,2D\nAction: AH\n[(0, ['AH']), (1, ['TH']), (2, ['TH']), (3, ['7H'])]\n\nRound 7:\n3H,4H,5H,5H,6H,JH,KH,6C,7C,8C,TC,4D,7D,JD,3S,4S,6S,2C\n3H,4H,6H,7H,8H,8H,9H,9H,JH,QH,QH,KH,AH,3C,3C,4C,4C,5C,6C,7C,8C,9C,9C,JC,JC,QC,QC,KC,AC,4D,5D,8D,9D,9D,TD,JD,KD,AD,3S,4S,5S,5S,6S,7S,7S,8S,9S,9S,QS,QS,AS,AS,2C,2D\n3H,4H,6H,7H,8H,8H,9H,9H,JH,QH,QH,KH,AH,3C,3C,4C,4C,5C,6C,7C,8C,9C,9C,JC,JC,QC,QC,KC,AC,4D,5D,8D,9D,9D,TD,JD,KD,AD,3S,4S,5S,5S,6S,7S,7S,8S,9S,9S,QS,QS,AS,AS,2C,2D\n3H,4H,6H,7H,8H,8H,9H,9H,JH,QH,QH,KH,AH,3C,3C,4C,4C,5C,6C,7C,8C,9C,9C,JC,JC,QC,QC,KC,AC,4D,5D,8D,9D,9D,TD,JD,KD,AD,3S,4S,5S,5S,6S,7S,7S,8S,9S,9S,QS,QS,AS,AS,2C,2D\nAction: 5H,5H\n[(0, ['5H', '5H']), (1, ['3H', '7H']), (2, ['9H', '9H']), (3, ['6H', 'KH'])]\n\nRound 8:\n3H,4H,6H,JH,KH,6C,7C,8C,TC,4D,7D,JD,3S,4S,6S,2C\n4H,8H,8H,JH,QH,QH,AH,3C,3C,4C,4C,5C,6C,7C,8C,9C,9C,JC,JC,QC,QC,KC,AC,4D,5D,8D,9D,9D,TD,JD,KD,AD,3S,4S,5S,5S,6S,7S,8S,9S,9S,QS,QS,AS,AS,2D\n4H,8H,8H,JH,QH,QH,AH,3C,3C,4C,4C,5C,6C,7C,8C,9C,9C,JC,JC,QC,QC,KC,AC,4D,5D,8D,9D,9D,TD,JD,KD,AD,3S,4S,5S,5S,6S,7S,8S,9S,9S,QS,QS,AS,AS,2D\n4H,8H,8H,JH,QH,QH,AH,3C,3C,4C,4C,5C,6C,7C,8C,9C,9C,JC,JC,QC,QC,KC,AC,4D,5D,8D,9D,9D,TD,JD,KD,AD,3S,4S,5S,5S,6S,7S,8S,9S,9S,QS,QS,AS,AS,2D\nAction: 2C\n[(2, ['7S']), (3, ['2C']), (0, ['2C']), (1, ['5S'])]\n\nRound 9:\n3H,4H,6H,JH,KH,6C,7C,8C,TC,4D,7D,JD,3S,4S,6S\n4H,8H,8H,JH,QH,QH,AH,3C,3C,4C,4C,5C,6C,7C,8C,9C,9C,JC,JC,QC,QC,AC,4D,5D,8D,9D,9D,TD,JD,KD,AD,3S,4S,5S,6S,7S,8S,9S,9S,QS,QS,AS,AS,2D\n4H,8H,8H,JH,QH,QH,AH,3C,3C,4C,4C,5C,6C,7C,8C,9C,9C,JC,JC,QC,QC,AC,4D,5D,8D,9D,9D,TD,JD,KD,AD,3S,4S,5S,6S,7S,8S,9S,9S,QS,QS,AS,AS,2D\n4H,8H,8H,JH,QH,QH,AH,3C,3C,4C,4C,5C,6C,7C,8C,9C,9C,JC,JC,QC,QC,AC,4D,5D,8D,9D,9D,TD,JD,KD,AD,3S,4S,5S,6S,7S,8S,9S,9S,QS,QS,AS,AS,2D\nAction: TC\n[(3, ['KC']), (0, ['TC']), (1, ['QC']), (2, ['8C'])]\n\nRound 10:\n3H,4H,6H,JH,KH,6C,7C,8C,4D,7D,JD,3S,4S,6S\n4H,8H,8H,JH,QH,QH,AH,3C,3C,4C,4C,5C,6C,7C,9C,9C,JC,JC,QC,AC,4D,5D,8D,9D,9D,JD,KD,AD,3S,4S,5S,6S,7S,8S,9S,9S,QS,QS,AS,AS,2D\n4H,8H,8H,JH,QH,QH,AH,3C,3C,4C,4C,5C,6C,7C,9C,9C,JC,JC,QC,AC,4D,5D,8D,9D,9D,JD,KD,AD,3S,4S,5S,6S,7S,8S,9S,9S,QS,QS,AS,AS,2D\n4H,8H,8H,JH,QH,QH,AH,3C,3C,4C,4C,5C,6C,7C,9C,9C,JC,JC,QC,AC,4D,5D,8D,9D,9D,JD,KD,AD,3S,4S,5S,6S,7S,8S,9S,9S,QS,QS,AS,AS,2D\nAction: JD\n[(3, ['TD']), (0, ['JD']), (1, ['KD']), (2, ['4D'])]\n\nRound 11:\n3H,4H,6H,JH,KH,6C,7C,8C,4D,7D,3S,4S,6S\n8H,8H,JH,QH,QH,3C,3C,4C,5C,6C,7C,9C,9C,JC,JC,QC,AC,5D,8D,9D,9D,JD,AD,3S,4S,5S,6S,7S,8S,9S,9S,QS,QS,AS,AS,2D\n8H,8H,JH,QH,QH,3C,3C,4C,5C,6C,7C,9C,9C,JC,JC,QC,AC,5D,8D,9D,9D,JD,AD,3S,4S,5S,6S,7S,8S,9S,9S,QS,QS,AS,AS,2D\n3C,3C,4C,5C,6C,7C,9C,9C,JC,JC,QC,AC,5D,8D,9D,9D,JD,AD,3S,4S,5S,6S,7S,8S,9S,9S,QS,QS,AS,AS,2D\nAction: 6H\n[(1, ['AH']), (2, ['4H']), (3, ['4C']), (0, ['6H'])]\n\nRound 12:\n3H,4H,JH,KH,6C,7C,8C,4D,7D,3S,4S,6S\nJH,QH,QH,3C,3C,4C,5C,6C,7C,9C,9C,JC,JC,QC,AC,5D,8D,9D,9D,JD,AD,3S,4S,5S,6S,7S,8S,9S,9S,QS,AS,AS,2D\nJH,QH,QH,3C,3C,4C,5C,6C,7C,9C,9C,JC,JC,QC,AC,5D,8D,9D,9D,JD,AD,3S,4S,5S,6S,7S,8S,9S,9S,QS,AS,AS,2D\n3C,3C,4C,5C,6C,7C,9C,9C,JC,JC,QC,AC,5D,8D,9D,9D,JD,AD,3S,4S,5S,6S,7S,8S,9S,9S,QS,AS,AS,2D\nAction: KH\n[(1, ['8H']), (2, ['8H']), (3, ['QS']), (0, ['KH'])]\n\nRound 13:\n3H,4H,JH,6C,7C,8C,4D,7D,3S,4S,6S\nJH,QH,QH,3C,3C,4C,6C,7C,9C,9C,JC,JC,QC,AC,5D,8D,9D,9D,JD,AD,3S,4S,5S,6S,7S,8S,9S,9S,QS,AS,AS,2D\nJH,QH,QH,3C,3C,4C,6C,7C,9C,9C,JC,JC,QC,AC,5D,8D,9D,9D,JD,AD,3S,4S,5S,6S,7S,8S,9S,9S,QS,AS,AS,2D\n3C,3C,4C,6C,7C,9C,9C,JC,JC,QC,AC,5D,8D,9D,9D,JD,AD,3S,4S,5S,6S,7S,8S,9S,9S,QS,AS,AS,2D\nAction: 8C\n[(3, ['5C']), (0, ['8C']), (1, ['QC']), (2, ['JC'])]\n\nRound 14:\n3H,4H,JH,6C,7C,4D,7D,3S,4S,6S\nJH,QH,QH,3C,3C,4C,6C,7C,9C,9C,JC,AC,5D,8D,9D,9D,JD,AD,3S,5S,6S,7S,8S,9S,QS,AS,AS\nJH,QH,QH,3C,3C,4C,6C,7C,9C,9C,JC,AC,5D,8D,9D,9D,JD,AD,3S,5S,6S,7S,8S,9S,QS,AS,AS\n3C,3C,4C,6C,7C,9C,9C,JC,AC,5D,8D,9D,9D,JD,AD,3S,5S,6S,7S,8S,9S,QS,AS,AS\nAction: 6S\n[(1, ['2D']), (2, ['9S']), (3, ['4S']), (0, ['6S'])]\n\nRound 15:\n3H,4H,JH,6C,7C,4D,7D,3S,4S\nQH,3C,3C,6C,7C,9C,9C,JC,AC,5D,8D,9D,9D,JD,AD,3S,5S,6S,7S,8S,9S,QS,AS,AS\nQH,3C,3C,6C,7C,9C,9C,JC,AC,5D,8D,9D,9D,JD,AD,3S,5S,6S,7S,8S,9S,QS,AS,AS\n3C,3C,6C,7C,9C,9C,JC,AC,5D,8D,9D,9D,JD,AD,3S,5S,6S,7S,8S,9S,QS,AS,AS\nAction: 4H\n[(1, ['QH']), (2, ['JH']), (3, ['4C']), (0, ['4H'])]\n\nRound 16:\n3H,JH,6C,7C,4D,7D,3S,4S\nQH,3C,3C,6C,7C,9C,9C,JC,AC,5D,8D,9D,9D,JD,AD,3S,5S,6S,8S,9S,QS\nQH,3C,3C,6C,7C,9C,9C,JC,AC,5D,8D,9D,9D,JD,AD,3S,5S,6S,8S,9S,QS\n3C,3C,6C,7C,9C,9C,JC,AC,5D,8D,9D,9D,JD,AD,3S,5S,6S,8S,9S,QS\nAction: 3S\n[(1, ['AS']), (2, ['AS']), (3, ['7S']), (0, ['3S'])]\n\nRound 17:\n3H,JH,6C,7C,4D,7D,4S\nQH,3C,3C,6C,7C,9C,9C,JC,AC,5D,8D,9D,9D,JD,AD,3S,6S,9S\nQH,3C,3C,6C,7C,9C,9C,JC,AC,5D,8D,9D,9D,JD,AD,3S,6S,9S\n3C,3C,6C,7C,9C,9C,JC,AC,5D,8D,9D,9D,JD,AD,3S,6S,9S\nAction: 4S\n[(1, ['QS']), (2, ['5S']), (3, ['8S']), (0, ['4S'])]\n\nRound 18:\n3H,JH,6C,7C,4D,7D\nQH,3C,3C,6C,7C,9C,JC,AC,5D,8D,9D,9D,JD,AD,3S\nQH,3C,3C,6C,7C,9C,JC,AC,5D,8D,9D,9D,JD,AD,3S\n3C,3C,6C,7C,9C,JC,AC,5D,8D,9D,9D,JD,AD\nAction: pass\n[(1, ['9S']), (2, ['6S']), (3, ['9C']), (0, ['3H'])]\n\nRound 19:\nJH,6C,7C,4D,7D\nQH,3C,3C,6C,7C,9C,JC,AC,8D,JD,AD,3S\nQH,3C,3C,6C,7C,9C,JC,AC,8D,JD,AD,3S\n3C,3C,6C,7C,9C,JC,AC,8D,JD,AD\nAction: 7D\n[(1, ['9D']), (2, ['9D']), (3, ['5D']), (0, ['7D'])]\n\nRound 20:\nJH,6C,7C,4D\n3C,3C,6C,7C,9C,JC,8D,JD,AD\n3C,3C,6C,7C,9C,JC,8D,JD,AD\n3C,3C,6C,7C,9C,JC,8D,JD,AD\nAction: pass\n[(1, ['3S']), (2, ['QH']), (3, ['AC']), (0, ['JH'])]\n\nRound 21:\n6C,7C,4D\n3C,6C,7C,9C,JD,AD\n3C,6C,7C,9C,JD,AD\nJD,AD\nAction: 7C\n[(1, ['JC']), (2, ['3C']), (3, ['8D']), (0, ['7C'])]\n\nRound 22:\n6C,4D\n6C,7C,AD\n6C,7C,AD\nAD\nAction: 6C\n[(1, ['9C']), (2, ['3C']), (3, ['JD']), (0, ['6C'])]\n\nRound 23:\n4D\n\n\n\nAction: pass\n[(1, ['7C']), (2, ['6C']), (3, ['AD']), (0, ['4D'])]\n\n[130, 70]\n"
     ]
    }
   ],
   "source": [
    "# from rlcard.games.tractor.utils import tournament_tractor\n",
    "# evaluate_num = 10000\n",
    "# reward = tournament_tractor(env, evaluate_num)\n",
    "# print('Average win rate: ', reward)\n",
    "\n",
    "import numpy as np\n",
    "from rlcard.games.tractor.utils import CARD_RANK_STR, ACTION_LIST\n",
    "\n",
    "for i in range(len(_trajectories[0])):\n",
    "    print(\"Round {}:\".format(i))\n",
    "\n",
    "    for p in range(4):\n",
    "        cards = []\n",
    "        for j in range(len(CARD_RANK_STR)):\n",
    "            if _trajectories[0][i][0]['obs'][p][1][j] == 1:\n",
    "                cards.append(CARD_RANK_STR[j])\n",
    "            if _trajectories[0][i][0]['obs'][p][2][j] == 1:\n",
    "                cards.append(CARD_RANK_STR[j])\n",
    "                cards.append(CARD_RANK_STR[j])\n",
    "        print(','.join(cards))\n",
    "    print('Action: {}'.format(ACTION_LIST[_trajectories[0][i][1]]))\n",
    "    print(env.game.round.trace[i*4:(i+1)*4])\n",
    "    # print(\"Score: {} : {}\".format(_trajectories[0][i][0]['obs'][5][0][0], _trajectories[0][i][0]['obs'][5][0][1]))\n",
    "    print()\n",
    "\n",
    "print(env.game.round.score)\n"
   ]
  }
 ]
}